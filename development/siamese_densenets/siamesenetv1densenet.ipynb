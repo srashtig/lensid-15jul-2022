{
 "cells": [
  {
   "cell_type": "code",
   "execution_count": 1,
   "id": "0aee79a1",
   "metadata": {
    "_cell_guid": "b1076dfc-b9ad-4769-8c92-a6c4dae69d19",
    "_uuid": "8f2839f25d086af736a60e9eeb907d3b93b6e0e5",
    "papermill": {
     "duration": 6.852655,
     "end_time": "2022-08-12T08:03:55.307133",
     "exception": false,
     "start_time": "2022-08-12T08:03:48.454478",
     "status": "completed"
    },
    "tags": []
   },
   "outputs": [],
   "source": [
    "import numpy as np\n",
    "import pandas as pd\n",
    "from cv2 import imread\n",
    "import ml_utils as ml\n",
    "import matplotlib.pyplot as plt\n",
    "\n",
    "import h5py\n",
    "from numpy.core.defchararray import add\n",
    "\n",
    "import cv2\n",
    "import tensorflow as tf\n",
    "from tensorflow import keras\n",
    "import tensorflow.keras.backend as K\n",
    "from tensorflow.keras import optimizers\n",
    "from tensorflow.keras.models import Model, load_model\n",
    "from tensorflow.keras.layers import (Input,Dense,Flatten, \n",
    "                                     Conv2D ,MaxPool2D,\n",
    "                                     GlobalAvgPool2D,\n",
    "                                     Activation, Dropout,\n",
    "                                     concatenate, ReLU,LeakyReLU,\n",
    "                                    Lambda,BatchNormalization,\n",
    "                                    SeparableConv2D)\n",
    "from tensorflow.keras.regularizers import l2\n",
    "from tensorflow.keras.callbacks import (ModelCheckpoint,\n",
    "                                        EarlyStopping)\n",
    "from sklearn.model_selection import train_test_split\n",
    "\n",
    "from sklearn.metrics import confusion_matrix,accuracy_score"
   ]
  },
  {
   "cell_type": "code",
   "execution_count": 2,
   "id": "eddbd9d8-c0fd-41b7-aec3-a9e1788411ac",
   "metadata": {},
   "outputs": [
    {
     "name": "stdout",
     "output_type": "stream",
     "text": [
      "~/.conda/envs/tensorflowenvpy39/bin/ipython\n"
     ]
    }
   ],
   "source": [
    "!which ipython"
   ]
  },
  {
   "cell_type": "markdown",
   "id": "34bd3412",
   "metadata": {
    "papermill": {
     "duration": 0.010056,
     "end_time": "2022-08-12T08:03:55.327950",
     "exception": false,
     "start_time": "2022-08-12T08:03:55.317894",
     "status": "completed"
    },
    "tags": []
   },
   "source": [
    "# Loading Data"
   ]
  },
  {
   "cell_type": "code",
   "execution_count": 3,
   "id": "756062e7-a614-4920-b8c7-2af23a718cef",
   "metadata": {},
   "outputs": [],
   "source": [
    "data_dir_old = '/home/srashti.goyal/alice_data_lensid/qts/train/'\n",
    "data_dir_ml2p0 = '/home/srashti.goyal/lensid_runs/ML_2p0_AnalyticalPsd/data/qts/train/'"
   ]
  },
  {
   "cell_type": "code",
   "execution_count": 4,
   "id": "2e59dab2-7dc3-4de6-910c-1ff00baf999f",
   "metadata": {},
   "outputs": [],
   "source": [
    "data_dir_ml1p0 = '/home/srashti.goyal/lensid_runs/ML_1p0_AnalyticalPsd/data/qts/train/'\n"
   ]
  },
  {
   "cell_type": "code",
   "execution_count": 5,
   "id": "bcb680ec-2c87-48c2-93a4-ffa892457bd3",
   "metadata": {},
   "outputs": [],
   "source": [
    "mode = 'ml1p0' # old, 'ml1p0', 'ml2p0','ml1p0_qmode2','ml1p0_whiten'\n",
    "\n"
   ]
  },
  {
   "cell_type": "markdown",
   "id": "2336f16b-9be1-4636-80be-5ae81f0a07a2",
   "metadata": {},
   "source": [
    "# Training"
   ]
  },
  {
   "cell_type": "code",
   "execution_count": 6,
   "id": "a72c9b61-1211-41f7-8ed8-d1092f086829",
   "metadata": {},
   "outputs": [],
   "source": [
    "lensed_df = '/home/srashti.goyal/lensid_runs/ML_2p0_AnalyticalPsd/data/dataframes/train/lensed.csv'"
   ]
  },
  {
   "cell_type": "code",
   "execution_count": 7,
   "id": "234f9a21-8ee2-44ac-b78c-bd82d9c1fb8e",
   "metadata": {},
   "outputs": [],
   "source": [
    "lensed_df_old = '../lensed_old.csv'"
   ]
  },
  {
   "cell_type": "code",
   "execution_count": 8,
   "id": "7880e432-73af-47b2-abde-e94f5230adc3",
   "metadata": {},
   "outputs": [],
   "source": [
    "unlensed_df = '/home/srashti.goyal/lensid_runs/ML_2p0_AnalyticalPsd/data/dataframes/train/unlensed_half.csv'"
   ]
  },
  {
   "cell_type": "code",
   "execution_count": 9,
   "id": "c6bbdd92",
   "metadata": {
    "papermill": {
     "duration": 0.079206,
     "end_time": "2022-08-12T08:03:55.416797",
     "exception": false,
     "start_time": "2022-08-12T08:03:55.337591",
     "status": "completed"
    },
    "tags": []
   },
   "outputs": [
    {
     "data": {
      "text/html": [
       "<div>\n",
       "<style scoped>\n",
       "    .dataframe tbody tr th:only-of-type {\n",
       "        vertical-align: middle;\n",
       "    }\n",
       "\n",
       "    .dataframe tbody tr th {\n",
       "        vertical-align: top;\n",
       "    }\n",
       "\n",
       "    .dataframe thead th {\n",
       "        text-align: right;\n",
       "    }\n",
       "</style>\n",
       "<table border=\"1\" class=\"dataframe\">\n",
       "  <thead>\n",
       "    <tr style=\"text-align: right;\">\n",
       "      <th></th>\n",
       "      <th>img_0</th>\n",
       "      <th>img_1</th>\n",
       "      <th>Lensing</th>\n",
       "    </tr>\n",
       "  </thead>\n",
       "  <tbody>\n",
       "    <tr>\n",
       "      <th>2808</th>\n",
       "      <td>2808_0</td>\n",
       "      <td>2808_1</td>\n",
       "      <td>1</td>\n",
       "    </tr>\n",
       "    <tr>\n",
       "      <th>2809</th>\n",
       "      <td>2809_0</td>\n",
       "      <td>2809_1</td>\n",
       "      <td>1</td>\n",
       "    </tr>\n",
       "    <tr>\n",
       "      <th>2810</th>\n",
       "      <td>2810_0</td>\n",
       "      <td>2810_1</td>\n",
       "      <td>1</td>\n",
       "    </tr>\n",
       "    <tr>\n",
       "      <th>2811</th>\n",
       "      <td>2811_0</td>\n",
       "      <td>2811_1</td>\n",
       "      <td>1</td>\n",
       "    </tr>\n",
       "    <tr>\n",
       "      <th>2812</th>\n",
       "      <td>2812_0</td>\n",
       "      <td>2812_1</td>\n",
       "      <td>1</td>\n",
       "    </tr>\n",
       "  </tbody>\n",
       "</table>\n",
       "</div>"
      ],
      "text/plain": [
       "       img_0   img_1  Lensing\n",
       "2808  2808_0  2808_1        1\n",
       "2809  2809_0  2809_1        1\n",
       "2810  2810_0  2810_1        1\n",
       "2811  2811_0  2811_1        1\n",
       "2812  2812_0  2812_1        1"
      ]
     },
     "execution_count": 9,
     "metadata": {},
     "output_type": "execute_result"
    }
   ],
   "source": [
    "df_lensed = pd.read_csv(lensed_df)#pd.read_csv(\"/kaggle/input/q-tranforms-mat-gen-scripts/Lensed_full_qtransforms/Lensed_dataset_full.csv\" )\n",
    "df_lensed=df_lensed.drop(columns=['Unnamed: 0'])\n",
    "df_lensed.tail()"
   ]
  },
  {
   "cell_type": "code",
   "execution_count": 10,
   "id": "079f0289",
   "metadata": {
    "papermill": {
     "duration": 1.573981,
     "end_time": "2022-08-12T08:03:57.001052",
     "exception": false,
     "start_time": "2022-08-12T08:03:55.427071",
     "status": "completed"
    },
    "tags": []
   },
   "outputs": [
    {
     "data": {
      "text/html": [
       "<div>\n",
       "<style scoped>\n",
       "    .dataframe tbody tr th:only-of-type {\n",
       "        vertical-align: middle;\n",
       "    }\n",
       "\n",
       "    .dataframe tbody tr th {\n",
       "        vertical-align: top;\n",
       "    }\n",
       "\n",
       "    .dataframe thead th {\n",
       "        text-align: right;\n",
       "    }\n",
       "</style>\n",
       "<table border=\"1\" class=\"dataframe\">\n",
       "  <thead>\n",
       "    <tr style=\"text-align: right;\">\n",
       "      <th></th>\n",
       "      <th>img_0</th>\n",
       "      <th>img_1</th>\n",
       "      <th>Lensing</th>\n",
       "    </tr>\n",
       "  </thead>\n",
       "  <tbody>\n",
       "    <tr>\n",
       "      <th>124745</th>\n",
       "      <td>496</td>\n",
       "      <td>498</td>\n",
       "      <td>0</td>\n",
       "    </tr>\n",
       "    <tr>\n",
       "      <th>124746</th>\n",
       "      <td>496</td>\n",
       "      <td>499</td>\n",
       "      <td>0</td>\n",
       "    </tr>\n",
       "    <tr>\n",
       "      <th>124747</th>\n",
       "      <td>497</td>\n",
       "      <td>498</td>\n",
       "      <td>0</td>\n",
       "    </tr>\n",
       "    <tr>\n",
       "      <th>124748</th>\n",
       "      <td>497</td>\n",
       "      <td>499</td>\n",
       "      <td>0</td>\n",
       "    </tr>\n",
       "    <tr>\n",
       "      <th>124749</th>\n",
       "      <td>498</td>\n",
       "      <td>499</td>\n",
       "      <td>0</td>\n",
       "    </tr>\n",
       "  </tbody>\n",
       "</table>\n",
       "</div>"
      ],
      "text/plain": [
       "        img_0  img_1  Lensing\n",
       "124745    496    498        0\n",
       "124746    496    499        0\n",
       "124747    497    498        0\n",
       "124748    497    499        0\n",
       "124749    498    499        0"
      ]
     },
     "execution_count": 10,
     "metadata": {},
     "output_type": "execute_result"
    }
   ],
   "source": [
    "df_unlensed = pd.read_csv(unlensed_df)#pd.read_csv(\"/kaggle/input/q-tranforms-mat-gen-scripts/Unlensed_full_qtransforms/Unlensed_dataset_full.csv\" )\n",
    "df_unlensed=df_unlensed.drop(columns=['Unnamed: 0'])\n",
    "df_unlensed.tail()"
   ]
  },
  {
   "cell_type": "code",
   "execution_count": 11,
   "id": "0a586bca",
   "metadata": {
    "papermill": {
     "duration": 0.159181,
     "end_time": "2022-08-12T08:03:57.202824",
     "exception": false,
     "start_time": "2022-08-12T08:03:57.043643",
     "status": "completed"
    },
    "tags": []
   },
   "outputs": [
    {
     "data": {
      "text/html": [
       "<div>\n",
       "<style scoped>\n",
       "    .dataframe tbody tr th:only-of-type {\n",
       "        vertical-align: middle;\n",
       "    }\n",
       "\n",
       "    .dataframe tbody tr th {\n",
       "        vertical-align: top;\n",
       "    }\n",
       "\n",
       "    .dataframe thead th {\n",
       "        text-align: right;\n",
       "    }\n",
       "</style>\n",
       "<table border=\"1\" class=\"dataframe\">\n",
       "  <thead>\n",
       "    <tr style=\"text-align: right;\">\n",
       "      <th></th>\n",
       "      <th>img_0</th>\n",
       "      <th>img_1</th>\n",
       "      <th>Lensing</th>\n",
       "    </tr>\n",
       "  </thead>\n",
       "  <tbody>\n",
       "    <tr>\n",
       "      <th>0</th>\n",
       "      <td>1090_0</td>\n",
       "      <td>1090_1</td>\n",
       "      <td>1</td>\n",
       "    </tr>\n",
       "    <tr>\n",
       "      <th>1</th>\n",
       "      <td>84</td>\n",
       "      <td>91</td>\n",
       "      <td>0</td>\n",
       "    </tr>\n",
       "    <tr>\n",
       "      <th>2</th>\n",
       "      <td>772_0</td>\n",
       "      <td>772_1</td>\n",
       "      <td>1</td>\n",
       "    </tr>\n",
       "    <tr>\n",
       "      <th>3</th>\n",
       "      <td>1110_0</td>\n",
       "      <td>1110_1</td>\n",
       "      <td>1</td>\n",
       "    </tr>\n",
       "    <tr>\n",
       "      <th>4</th>\n",
       "      <td>1</td>\n",
       "      <td>96</td>\n",
       "      <td>0</td>\n",
       "    </tr>\n",
       "    <tr>\n",
       "      <th>...</th>\n",
       "      <td>...</td>\n",
       "      <td>...</td>\n",
       "      <td>...</td>\n",
       "    </tr>\n",
       "    <tr>\n",
       "      <th>2815</th>\n",
       "      <td>275</td>\n",
       "      <td>366</td>\n",
       "      <td>0</td>\n",
       "    </tr>\n",
       "    <tr>\n",
       "      <th>2816</th>\n",
       "      <td>1095_0</td>\n",
       "      <td>1095_1</td>\n",
       "      <td>1</td>\n",
       "    </tr>\n",
       "    <tr>\n",
       "      <th>2817</th>\n",
       "      <td>1130_0</td>\n",
       "      <td>1130_1</td>\n",
       "      <td>1</td>\n",
       "    </tr>\n",
       "    <tr>\n",
       "      <th>2818</th>\n",
       "      <td>1294_0</td>\n",
       "      <td>1294_1</td>\n",
       "      <td>1</td>\n",
       "    </tr>\n",
       "    <tr>\n",
       "      <th>2819</th>\n",
       "      <td>860_0</td>\n",
       "      <td>860_1</td>\n",
       "      <td>1</td>\n",
       "    </tr>\n",
       "  </tbody>\n",
       "</table>\n",
       "<p>2820 rows × 3 columns</p>\n",
       "</div>"
      ],
      "text/plain": [
       "       img_0   img_1  Lensing\n",
       "0     1090_0  1090_1        1\n",
       "1         84      91        0\n",
       "2      772_0   772_1        1\n",
       "3     1110_0  1110_1        1\n",
       "4          1      96        0\n",
       "...      ...     ...      ...\n",
       "2815     275     366        0\n",
       "2816  1095_0  1095_1        1\n",
       "2817  1130_0  1130_1        1\n",
       "2818  1294_0  1294_1        1\n",
       "2819   860_0   860_1        1\n",
       "\n",
       "[2820 rows x 3 columns]"
      ]
     },
     "execution_count": 11,
     "metadata": {},
     "output_type": "execute_result"
    }
   ],
   "source": [
    "# size of the training dataset\n",
    "size=1410 # for each lensed and unlensed\n",
    "\n",
    "# to choose test dataset different from the train one remember this random state.\n",
    "df_unlensed=df_unlensed.sample(frac = 1,random_state = 42).reset_index(drop = True)[:size]\n",
    "df_lensed=df_lensed[:size]\n",
    "\n",
    "# training data set\n",
    "df_train = pd.concat([df_lensed,df_unlensed],ignore_index = True)\n",
    "df_train=df_train.sample(frac = 1,random_state = 42).reset_index(drop = True)[:2*size]\n",
    "df_train"
   ]
  },
  {
   "cell_type": "code",
   "execution_count": 12,
   "id": "697d3d38-425e-4144-9d93-b3c056271b0e",
   "metadata": {},
   "outputs": [],
   "source": [
    "det='H1'\n",
    "x_train_0,x_train_1, labels,missing_ids=ml.generate_resize_siamese_fm(df_train).Siamese_input_matrix(\n",
    "        det,\n",
    "        data_mode_dense=\"current\",\n",
    "        data_dir=data_dir_ml1p0)"
   ]
  },
  {
   "cell_type": "code",
   "execution_count": 13,
   "id": "be19c9a9",
   "metadata": {
    "papermill": {
     "duration": 61.851984,
     "end_time": "2022-08-12T08:04:59.152432",
     "exception": false,
     "start_time": "2022-08-12T08:03:57.300448",
     "status": "completed"
    },
    "tags": []
   },
   "outputs": [
    {
     "data": {
      "text/plain": [
       "(1.0, 0.0039525693, 1.0, 0.0039525693, (2820, 128, 128, 3))"
      ]
     },
     "execution_count": 13,
     "metadata": {},
     "output_type": "execute_result"
    }
   ],
   "source": [
    "# the set of images 0 and 1 being given to the siamese network\n",
    "#x_train_0 = read_spectograms(img_0_paths,img_rows,img_cols,as_gray,in_channel)\n",
    "#x_train_1 = read_spectograms(img_1_paths,img_rows,img_cols,as_gray,in_channel)\n",
    "#labels = df_train.Lensing.values\n",
    "IMG_SHAPE = x_train_0[0].shape#(128,128,1)\n",
    "np.max(x_train_0), np.min(x_train_0),np.max(x_train_1), np.min(x_train_1),x_train_1.shape"
   ]
  },
  {
   "cell_type": "code",
   "execution_count": 14,
   "id": "7feeb743",
   "metadata": {
    "papermill": {
     "duration": 0.017932,
     "end_time": "2022-08-12T08:04:59.181564",
     "exception": false,
     "start_time": "2022-08-12T08:04:59.163632",
     "status": "completed"
    },
    "tags": []
   },
   "outputs": [],
   "source": [
    "#x_train_0, x_train_1 = x_train_0[:,:,:,1], x_train_1[:,:,:,1]\n",
    "#x_train_0, x_train_1 = [np.expand_dims(arr,axis=-1) for arr in [x_train_0,x_train_1]]\n",
    "#x_train_0.shape, x_train_1.shape"
   ]
  },
  {
   "cell_type": "code",
   "execution_count": 15,
   "id": "3dfc5da4",
   "metadata": {
    "papermill": {
     "duration": 0.797345,
     "end_time": "2022-08-12T08:04:59.989721",
     "exception": false,
     "start_time": "2022-08-12T08:04:59.192376",
     "status": "completed"
    },
    "tags": []
   },
   "outputs": [
    {
     "data": {
      "text/plain": [
       "((5640, 128, 128, 3), (5640, 128, 128, 3), (5640,))"
      ]
     },
     "execution_count": 15,
     "metadata": {},
     "output_type": "execute_result"
    }
   ],
   "source": [
    "# double the dataset by flipping the images in x_train_0 and x_train_1\n",
    "x_train_a = np.vstack([x_train_0,x_train_1])\n",
    "x_train_b = np.vstack([x_train_1,x_train_0])\n",
    "y_train = np.hstack([labels,labels])\n",
    "x_train_a.shape, x_train_b.shape, y_train.shape"
   ]
  },
  {
   "cell_type": "code",
   "execution_count": 16,
   "id": "b56cf793",
   "metadata": {
    "papermill": {
     "duration": 0.659729,
     "end_time": "2022-08-12T08:05:00.660632",
     "exception": false,
     "start_time": "2022-08-12T08:05:00.000903",
     "status": "completed"
    },
    "tags": []
   },
   "outputs": [
    {
     "name": "stdout",
     "output_type": "stream",
     "text": [
      "0\n"
     ]
    }
   ],
   "source": [
    "def tr_te_split(x_train_a,x_train_b,y_train,split=0.2):\n",
    "    rng = np.random.default_rng()\n",
    "    n_train = len(y_train)\n",
    "    idx = np.arange(n_train)\n",
    "    rng.shuffle(idx)\n",
    "    x_train_a = x_train_a[idx]\n",
    "    x_train_b = x_train_b[idx]\n",
    "    y_train = y_train[idx]\n",
    "    split_idx = int(n_train*split)\n",
    "    #split = lambda arr, idx : arr[idx:], arr[:idx]\n",
    "    x_tr_a, x_te_a = x_train_a[split_idx:], x_train_a[:split_idx]\n",
    "    x_tr_b, x_te_b = x_train_b[split_idx:], x_train_b[:split_idx]\n",
    "    y_tr, y_te = y_train[split_idx:], y_train[:split_idx]\n",
    "    return (x_tr_a,x_tr_b), (x_te_a,x_te_b), (y_tr,y_te)\n",
    "\n",
    "(x_tr_a,x_tr_b), (x_val_a,x_val_b), (y_tr,y_val) = tr_te_split(x_train_a,\n",
    "                                                              x_train_b,\n",
    "                                                              y_train,\n",
    "                                                              split=0.2)\n",
    "\n",
    "print(len(x_tr_a)+len(x_val_b)-len(x_train_a))\n",
    "\n",
    "del x_train_a, x_train_b, y_train, x_train_0, x_train_1"
   ]
  },
  {
   "cell_type": "markdown",
   "id": "10a1f58d",
   "metadata": {
    "papermill": {
     "duration": 0.010668,
     "end_time": "2022-08-12T08:05:00.682242",
     "exception": false,
     "start_time": "2022-08-12T08:05:00.671574",
     "status": "completed"
    },
    "tags": []
   },
   "source": [
    "# Siamese Network"
   ]
  },
  {
   "cell_type": "code",
   "execution_count": 17,
   "id": "bfcaa5ae",
   "metadata": {
    "papermill": {
     "duration": 0.027784,
     "end_time": "2022-08-12T08:05:00.720953",
     "exception": false,
     "start_time": "2022-08-12T08:05:00.693169",
     "status": "completed"
    },
    "tags": []
   },
   "outputs": [],
   "source": [
    "def conv_bn(x, filters, kernel_size, strides=1):\n",
    "    x = Conv2D(filters=filters,\n",
    "               kernel_size=kernel_size,\n",
    "               strides=strides,\n",
    "               padding='same',\n",
    "               use_bias=True)(x)\n",
    "    x = BatchNormalization()(x)\n",
    "    return x\n",
    "\n",
    "def sep_bn(x, filters, kernel_size, strides=1):\n",
    "    x = SeparableConv2D(filters=filters,\n",
    "                        kernel_size=kernel_size,\n",
    "                        strides=strides,\n",
    "                        padding='same',\n",
    "                        use_bias=True)(x)\n",
    "    x = BatchNormalization()(x)\n",
    "    return x\n",
    "\n",
    "def siamese_feature_extractor(inputShape, embeddingDim=3):\n",
    "    inputs = Input(inputShape)\n",
    "    x = conv_bn(x=inputs, filters=16, kernel_size=1, strides=1)\n",
    "    x = ReLU()(x) # 256,256,16\n",
    "\n",
    "    x = sep_bn(x=x, filters=32, kernel_size=5, strides=2)\n",
    "    x = ReLU()(x) # 128,128,32\n",
    "    x = sep_bn(x=x, filters=64, kernel_size=5, strides=2)\n",
    "\n",
    "    x = MaxPool2D(pool_size=3, strides=2, padding='same')(x) \n",
    "\n",
    "    x = ReLU()(x) # 64,64,64\n",
    "    x = sep_bn(x=x, filters=128, kernel_size=3, strides=2)\n",
    "    x = ReLU()(x) # 32,32,128\n",
    "    x = sep_bn(x=x, filters=256, kernel_size=3, strides=2) # 16,16,256\n",
    "\n",
    "    x = ReLU()(x) # 8,8,256\n",
    "\n",
    "    x = GlobalAvgPool2D()(x) # 1,1,256\n",
    "\n",
    "    x = Dropout(rate=0.1)(x)\n",
    "\n",
    "    x = Dense(units=64, activation='elu')(x)\n",
    "    x = Dense(units=16, activation='elu')(x)\n",
    "    output = Dense(units=embeddingDim, activation='elu')(x)\n",
    "    \n",
    "    model = Model(inputs=inputs, outputs=output)\n",
    "    \n",
    "    return model\n",
    "\n",
    "def euclidean_distance(vectors):\n",
    "    # unpack the vectors into separate lists\n",
    "    (featsA, featsB) = vectors\n",
    "    # compute the sum of squared distances between the vectors\n",
    "    sumSquared = K.sum(K.square(featsA - featsB), axis=1,keepdims=True)\n",
    "    # return the euclidean distance between the vectors\n",
    "    return K.sqrt(K.maximum(sumSquared, K.epsilon()))\n",
    "\n",
    "def contrastive_loss(y, preds, margin=0.3):\n",
    "    # explicitly cast the true class label data type to the predicted\n",
    "    # class label data type (otherwise we run the risk of having two\n",
    "    # separate data types, causing TensorFlow to error out)\n",
    "    y = tf.cast(y, preds.dtype)\n",
    "    # calculate the contrastive loss between the true labels and\n",
    "    # the predicted labels\n",
    "    squaredPreds = K.square(preds)\n",
    "    squaredMargin = K.square(K.maximum(margin - preds, 0))\n",
    "    loss = K.mean(y * squaredPreds + (1 - y) * squaredMargin)\n",
    "    # return the computed contrastive loss to the calling function\n",
    "    return loss"
   ]
  },
  {
   "cell_type": "code",
   "execution_count": 18,
   "id": "998c5ce8-f9ef-4fec-8f2a-e3742e781f38",
   "metadata": {},
   "outputs": [],
   "source": [
    "def lrfn(epoch):\n",
    "    \"\"\"Helper function for training densnets, returns the learning rate at\n",
    "    each epoch.\"\"\"\n",
    "    LR_START = 0.00001\n",
    "    LR_MAX = 0.00005 *8 # * strategy.num_replicas_in_sync\n",
    "    LR_MIN = 0.00001\n",
    "    LR_RAMPUP_EPOCHS = 5\n",
    "    LR_SUSTAIN_EPOCHS = 0\n",
    "    LR_EXP_DECAY = 0.8\n",
    "\n",
    "    if epoch < LR_RAMPUP_EPOCHS:\n",
    "        lr = (LR_MAX - LR_START) / LR_RAMPUP_EPOCHS * epoch + LR_START\n",
    "    elif epoch < LR_RAMPUP_EPOCHS + LR_SUSTAIN_EPOCHS:\n",
    "        lr = LR_MAX\n",
    "    else:\n",
    "        lr = (LR_MAX - LR_MIN) * LR_EXP_DECAY ** (\n",
    "            epoch - LR_RAMPUP_EPOCHS - LR_SUSTAIN_EPOCHS\n",
    "        ) + LR_MIN\n",
    "    return lr\n",
    "\n",
    "\n",
    "def siamese_densenet_feature_extractor(input_shape=(128, 128, 3),kernel_lr=0.01,embeddingDim=3):\n",
    "\n",
    "\n",
    "    pre_model = tf.keras.applications.DenseNet201(\n",
    "        input_shape=(128, 128, 3), weights=\"imagenet\", include_top=0\n",
    "    )\n",
    "\n",
    "    pre_model.trainable = 1\n",
    "    model = tf.keras.Sequential(\n",
    "        [\n",
    "            pre_model,\n",
    "            tf.keras.layers.GlobalAveragePooling2D(),\n",
    "            tf.keras.layers.Dense(\n",
    "                16,\n",
    "                activation=\"relu\",\n",
    "                kernel_initializer=\"he_uniform\",\n",
    "                kernel_regularizer=l2(kernel_lr),\n",
    "            ),\n",
    "                tf.keras.layers.Dense(units=embeddingDim, activation='elu')\n",
    "\n",
    "                #tf.keras.layers.Dense(1, activation=\"sigmoid\"),\n",
    "        ]\n",
    "    )\n",
    "\n",
    "    return model"
   ]
  },
  {
   "cell_type": "code",
   "execution_count": 19,
   "id": "f4d26f8a",
   "metadata": {
    "papermill": {
     "duration": 3.386221,
     "end_time": "2022-08-12T08:05:04.117844",
     "exception": false,
     "start_time": "2022-08-12T08:05:00.731623",
     "status": "completed"
    },
    "tags": []
   },
   "outputs": [
    {
     "name": "stdout",
     "output_type": "stream",
     "text": [
      "[INFO] building siamese network...\n"
     ]
    },
    {
     "name": "stderr",
     "output_type": "stream",
     "text": [
      "2022-09-06 02:42:40.489418: I tensorflow/core/platform/cpu_feature_guard.cc:193] This TensorFlow binary is optimized with oneAPI Deep Neural Network Library (oneDNN) to use the following CPU instructions in performance-critical operations:  AVX2 FMA\n",
      "To enable them in other operations, rebuild TensorFlow with the appropriate compiler flags.\n",
      "2022-09-06 02:42:42.237034: I tensorflow/core/common_runtime/gpu/gpu_device.cc:1532] Created device /job:localhost/replica:0/task:0/device:GPU:0 with 78993 MB memory:  -> device: 0, name: NVIDIA A100-SXM4-80GB, pci bus id: 0000:01:00.0, compute capability: 8.0\n",
      "2022-09-06 02:42:42.238507: I tensorflow/core/common_runtime/gpu/gpu_device.cc:1532] Created device /job:localhost/replica:0/task:0/device:GPU:1 with 78993 MB memory:  -> device: 1, name: NVIDIA A100-SXM4-80GB, pci bus id: 0000:41:00.0, compute capability: 8.0\n",
      "2022-09-06 02:42:42.239580: I tensorflow/core/common_runtime/gpu/gpu_device.cc:1532] Created device /job:localhost/replica:0/task:0/device:GPU:2 with 78993 MB memory:  -> device: 2, name: NVIDIA A100-SXM4-80GB, pci bus id: 0000:81:00.0, compute capability: 8.0\n",
      "2022-09-06 02:42:42.240785: I tensorflow/core/common_runtime/gpu/gpu_device.cc:1532] Created device /job:localhost/replica:0/task:0/device:GPU:3 with 78993 MB memory:  -> device: 3, name: NVIDIA A100-SXM4-80GB, pci bus id: 0000:c1:00.0, compute capability: 8.0\n"
     ]
    }
   ],
   "source": [
    "print(\"[INFO] building siamese network...\")\n",
    "imgA = Input(shape=IMG_SHAPE)\n",
    "imgB = Input(shape=IMG_SHAPE)\n",
    "featureExtractor = siamese_densenet_feature_extractor(IMG_SHAPE,kernel_lr=0.05)#siamese_feature_extractor(IMG_SHAPE)\n",
    "featsA = featureExtractor(imgA)\n",
    "featsB = featureExtractor(imgB)\n",
    "# finally, construct the siamese network\n",
    "distance = Lambda(euclidean_distance)([featsA, featsB])\n",
    "model = Model(inputs=[imgA, imgB], outputs=distance)"
   ]
  },
  {
   "cell_type": "code",
   "execution_count": 20,
   "id": "395a731f-a3ba-49b0-bb94-c3a1aa4d4622",
   "metadata": {},
   "outputs": [
    {
     "data": {
      "text/plain": [
       "(128, 128, 3)"
      ]
     },
     "execution_count": 20,
     "metadata": {},
     "output_type": "execute_result"
    }
   ],
   "source": [
    "IMG_SHAPE"
   ]
  },
  {
   "cell_type": "code",
   "execution_count": 20,
   "id": "d5790fc9",
   "metadata": {
    "papermill": {
     "duration": 513.990761,
     "end_time": "2022-08-12T08:13:38.119754",
     "exception": false,
     "start_time": "2022-08-12T08:05:04.128993",
     "status": "completed"
    },
    "tags": []
   },
   "outputs": [
    {
     "name": "stdout",
     "output_type": "stream",
     "text": [
      "[INFO] compiling model...\n",
      "[INFO] training model...\n",
      "Epoch 1/30\n"
     ]
    },
    {
     "name": "stderr",
     "output_type": "stream",
     "text": [
      "2022-09-06 02:43:11.794854: I tensorflow/stream_executor/cuda/cuda_dnn.cc:384] Loaded cuDNN version 8100\n",
      "2022-09-06 02:43:12.366053: I tensorflow/core/platform/default/subprocess.cc:304] Start cannot spawn child process: No such file or directory\n",
      "2022-09-06 02:43:13.674582: I tensorflow/stream_executor/cuda/cuda_blas.cc:1786] TensorFloat-32 will be used for the matrix multiplication. This will only be logged once.\n"
     ]
    },
    {
     "name": "stdout",
     "output_type": "stream",
     "text": [
      "141/141 [==============================] - 49s 173ms/step - loss: 0.4615 - val_loss: 0.1216\n",
      "Epoch 2/30\n",
      "141/141 [==============================] - 20s 144ms/step - loss: 0.0573 - val_loss: 0.0296\n",
      "Epoch 3/30\n",
      "141/141 [==============================] - 20s 145ms/step - loss: 0.0192 - val_loss: 0.0119\n",
      "Epoch 4/30\n",
      "141/141 [==============================] - 20s 142ms/step - loss: 0.0099 - val_loss: 0.0082\n",
      "Epoch 5/30\n",
      "141/141 [==============================] - 21s 152ms/step - loss: 0.0094 - val_loss: 0.0097\n",
      "Epoch 6/30\n",
      "141/141 [==============================] - 21s 150ms/step - loss: 0.0070 - val_loss: 0.0072\n",
      "Epoch 7/30\n",
      "141/141 [==============================] - 20s 144ms/step - loss: 0.0045 - val_loss: 0.0053\n",
      "Epoch 8/30\n",
      "141/141 [==============================] - 21s 148ms/step - loss: 0.0048 - val_loss: 0.0041\n",
      "Epoch 9/30\n",
      "141/141 [==============================] - 21s 148ms/step - loss: 0.0032 - val_loss: 0.0037\n",
      "Epoch 10/30\n",
      "141/141 [==============================] - 20s 143ms/step - loss: 0.0035 - val_loss: 0.0059\n",
      "Epoch 11/30\n",
      "141/141 [==============================] - 20s 142ms/step - loss: 0.0088 - val_loss: 0.0081\n",
      "Epoch 12/30\n",
      "141/141 [==============================] - 20s 143ms/step - loss: 0.0063 - val_loss: 0.0059\n",
      "Epoch 13/30\n",
      "141/141 [==============================] - 20s 142ms/step - loss: 0.0047 - val_loss: 0.0097\n",
      "Epoch 14/30\n",
      "141/141 [==============================] - 20s 141ms/step - loss: 0.0033 - val_loss: 0.0035\n",
      "Epoch 15/30\n",
      "141/141 [==============================] - 20s 143ms/step - loss: 0.0024 - val_loss: 0.0025\n",
      "Epoch 16/30\n",
      "141/141 [==============================] - 21s 146ms/step - loss: 0.0029 - val_loss: 0.0133\n",
      "Epoch 17/30\n",
      "141/141 [==============================] - 21s 147ms/step - loss: 0.0050 - val_loss: 0.0046\n",
      "Epoch 18/30\n",
      "141/141 [==============================] - 21s 148ms/step - loss: 0.0027 - val_loss: 0.0037\n",
      "Epoch 19/30\n",
      "141/141 [==============================] - 21s 146ms/step - loss: 0.0079 - val_loss: 0.0215\n",
      "Epoch 20/30\n",
      "141/141 [==============================] - 20s 141ms/step - loss: 0.0113 - val_loss: 0.0067\n",
      "Epoch 21/30\n",
      "141/141 [==============================] - 20s 141ms/step - loss: 0.0053 - val_loss: 0.0068\n",
      "Epoch 22/30\n",
      "141/141 [==============================] - 21s 147ms/step - loss: 0.0054 - val_loss: 0.0162\n",
      "Epoch 23/30\n",
      "141/141 [==============================] - 20s 145ms/step - loss: 0.0089 - val_loss: 0.0119\n",
      "Epoch 24/30\n",
      "141/141 [==============================] - 20s 141ms/step - loss: 0.0042 - val_loss: 0.0087\n",
      "Epoch 25/30\n",
      "141/141 [==============================] - 20s 143ms/step - loss: 0.0032 - val_loss: 0.0051\n",
      "Epoch 26/30\n",
      "141/141 [==============================] - 20s 143ms/step - loss: 0.0040 - val_loss: 0.0047\n",
      "Epoch 27/30\n",
      "141/141 [==============================] - 20s 143ms/step - loss: 0.0025 - val_loss: 0.0070\n",
      "Epoch 28/30\n",
      "141/141 [==============================] - 20s 142ms/step - loss: 0.0122 - val_loss: 0.0117\n",
      "Epoch 29/30\n",
      "141/141 [==============================] - 21s 148ms/step - loss: 0.0075 - val_loss: 0.0085\n",
      "Epoch 30/30\n",
      "141/141 [==============================] - 21s 148ms/step - loss: 0.0054 - val_loss: 0.0059\n",
      "Model: \"model\"\n",
      "__________________________________________________________________________________________________\n",
      " Layer (type)                   Output Shape         Param #     Connected to                     \n",
      "==================================================================================================\n",
      " input_2 (InputLayer)           [(None, 128, 128, 3  0           []                               \n",
      "                                )]                                                                \n",
      "                                                                                                  \n",
      " input_3 (InputLayer)           [(None, 128, 128, 3  0           []                               \n",
      "                                )]                                                                \n",
      "                                                                                                  \n",
      " sequential (Sequential)        (None, 3)            18352771    ['input_2[0][0]',                \n",
      "                                                                  'input_3[0][0]']                \n",
      "                                                                                                  \n",
      " lambda (Lambda)                (None, 1)            0           ['sequential[0][0]',             \n",
      "                                                                  'sequential[1][0]']             \n",
      "                                                                                                  \n",
      "==================================================================================================\n",
      "Total params: 18,352,771\n",
      "Trainable params: 18,123,715\n",
      "Non-trainable params: 229,056\n",
      "__________________________________________________________________________________________________\n"
     ]
    }
   ],
   "source": [
    "BATCH_SIZE = 32\n",
    "EPOCHS = 30 #15\n",
    "margin = 0.2 #0.1, 0.5\n",
    "\n",
    "# compile the model\n",
    "print(\"[INFO] compiling model...\")\n",
    "model.compile(loss=contrastive_loss, optimizer=\"adam\")\n",
    "# train the model\n",
    "print(\"[INFO] training model...\")\n",
    "history = model.fit([x_tr_a, x_tr_b],y_tr,\n",
    "                    validation_data=([x_val_a, x_val_b], y_val),\n",
    "                    batch_size=BATCH_SIZE,epochs=EPOCHS)#,callbacks=lr_schedule)\n",
    "model.summary()"
   ]
  },
  {
   "cell_type": "markdown",
   "id": "be5f6a7c",
   "metadata": {
    "papermill": {
     "duration": 0.369985,
     "end_time": "2022-08-12T08:13:38.911793",
     "exception": false,
     "start_time": "2022-08-12T08:13:38.541808",
     "status": "completed"
    },
    "tags": []
   },
   "source": [
    "# Visualizing the Learned Similarity Score"
   ]
  },
  {
   "cell_type": "code",
   "execution_count": 21,
   "id": "2b8e760d",
   "metadata": {
    "papermill": {
     "duration": 5.244976,
     "end_time": "2022-08-12T08:13:44.527957",
     "exception": false,
     "start_time": "2022-08-12T08:13:39.282981",
     "status": "completed"
    },
    "tags": []
   },
   "outputs": [
    {
     "name": "stdout",
     "output_type": "stream",
     "text": [
      "141/141 [==============================] - 10s 42ms/step\n"
     ]
    }
   ],
   "source": [
    "d_tr_pred = model.predict([x_tr_a, x_tr_b])"
   ]
  },
  {
   "cell_type": "code",
   "execution_count": 22,
   "id": "620283f8",
   "metadata": {
    "papermill": {
     "duration": 0.392031,
     "end_time": "2022-08-12T08:13:45.291554",
     "exception": false,
     "start_time": "2022-08-12T08:13:44.899523",
     "status": "completed"
    },
    "tags": []
   },
   "outputs": [
    {
     "data": {
      "text/plain": [
       "(0.04031698, 0.063316084)"
      ]
     },
     "execution_count": 22,
     "metadata": {},
     "output_type": "execute_result"
    }
   ],
   "source": [
    "idx_true = np.where(y_tr==1)\n",
    "idx_false = np.where(y_tr==0)\n",
    "np.mean(d_tr_pred[idx_true]), np.std(d_tr_pred[idx_true])"
   ]
  },
  {
   "cell_type": "code",
   "execution_count": 23,
   "id": "b20eca09",
   "metadata": {
    "papermill": {
     "duration": 0.785224,
     "end_time": "2022-08-12T08:13:46.445751",
     "exception": false,
     "start_time": "2022-08-12T08:13:45.660527",
     "status": "completed"
    },
    "tags": []
   },
   "outputs": [
    {
     "data": {
      "image/png": "[encoded data removed]",
      "text/plain": [
       "<Figure size 640x480 with 1 Axes>"
      ]
     },
     "metadata": {},
     "output_type": "display_data"
    }
   ],
   "source": [
    "plt.hist(d_tr_pred[idx_true],color='b',alpha=0.4,label = 'positive pairs')\n",
    "plt.hist(d_tr_pred[idx_false],color='r',alpha=0.4, label= 'negative pairs')\n",
    "plt.xlabel('distance between pairs')\n",
    "plt.ylabel('population')\n",
    "plt.legend(loc='best')\n",
    "plt.show()"
   ]
  },
  {
   "cell_type": "code",
   "execution_count": 24,
   "id": "50de882d",
   "metadata": {
    "papermill": {
     "duration": 1.99455,
     "end_time": "2022-08-12T08:13:48.808205",
     "exception": false,
     "start_time": "2022-08-12T08:13:46.813655",
     "status": "completed"
    },
    "tags": []
   },
   "outputs": [
    {
     "name": "stdout",
     "output_type": "stream",
     "text": [
      "36/36 [==============================] - 5s 43ms/step\n"
     ]
    },
    {
     "data": {
      "image/png": "[encoded data removed]",
      "text/plain": [
       "<Figure size 640x480 with 1 Axes>"
      ]
     },
     "metadata": {},
     "output_type": "display_data"
    }
   ],
   "source": [
    "d_val_pred = model.predict([x_val_a, x_val_b])\n",
    "idx_val_true = np.where(y_val==1)\n",
    "idx_val_false = np.where(y_val==0)\n",
    "\n",
    "plt.hist(d_val_pred[idx_val_true],color='b',alpha=0.4,label = 'positive pairs')\n",
    "plt.hist(d_val_pred[idx_val_false],color='r',alpha=0.4, label= 'negative pairs')\n",
    "plt.xlabel('distance between pairs')\n",
    "plt.ylabel('population')\n",
    "plt.legend(loc='best')\n",
    "plt.show()"
   ]
  },
  {
   "cell_type": "markdown",
   "id": "1f28eb36",
   "metadata": {
    "papermill": {
     "duration": 0.416245,
     "end_time": "2022-08-12T08:13:49.617522",
     "exception": false,
     "start_time": "2022-08-12T08:13:49.201277",
     "status": "completed"
    },
    "tags": []
   },
   "source": [
    "# Making Predictions\n",
    "\n",
    "Start with an ad hoc procedure. The pair is lensed if the distance between the two images in embedding space is less than or equal to the mean+std dev of distance of positive images in the train set.\n",
    "\n",
    "Later we will refine this."
   ]
  },
  {
   "cell_type": "code",
   "execution_count": 25,
   "id": "118d8b65",
   "metadata": {
    "papermill": {
     "duration": 0.394886,
     "end_time": "2022-08-12T08:13:50.386262",
     "exception": false,
     "start_time": "2022-08-12T08:13:49.991376",
     "status": "completed"
    },
    "tags": []
   },
   "outputs": [
    {
     "data": {
      "text/plain": [
       "0.10363306"
      ]
     },
     "execution_count": 25,
     "metadata": {},
     "output_type": "execute_result"
    }
   ],
   "source": [
    "threshold = np.mean(d_tr_pred[idx_true])+ np.std(d_tr_pred[idx_true])\n",
    "threshold"
   ]
  },
  {
   "cell_type": "code",
   "execution_count": 26,
   "id": "04a4064e",
   "metadata": {
    "papermill": {
     "duration": 0.384817,
     "end_time": "2022-08-12T08:13:51.184489",
     "exception": false,
     "start_time": "2022-08-12T08:13:50.799672",
     "status": "completed"
    },
    "tags": []
   },
   "outputs": [
    {
     "data": {
      "text/plain": [
       "(0.046444234, 0.07093706, 0.7013038, 0.42342782)"
      ]
     },
     "execution_count": 26,
     "metadata": {},
     "output_type": "execute_result"
    }
   ],
   "source": [
    "idx_true = np.where(y_val==1)\n",
    "idx_false = np.where(y_val==0)\n",
    "np.mean(d_val_pred[idx_true]), np.std(d_val_pred[idx_true]),np.mean(d_val_pred[idx_false]), np.std(d_val_pred[idx_false])"
   ]
  },
  {
   "cell_type": "code",
   "execution_count": 27,
   "id": "ee9c37cc",
   "metadata": {
    "papermill": {
     "duration": 0.425793,
     "end_time": "2022-08-12T08:13:51.984832",
     "exception": false,
     "start_time": "2022-08-12T08:13:51.559039",
     "status": "completed"
    },
    "tags": []
   },
   "outputs": [],
   "source": [
    "lensed = np.where(np.squeeze(d_val_pred)<=threshold)\n",
    "unlensed = np.where(np.squeeze(d_val_pred)>threshold)"
   ]
  },
  {
   "cell_type": "code",
   "execution_count": 28,
   "id": "72d3f9e0",
   "metadata": {
    "papermill": {
     "duration": 0.379273,
     "end_time": "2022-08-12T08:13:52.732666",
     "exception": false,
     "start_time": "2022-08-12T08:13:52.353393",
     "status": "completed"
    },
    "tags": []
   },
   "outputs": [],
   "source": [
    "y_pred = 2.*np.ones_like(y_val)\n",
    "y_pred[lensed] = 1\n",
    "y_pred[unlensed] = 0"
   ]
  },
  {
   "cell_type": "code",
   "execution_count": 29,
   "id": "8d370fa0",
   "metadata": {
    "papermill": {
     "duration": 0.438429,
     "end_time": "2022-08-12T08:13:53.541038",
     "exception": false,
     "start_time": "2022-08-12T08:13:53.102609",
     "status": "completed"
    },
    "tags": []
   },
   "outputs": [
    {
     "data": {
      "text/plain": [
       "(array([[567,  14],\n",
       "        [ 68, 479]]),\n",
       " 0.9273049645390071)"
      ]
     },
     "execution_count": 29,
     "metadata": {},
     "output_type": "execute_result"
    }
   ],
   "source": [
    "confusion_matrix(y_val,y_pred), accuracy_score(y_val,y_pred)"
   ]
  },
  {
   "cell_type": "markdown",
   "id": "b4772c1b",
   "metadata": {
    "papermill": {
     "duration": 0.370724,
     "end_time": "2022-08-12T08:13:54.294798",
     "exception": false,
     "start_time": "2022-08-12T08:13:53.924074",
     "status": "completed"
    },
    "tags": []
   },
   "source": [
    "# Computing Precision and Recall\n",
    "\n",
    "\\begin{equation}\n",
    "precision = \\frac{TP}{TP+FP}\\,, \\qquad recall = \\frac{TP}{TP+FN}\n",
    "\\end{equation}\n",
    "\n",
    "if our classifier is perfect then false positives (fp) and false negatives (fn) are both zero. precision and recall are both 1. \n",
    "\n",
    "We would therefore like to tune our classifier so that precision and recall are simultaneously as close to 1 as possible."
   ]
  },
  {
   "cell_type": "code",
   "execution_count": 30,
   "id": "82b99bb4",
   "metadata": {
    "papermill": {
     "duration": 0.684117,
     "end_time": "2022-08-12T08:13:55.344020",
     "exception": false,
     "start_time": "2022-08-12T08:13:54.659903",
     "status": "completed"
    },
    "tags": []
   },
   "outputs": [],
   "source": [
    "from sklearn.metrics import precision_score, recall_score"
   ]
  },
  {
   "cell_type": "code",
   "execution_count": 31,
   "id": "9fe2b7b1",
   "metadata": {
    "papermill": {
     "duration": 0.599423,
     "end_time": "2022-08-12T08:13:56.319303",
     "exception": false,
     "start_time": "2022-08-12T08:13:55.719880",
     "status": "completed"
    },
    "tags": []
   },
   "outputs": [
    {
     "name": "stderr",
     "output_type": "stream",
     "text": [
      "/home/srashti.goyal/.conda/envs/tensorflowenvpy39/lib/python3.9/site-packages/sklearn/metrics/_classification.py:1334: UndefinedMetricWarning: Precision is ill-defined and being set to 0.0 due to no predicted samples. Use `zero_division` parameter to control this behavior.\n",
      "  _warn_prf(average, modifier, msg_start, len(result))\n"
     ]
    }
   ],
   "source": [
    "thresholds = np.arange(0,0.4,1e-2)\n",
    "precision, recall = [], []\n",
    "\n",
    "for threshold in thresholds:\n",
    "    idx_true = np.where(y_tr==1)\n",
    "    idx_false = np.where(y_tr==0)\n",
    "    lensed = np.where(np.squeeze(d_tr_pred)<=threshold)\n",
    "    unlensed = np.where(np.squeeze(d_tr_pred)>threshold)\n",
    "    y_pred = 2.*np.ones_like(y_tr)\n",
    "    y_pred[lensed] = 1\n",
    "    y_pred[unlensed] = 0\n",
    "    prec, rec = precision_score(y_tr,y_pred), recall_score(y_tr,y_pred)\n",
    "    precision.append(prec)\n",
    "    recall.append(rec)\n",
    "    "
   ]
  },
  {
   "cell_type": "code",
   "execution_count": 32,
   "id": "0b77a013",
   "metadata": {
    "papermill": {
     "duration": 0.629439,
     "end_time": "2022-08-12T08:13:57.338916",
     "exception": false,
     "start_time": "2022-08-12T08:13:56.709477",
     "status": "completed"
    },
    "tags": []
   },
   "outputs": [
    {
     "data": {
      "image/png": "[encoded data removed]",
      "text/plain": [
       "<Figure size 640x480 with 1 Axes>"
      ]
     },
     "metadata": {},
     "output_type": "display_data"
    }
   ],
   "source": [
    "plt.plot(thresholds, precision, 'b--', label='Precision')\n",
    "plt.plot(thresholds, recall, 'g-',label='recall')\n",
    "plt.legend(loc='best')\n",
    "plt.xlabel('threshold')\n",
    "plt.grid('both')\n",
    "plt.show()"
   ]
  },
  {
   "cell_type": "code",
   "execution_count": 33,
   "id": "06f9607a",
   "metadata": {
    "papermill": {
     "duration": 0.542108,
     "end_time": "2022-08-12T08:13:58.256777",
     "exception": false,
     "start_time": "2022-08-12T08:13:57.714669",
     "status": "completed"
    },
    "tags": []
   },
   "outputs": [
    {
     "data": {
      "image/png": "[encoded data removed]",
      "text/plain": [
       "<Figure size 640x480 with 1 Axes>"
      ]
     },
     "metadata": {},
     "output_type": "display_data"
    }
   ],
   "source": [
    "plt.plot(recall,precision)\n",
    "plt.show()"
   ]
  },
  {
   "cell_type": "markdown",
   "id": "c63a5f2c",
   "metadata": {
    "papermill": {
     "duration": 0.37002,
     "end_time": "2022-08-12T08:13:59.041491",
     "exception": false,
     "start_time": "2022-08-12T08:13:58.671471",
     "status": "completed"
    },
    "tags": []
   },
   "source": [
    "The first curve suggests that the threshold should be about 0.12"
   ]
  },
  {
   "cell_type": "code",
   "execution_count": 35,
   "id": "144e36fa",
   "metadata": {
    "papermill": {
     "duration": 0.381812,
     "end_time": "2022-08-12T08:13:59.793471",
     "exception": false,
     "start_time": "2022-08-12T08:13:59.411659",
     "status": "completed"
    },
    "tags": []
   },
   "outputs": [
    {
     "data": {
      "text/plain": [
       "0.1"
      ]
     },
     "execution_count": 35,
     "metadata": {},
     "output_type": "execute_result"
    }
   ],
   "source": [
    "t_idx = np.argmin(np.abs(np.asarray(precision)-np.asarray(recall))[1:])\n",
    "thresholds[t_idx]"
   ]
  },
  {
   "cell_type": "code",
   "execution_count": 36,
   "id": "1af6a8da",
   "metadata": {
    "papermill": {
     "duration": 0.388924,
     "end_time": "2022-08-12T08:14:00.601877",
     "exception": false,
     "start_time": "2022-08-12T08:14:00.212953",
     "status": "completed"
    },
    "tags": []
   },
   "outputs": [
    {
     "data": {
      "text/plain": [
       "(array([[531,  24],\n",
       "        [ 43, 530]]),\n",
       " 0.9406028368794326)"
      ]
     },
     "execution_count": 36,
     "metadata": {},
     "output_type": "execute_result"
    }
   ],
   "source": [
    "threshold = thresholds[t_idx]\n",
    "\n",
    "idx_true = np.where(y_val==1)\n",
    "idx_false = np.where(y_val==0)\n",
    "\n",
    "lensed = np.where(np.squeeze(d_val_pred)<=threshold)\n",
    "unlensed = np.where(np.squeeze(d_val_pred)>threshold)\n",
    "\n",
    "y_pred = 2.*np.ones_like(y_val)\n",
    "y_pred[lensed] = 1\n",
    "y_pred[unlensed] = 0\n",
    "\n",
    "confusion_matrix(y_val,y_pred), accuracy_score(y_val,y_pred)"
   ]
  },
  {
   "cell_type": "markdown",
   "id": "9f296d08",
   "metadata": {
    "papermill": {
     "duration": 0.416881,
     "end_time": "2022-08-12T08:14:01.391341",
     "exception": false,
     "start_time": "2022-08-12T08:14:00.974460",
     "status": "completed"
    },
    "tags": []
   },
   "source": [
    "# Plot ROC curve"
   ]
  },
  {
   "cell_type": "code",
   "execution_count": 37,
   "id": "80ba6768",
   "metadata": {
    "papermill": {
     "duration": 0.542439,
     "end_time": "2022-08-12T08:14:02.303970",
     "exception": false,
     "start_time": "2022-08-12T08:14:01.761531",
     "status": "completed"
    },
    "tags": []
   },
   "outputs": [],
   "source": [
    "thresholds = np.arange(0,0.4,1e-2)\n",
    "tprs, fprs = [], []\n",
    "\n",
    "for threshold in thresholds:\n",
    "    idx_true = np.where(y_tr==1)\n",
    "    idx_false = np.where(y_tr==0)\n",
    "    lensed = np.where(np.squeeze(d_tr_pred)<=threshold)\n",
    "    unlensed= np.where(np.squeeze(d_tr_pred)>threshold)\n",
    "    y_pred = 2.*np.ones_like(y_tr)\n",
    "    y_pred[lensed] = 1\n",
    "    y_pred[unlensed] = 0\n",
    "    tpr = recall_score(y_tr,y_pred)\n",
    "    C = confusion_matrix(y_tr,y_pred)\n",
    "    fpr = C[0,1]/(C[0,0]+C[0,1])\n",
    "    tprs.append(tpr)\n",
    "    fprs.append(fpr)"
   ]
  },
  {
   "cell_type": "code",
   "execution_count": 38,
   "id": "e4596136",
   "metadata": {
    "papermill": {
     "duration": 0.605331,
     "end_time": "2022-08-12T08:14:03.288703",
     "exception": false,
     "start_time": "2022-08-12T08:14:02.683372",
     "status": "completed"
    },
    "tags": []
   },
   "outputs": [
    {
     "data": {
      "image/png": "[encoded data removed]",
      "text/plain": [
       "<Figure size 640x480 with 1 Axes>"
      ]
     },
     "metadata": {},
     "output_type": "display_data"
    }
   ],
   "source": [
    "plt.plot(fprs,tprs,linewidth=2,label='ROC curve')\n",
    "plt.plot([0,1],[0,1],'k--')\n",
    "plt.grid('both')\n",
    "plt.xlabel('False Positive Rate')\n",
    "plt.ylabel('True Positive Rate (Recall)')\n",
    "plt.show()"
   ]
  },
  {
   "cell_type": "code",
   "execution_count": 39,
   "id": "af91da1e",
   "metadata": {
    "papermill": {
     "duration": 1.193482,
     "end_time": "2022-08-12T08:14:04.849238",
     "exception": false,
     "start_time": "2022-08-12T08:14:03.655756",
     "status": "completed"
    },
    "tags": []
   },
   "outputs": [
    {
     "data": {
      "image/png": "[encoded data removed]",
      "text/plain": [
       "<Figure size 640x480 with 1 Axes>"
      ]
     },
     "metadata": {},
     "output_type": "display_data"
    }
   ],
   "source": [
    "thresholds = np.arange(0,0.4,1e-2)\n",
    "tprs, fprs = [], []\n",
    "\n",
    "for threshold in thresholds:\n",
    "    idx_true = np.where(y_val==1)\n",
    "    idx_false = np.where(y_val==0)\n",
    "    lensed = np.where(np.squeeze(d_val_pred)<=threshold)\n",
    "    unlensed= np.where(np.squeeze(d_val_pred)>threshold)\n",
    "    y_pred = 2.*np.ones_like(y_val)\n",
    "    y_pred[lensed] = 1\n",
    "    y_pred[unlensed] = 0\n",
    "    tpr = recall_score(y_val,y_pred)\n",
    "    C = confusion_matrix(y_val,y_pred)\n",
    "    fpr = C[0,1]/(C[0,0]+C[0,1])\n",
    "    tprs.append(tpr)\n",
    "    fprs.append(fpr)\n",
    "plt.plot(fprs,tprs,linewidth=2,label='ROC curve')\n",
    "#plt.plot([0,1],[0,1],'k--')\n",
    "plt.xscale('log')\n",
    "\n",
    "plt.grid('both')\n",
    "plt.xlabel('False Positive Rate')\n",
    "plt.ylabel('True Positive Rate (Recall)')\n",
    "plt.show()"
   ]
  },
  {
   "cell_type": "code",
   "execution_count": 40,
   "id": "707d2a16",
   "metadata": {
    "papermill": {
     "duration": 1.318293,
     "end_time": "2022-08-12T08:14:06.589907",
     "exception": false,
     "start_time": "2022-08-12T08:14:05.271614",
     "status": "completed"
    },
    "tags": []
   },
   "outputs": [
    {
     "data": {
      "text/html": [
       "<div>\n",
       "<style scoped>\n",
       "    .dataframe tbody tr th:only-of-type {\n",
       "        vertical-align: middle;\n",
       "    }\n",
       "\n",
       "    .dataframe tbody tr th {\n",
       "        vertical-align: top;\n",
       "    }\n",
       "\n",
       "    .dataframe thead th {\n",
       "        text-align: right;\n",
       "    }\n",
       "</style>\n",
       "<table border=\"1\" class=\"dataframe\">\n",
       "  <thead>\n",
       "    <tr style=\"text-align: right;\">\n",
       "      <th></th>\n",
       "      <th>img_0</th>\n",
       "      <th>img_1</th>\n",
       "      <th>Lensing</th>\n",
       "    </tr>\n",
       "  </thead>\n",
       "  <tbody>\n",
       "    <tr>\n",
       "      <th>124745</th>\n",
       "      <td>496</td>\n",
       "      <td>498</td>\n",
       "      <td>0</td>\n",
       "    </tr>\n",
       "    <tr>\n",
       "      <th>124746</th>\n",
       "      <td>496</td>\n",
       "      <td>499</td>\n",
       "      <td>0</td>\n",
       "    </tr>\n",
       "    <tr>\n",
       "      <th>124747</th>\n",
       "      <td>497</td>\n",
       "      <td>498</td>\n",
       "      <td>0</td>\n",
       "    </tr>\n",
       "    <tr>\n",
       "      <th>124748</th>\n",
       "      <td>497</td>\n",
       "      <td>499</td>\n",
       "      <td>0</td>\n",
       "    </tr>\n",
       "    <tr>\n",
       "      <th>124749</th>\n",
       "      <td>498</td>\n",
       "      <td>499</td>\n",
       "      <td>0</td>\n",
       "    </tr>\n",
       "  </tbody>\n",
       "</table>\n",
       "</div>"
      ],
      "text/plain": [
       "        img_0  img_1  Lensing\n",
       "124745    496    498        0\n",
       "124746    496    499        0\n",
       "124747    497    498        0\n",
       "124748    497    499        0\n",
       "124749    498    499        0"
      ]
     },
     "execution_count": 40,
     "metadata": {},
     "output_type": "execute_result"
    }
   ],
   "source": [
    "# test \n",
    "\n",
    "df_unlensed = pd.read_csv(unlensed_df)#pd.read_csv(\"/kaggle/input/q-tranforms-mat-gen-scripts/Unlensed_full_qtransforms/Unlensed_dataset_full.csv\" )\n",
    "df_unlensed=df_unlensed.drop(columns=['Unnamed: 0'])\n",
    "df_unlensed.tail()"
   ]
  },
  {
   "cell_type": "code",
   "execution_count": 41,
   "id": "c16dbd79",
   "metadata": {
    "papermill": {
     "duration": 0.761994,
     "end_time": "2022-08-12T08:14:07.940915",
     "exception": false,
     "start_time": "2022-08-12T08:14:07.178921",
     "status": "completed"
    },
    "tags": []
   },
   "outputs": [
    {
     "data": {
      "text/html": [
       "<div>\n",
       "<style scoped>\n",
       "    .dataframe tbody tr th:only-of-type {\n",
       "        vertical-align: middle;\n",
       "    }\n",
       "\n",
       "    .dataframe tbody tr th {\n",
       "        vertical-align: top;\n",
       "    }\n",
       "\n",
       "    .dataframe thead th {\n",
       "        text-align: right;\n",
       "    }\n",
       "</style>\n",
       "<table border=\"1\" class=\"dataframe\">\n",
       "  <thead>\n",
       "    <tr style=\"text-align: right;\">\n",
       "      <th></th>\n",
       "      <th>img_0</th>\n",
       "      <th>img_1</th>\n",
       "      <th>Lensing</th>\n",
       "    </tr>\n",
       "  </thead>\n",
       "  <tbody>\n",
       "    <tr>\n",
       "      <th>0</th>\n",
       "      <td>2</td>\n",
       "      <td>22</td>\n",
       "      <td>0</td>\n",
       "    </tr>\n",
       "    <tr>\n",
       "      <th>1</th>\n",
       "      <td>108</td>\n",
       "      <td>185</td>\n",
       "      <td>0</td>\n",
       "    </tr>\n",
       "    <tr>\n",
       "      <th>2</th>\n",
       "      <td>1073_0</td>\n",
       "      <td>1073_1</td>\n",
       "      <td>1</td>\n",
       "    </tr>\n",
       "    <tr>\n",
       "      <th>3</th>\n",
       "      <td>233</td>\n",
       "      <td>469</td>\n",
       "      <td>0</td>\n",
       "    </tr>\n",
       "    <tr>\n",
       "      <th>4</th>\n",
       "      <td>1076_0</td>\n",
       "      <td>1076_1</td>\n",
       "      <td>1</td>\n",
       "    </tr>\n",
       "    <tr>\n",
       "      <th>...</th>\n",
       "      <td>...</td>\n",
       "      <td>...</td>\n",
       "      <td>...</td>\n",
       "    </tr>\n",
       "    <tr>\n",
       "      <th>795</th>\n",
       "      <td>1081_0</td>\n",
       "      <td>1081_1</td>\n",
       "      <td>1</td>\n",
       "    </tr>\n",
       "    <tr>\n",
       "      <th>796</th>\n",
       "      <td>1116_0</td>\n",
       "      <td>1116_1</td>\n",
       "      <td>1</td>\n",
       "    </tr>\n",
       "    <tr>\n",
       "      <th>797</th>\n",
       "      <td>1280_0</td>\n",
       "      <td>1280_1</td>\n",
       "      <td>1</td>\n",
       "    </tr>\n",
       "    <tr>\n",
       "      <th>798</th>\n",
       "      <td>176</td>\n",
       "      <td>447</td>\n",
       "      <td>0</td>\n",
       "    </tr>\n",
       "    <tr>\n",
       "      <th>799</th>\n",
       "      <td>1112_0</td>\n",
       "      <td>1112_1</td>\n",
       "      <td>1</td>\n",
       "    </tr>\n",
       "  </tbody>\n",
       "</table>\n",
       "<p>800 rows × 3 columns</p>\n",
       "</div>"
      ],
      "text/plain": [
       "      img_0   img_1  Lensing\n",
       "0         2      22        0\n",
       "1       108     185        0\n",
       "2    1073_0  1073_1        1\n",
       "3       233     469        0\n",
       "4    1076_0  1076_1        1\n",
       "..      ...     ...      ...\n",
       "795  1081_0  1081_1        1\n",
       "796  1116_0  1116_1        1\n",
       "797  1280_0  1280_1        1\n",
       "798     176     447        0\n",
       "799  1112_0  1112_1        1\n",
       "\n",
       "[800 rows x 3 columns]"
      ]
     },
     "execution_count": 41,
     "metadata": {},
     "output_type": "execute_result"
    }
   ],
   "source": [
    "size_test = 400\n",
    "\n",
    "# to choose test dataset different from the train one remember this random state.\n",
    "df_unlensed=df_unlensed.sample(frac = 1,random_state = 42).reset_index(drop = True)[-size_test:]\n",
    "df_lensed=df_lensed[-size_test:]\n",
    "\n",
    "# testing data set\n",
    "df_test = pd.concat([df_lensed,df_unlensed],ignore_index = True)\n",
    "df_test=df_test.sample(frac = 1,random_state = 42).reset_index(drop = True)[:2*size_test]\n",
    "df_test"
   ]
  },
  {
   "cell_type": "code",
   "execution_count": 42,
   "id": "fc40db96",
   "metadata": {
    "papermill": {
     "duration": 0.390535,
     "end_time": "2022-08-12T08:14:08.706387",
     "exception": false,
     "start_time": "2022-08-12T08:14:08.315852",
     "status": "completed"
    },
    "tags": []
   },
   "outputs": [],
   "source": [
    "x_test_0,x_test_1, labels,missing_ids=ml.generate_resize_siamese_fm(df_test).Siamese_input_matrix(\n",
    "        det,\n",
    "        data_mode_dense=\"current\",\n",
    "        data_dir=data_dir_ml1p0)"
   ]
  },
  {
   "cell_type": "code",
   "execution_count": 43,
   "id": "9d543956",
   "metadata": {
    "papermill": {
     "duration": 5.898022,
     "end_time": "2022-08-12T08:14:14.976826",
     "exception": false,
     "start_time": "2022-08-12T08:14:09.078804",
     "status": "completed"
    },
    "tags": []
   },
   "outputs": [],
   "source": [
    "\n",
    "# the set of images 0 and 1 being given to the siamese network\n",
    "#x_test_0 = read_spectograms(img_0_paths,img_rows,img_cols,as_gray,in_channel)\n",
    "#x_test_1 = read_spectograms(img_1_paths,img_rows,img_cols,as_gray,in_channel)\n",
    "#labels = df_test.Lensing.values\n",
    "IMG_SHAPE = x_test_0[0].shape#(128,128,1)\n",
    "#np.max(x_train_0), np.min(x_train_0),np.max(x_train_1), np.min(x_train_1),x_train_1.shape"
   ]
  },
  {
   "cell_type": "code",
   "execution_count": 44,
   "id": "27da1262",
   "metadata": {
    "papermill": {
     "duration": 1.635982,
     "end_time": "2022-08-12T08:14:16.985294",
     "exception": false,
     "start_time": "2022-08-12T08:14:15.349312",
     "status": "completed"
    },
    "tags": []
   },
   "outputs": [
    {
     "name": "stdout",
     "output_type": "stream",
     "text": [
      "25/25 [==============================] - 1s 45ms/step\n"
     ]
    },
    {
     "data": {
      "image/png": "[encoded data removed]",
      "text/plain": [
       "<Figure size 640x480 with 1 Axes>"
      ]
     },
     "metadata": {},
     "output_type": "display_data"
    }
   ],
   "source": [
    "d_test_pred = model.predict([x_test_0, x_test_1])\n",
    "idx_test_true = np.where(labels==1)\n",
    "idx_test_false = np.where(labels==0)\n",
    "\n",
    "plt.hist(d_test_pred[idx_test_true],color='b',alpha=0.4,label = 'positive pairs')\n",
    "plt.hist(d_test_pred[idx_test_false],color='r',alpha=0.4, label= 'negative pairs')\n",
    "plt.xlabel('distance between pairs')\n",
    "plt.ylabel('population')\n",
    "plt.legend(loc='best')\n",
    "plt.show()"
   ]
  },
  {
   "cell_type": "code",
   "execution_count": 45,
   "id": "b6a4deba",
   "metadata": {
    "papermill": {
     "duration": 0.445285,
     "end_time": "2022-08-12T08:14:17.936488",
     "exception": false,
     "start_time": "2022-08-12T08:14:17.491203",
     "status": "completed"
    },
    "tags": []
   },
   "outputs": [
    {
     "data": {
      "text/plain": [
       "(array([[353,  47],\n",
       "        [ 13, 387]]),\n",
       " 0.925)"
      ]
     },
     "execution_count": 45,
     "metadata": {},
     "output_type": "execute_result"
    }
   ],
   "source": [
    "threshold = thresholds[t_idx]\n",
    "\n",
    "\n",
    "lensed = np.where(np.squeeze(d_test_pred)<=threshold)\n",
    "unlensed = np.where(np.squeeze(d_test_pred)>threshold)\n",
    "\n",
    "y_pred = 2.*np.ones_like(labels)\n",
    "y_pred[lensed] = 1\n",
    "y_pred[unlensed] = 0\n",
    "\n",
    "confusion_matrix(labels,y_pred), accuracy_score(labels,y_pred)"
   ]
  },
  {
   "cell_type": "code",
   "execution_count": 46,
   "id": "93bd7050",
   "metadata": {
    "papermill": {
     "duration": 0.760891,
     "end_time": "2022-08-12T08:14:19.069575",
     "exception": false,
     "start_time": "2022-08-12T08:14:18.308684",
     "status": "completed"
    },
    "tags": []
   },
   "outputs": [
    {
     "data": {
      "image/png": "[encoded data removed]",
      "text/plain": [
       "<Figure size 640x480 with 1 Axes>"
      ]
     },
     "metadata": {},
     "output_type": "display_data"
    }
   ],
   "source": [
    "thresholds = np.arange(0,0.4,1e-2)\n",
    "tprs, fprs = [], []\n",
    "\n",
    "for threshold in thresholds:\n",
    "    idx_true = np.where(labels==1)\n",
    "    idx_false = np.where(labels==0)\n",
    "    lensed = np.where(np.squeeze(d_test_pred)<=threshold)\n",
    "    unlensed= np.where(np.squeeze(d_test_pred)>threshold)\n",
    "    y_pred = 2.*np.ones_like(labels)\n",
    "    y_pred[lensed] = 1\n",
    "    y_pred[unlensed] = 0\n",
    "    tpr = recall_score(labels,y_pred)\n",
    "    C = confusion_matrix(labels,y_pred)\n",
    "    fpr = C[0,1]/(C[0,0]+C[0,1])\n",
    "    tprs.append(tpr)\n",
    "    fprs.append(fpr)\n",
    "plt.plot(fprs,tprs,linewidth=2,label='ROC curve')\n",
    "plt.ylim(0.4,1.01)\n",
    "#plt.plot([0,1],[0,1],'k--')\n",
    "plt.xscale('log')\n",
    "\n",
    "plt.grid('both')\n",
    "plt.xlabel('False Positive Rate')\n",
    "plt.ylabel('True Positive Rate (Recall)')\n",
    "plt.show()"
   ]
  },
  {
   "cell_type": "code",
   "execution_count": 47,
   "id": "4c5bc1d7-4c6f-4e10-b004-993c6b9532d3",
   "metadata": {},
   "outputs": [],
   "source": [
    "model_name='siamese_dense_05092022_kr_0.05'\n",
    "model.trainable = True\n",
    "model.save(model_name+'.h5')"
   ]
  },
  {
   "cell_type": "markdown",
   "id": "ef539a1d",
   "metadata": {
    "papermill": {
     "duration": 0.373715,
     "end_time": "2022-08-12T08:14:19.867759",
     "exception": false,
     "start_time": "2022-08-12T08:14:19.494044",
     "status": "completed"
    },
    "tags": []
   },
   "source": [
    "# Test with Haris et al."
   ]
  },
  {
   "cell_type": "code",
   "execution_count": 48,
   "id": "743d6f9c-aa67-4ecc-b408-c906cd99fae2",
   "metadata": {},
   "outputs": [],
   "source": [
    "def contrastive_loss(y, preds, margin=0.3):\n",
    "    # explicitly cast the true class label data type to the predicted\n",
    "    # class label data type (otherwise we run the risk of having two\n",
    "    # separate data types, causing TensorFlow to error out)\n",
    "    y = tf.cast(y, preds.dtype)\n",
    "    # calculate the contrastive loss between the true labels and\n",
    "    # the predicted labels\n",
    "    squaredPreds = K.square(preds)\n",
    "    squaredMargin = K.square(K.maximum(margin - preds, 0))\n",
    "    loss = K.mean(y * squaredPreds + (1 - y) * squaredMargin)\n",
    "    # return the computed contrastive loss to the calling function\n",
    "    return loss"
   ]
  },
  {
   "cell_type": "code",
   "execution_count": 49,
   "id": "2c03a50f-a763-46b5-9ac7-0030eb3ba1bb",
   "metadata": {},
   "outputs": [],
   "source": [
    "#model_name='siamese_13082022_v1'\n",
    "model = load_model(model_name+'.h5',custom_objects={'contrastive_loss':contrastive_loss})\n"
   ]
  },
  {
   "cell_type": "code",
   "execution_count": 50,
   "id": "ef643279-d9d6-4b90-b273-8f3d4282ff7c",
   "metadata": {},
   "outputs": [],
   "source": [
    "data_dir_ml1p0_test = '/home/srashti.goyal/lensid_runs/ML_1p0_AnalyticalPsd/data/qts/test/'\n",
    "\n",
    "test_df= '/home/srashti.goyal/lensid_runs/ML1p0_kaggle_results/dataframes/ML_combined_kaggle.csv'"
   ]
  },
  {
   "cell_type": "code",
   "execution_count": 51,
   "id": "0d46f737",
   "metadata": {
    "papermill": {
     "duration": 6.001813,
     "end_time": "2022-08-12T08:14:26.253072",
     "exception": false,
     "start_time": "2022-08-12T08:14:20.251259",
     "status": "completed"
    },
    "tags": []
   },
   "outputs": [
    {
     "data": {
      "text/html": [
       "<div>\n",
       "<style scoped>\n",
       "    .dataframe tbody tr th:only-of-type {\n",
       "        vertical-align: middle;\n",
       "    }\n",
       "\n",
       "    .dataframe tbody tr th {\n",
       "        vertical-align: top;\n",
       "    }\n",
       "\n",
       "    .dataframe thead th {\n",
       "        text-align: right;\n",
       "    }\n",
       "</style>\n",
       "<table border=\"1\" class=\"dataframe\">\n",
       "  <thead>\n",
       "    <tr style=\"text-align: right;\">\n",
       "      <th></th>\n",
       "      <th>Unnamed: 0</th>\n",
       "      <th>img_0</th>\n",
       "      <th>img_1</th>\n",
       "      <th>Lensing</th>\n",
       "      <th>bayestar_skymaps_blu</th>\n",
       "      <th>bayestar_skymaps_d2</th>\n",
       "      <th>bayestar_skymaps_d3</th>\n",
       "      <th>bayestar_skymaps_lsq</th>\n",
       "      <th>m1, m2, ra, sin_dec, a1, a2, costilt1, costilt2, costheta_jn</th>\n",
       "      <th>m1, m2, ra, sin_dec, costheta_jn</th>\n",
       "      <th>...</th>\n",
       "      <th>densnet_xgbsky_bayestar_mul_3</th>\n",
       "      <th>densnet_xgbsky_bayestar_mul_4</th>\n",
       "      <th>densnet_xgbsky_bayestar_mul_5</th>\n",
       "      <th>densnet_xgbsky_bayestar_mul_6</th>\n",
       "      <th>densnet_xgbsky_bayestar_mul_7</th>\n",
       "      <th>densnet_xgbsky_bayestar_mul_8</th>\n",
       "      <th>densnet_xgbsky_bayestar_mul_9</th>\n",
       "      <th>densnet_xgbsky_bayestar_mul_10</th>\n",
       "      <th>densnet_xgbsky_bayestar_mul_0_fpp</th>\n",
       "      <th>m1, m2, ra, sin_dec_fpp</th>\n",
       "    </tr>\n",
       "  </thead>\n",
       "  <tbody>\n",
       "    <tr>\n",
       "      <th>499787</th>\n",
       "      <td>499787</td>\n",
       "      <td>554245000.000000000-108490</td>\n",
       "      <td>595997000.000000000-191994</td>\n",
       "      <td>0</td>\n",
       "      <td>1.365422e-22</td>\n",
       "      <td>1.100924e-24</td>\n",
       "      <td>7.416256e-23</td>\n",
       "      <td>0.152882</td>\n",
       "      <td>1.703364e+00</td>\n",
       "      <td>1.306218e+00</td>\n",
       "      <td>...</td>\n",
       "      <td>5.617953e-11</td>\n",
       "      <td>5.323830e-11</td>\n",
       "      <td>3.781744e-11</td>\n",
       "      <td>5.754009e-11</td>\n",
       "      <td>4.617744e-11</td>\n",
       "      <td>5.093563e-11</td>\n",
       "      <td>5.437944e-11</td>\n",
       "      <td>4.355582e-11</td>\n",
       "      <td>0.820126</td>\n",
       "      <td>0.400813</td>\n",
       "    </tr>\n",
       "    <tr>\n",
       "      <th>499788</th>\n",
       "      <td>499788</td>\n",
       "      <td>653141000.000000000-306282</td>\n",
       "      <td>689564500.000000000-379129</td>\n",
       "      <td>0</td>\n",
       "      <td>1.604834e-11</td>\n",
       "      <td>1.293959e-13</td>\n",
       "      <td>1.824653e-11</td>\n",
       "      <td>0.142847</td>\n",
       "      <td>1.854477e-30</td>\n",
       "      <td>4.144270e-32</td>\n",
       "      <td>...</td>\n",
       "      <td>1.277932e-09</td>\n",
       "      <td>9.165771e-10</td>\n",
       "      <td>9.600741e-10</td>\n",
       "      <td>9.657164e-10</td>\n",
       "      <td>7.525222e-10</td>\n",
       "      <td>1.439519e-09</td>\n",
       "      <td>9.161058e-10</td>\n",
       "      <td>8.575772e-10</td>\n",
       "      <td>0.377858</td>\n",
       "      <td>0.900715</td>\n",
       "    </tr>\n",
       "    <tr>\n",
       "      <th>499789</th>\n",
       "      <td>499789</td>\n",
       "      <td>675816500.000000000-351633</td>\n",
       "      <td>588559000.000000000-177118</td>\n",
       "      <td>0</td>\n",
       "      <td>1.589665e+00</td>\n",
       "      <td>1.281728e-02</td>\n",
       "      <td>3.718310e-01</td>\n",
       "      <td>0.217838</td>\n",
       "      <td>6.472753e-06</td>\n",
       "      <td>6.622443e-06</td>\n",
       "      <td>...</td>\n",
       "      <td>2.947281e-10</td>\n",
       "      <td>3.003368e-10</td>\n",
       "      <td>2.703528e-10</td>\n",
       "      <td>3.278459e-10</td>\n",
       "      <td>2.761449e-10</td>\n",
       "      <td>3.409250e-10</td>\n",
       "      <td>3.003700e-10</td>\n",
       "      <td>2.169142e-10</td>\n",
       "      <td>0.468067</td>\n",
       "      <td>0.900711</td>\n",
       "    </tr>\n",
       "    <tr>\n",
       "      <th>499790</th>\n",
       "      <td>499790</td>\n",
       "      <td>599525500.000000000-199051</td>\n",
       "      <td>659585500.000000000-319171</td>\n",
       "      <td>0</td>\n",
       "      <td>7.492058e-01</td>\n",
       "      <td>6.040759e-03</td>\n",
       "      <td>1.743057e-02</td>\n",
       "      <td>0.094712</td>\n",
       "      <td>0.000000e+00</td>\n",
       "      <td>0.000000e+00</td>\n",
       "      <td>...</td>\n",
       "      <td>1.947911e-09</td>\n",
       "      <td>1.707155e-09</td>\n",
       "      <td>1.472434e-09</td>\n",
       "      <td>1.851704e-09</td>\n",
       "      <td>2.032786e-09</td>\n",
       "      <td>1.479124e-09</td>\n",
       "      <td>1.666960e-09</td>\n",
       "      <td>1.728036e-09</td>\n",
       "      <td>0.293131</td>\n",
       "      <td>1.000000</td>\n",
       "    </tr>\n",
       "    <tr>\n",
       "      <th>499791</th>\n",
       "      <td>499791</td>\n",
       "      <td>696527500.000000000-393055</td>\n",
       "      <td>597883000.000000000-195766</td>\n",
       "      <td>0</td>\n",
       "      <td>3.806309e-04</td>\n",
       "      <td>3.068983e-06</td>\n",
       "      <td>7.472681e-05</td>\n",
       "      <td>0.132500</td>\n",
       "      <td>4.854948e-03</td>\n",
       "      <td>9.256321e-03</td>\n",
       "      <td>...</td>\n",
       "      <td>1.270262e-08</td>\n",
       "      <td>1.760677e-08</td>\n",
       "      <td>1.613030e-08</td>\n",
       "      <td>1.972285e-08</td>\n",
       "      <td>1.262126e-08</td>\n",
       "      <td>2.006033e-08</td>\n",
       "      <td>1.477558e-08</td>\n",
       "      <td>1.330652e-08</td>\n",
       "      <td>0.156259</td>\n",
       "      <td>0.842162</td>\n",
       "    </tr>\n",
       "  </tbody>\n",
       "</table>\n",
       "<p>5 rows × 65 columns</p>\n",
       "</div>"
      ],
      "text/plain": [
       "        Unnamed: 0                       img_0                       img_1  \\\n",
       "499787      499787  554245000.000000000-108490  595997000.000000000-191994   \n",
       "499788      499788  653141000.000000000-306282  689564500.000000000-379129   \n",
       "499789      499789  675816500.000000000-351633  588559000.000000000-177118   \n",
       "499790      499790  599525500.000000000-199051  659585500.000000000-319171   \n",
       "499791      499791  696527500.000000000-393055  597883000.000000000-195766   \n",
       "\n",
       "        Lensing  bayestar_skymaps_blu  bayestar_skymaps_d2  \\\n",
       "499787        0          1.365422e-22         1.100924e-24   \n",
       "499788        0          1.604834e-11         1.293959e-13   \n",
       "499789        0          1.589665e+00         1.281728e-02   \n",
       "499790        0          7.492058e-01         6.040759e-03   \n",
       "499791        0          3.806309e-04         3.068983e-06   \n",
       "\n",
       "        bayestar_skymaps_d3  bayestar_skymaps_lsq  \\\n",
       "499787         7.416256e-23              0.152882   \n",
       "499788         1.824653e-11              0.142847   \n",
       "499789         3.718310e-01              0.217838   \n",
       "499790         1.743057e-02              0.094712   \n",
       "499791         7.472681e-05              0.132500   \n",
       "\n",
       "        m1, m2, ra, sin_dec, a1, a2, costilt1, costilt2, costheta_jn  \\\n",
       "499787                                       1.703364e+00              \n",
       "499788                                       1.854477e-30              \n",
       "499789                                       6.472753e-06              \n",
       "499790                                       0.000000e+00              \n",
       "499791                                       4.854948e-03              \n",
       "\n",
       "        m1, m2, ra, sin_dec, costheta_jn  ...  densnet_xgbsky_bayestar_mul_3  \\\n",
       "499787                      1.306218e+00  ...                   5.617953e-11   \n",
       "499788                      4.144270e-32  ...                   1.277932e-09   \n",
       "499789                      6.622443e-06  ...                   2.947281e-10   \n",
       "499790                      0.000000e+00  ...                   1.947911e-09   \n",
       "499791                      9.256321e-03  ...                   1.270262e-08   \n",
       "\n",
       "        densnet_xgbsky_bayestar_mul_4  densnet_xgbsky_bayestar_mul_5  \\\n",
       "499787                   5.323830e-11                   3.781744e-11   \n",
       "499788                   9.165771e-10                   9.600741e-10   \n",
       "499789                   3.003368e-10                   2.703528e-10   \n",
       "499790                   1.707155e-09                   1.472434e-09   \n",
       "499791                   1.760677e-08                   1.613030e-08   \n",
       "\n",
       "        densnet_xgbsky_bayestar_mul_6  densnet_xgbsky_bayestar_mul_7  \\\n",
       "499787                   5.754009e-11                   4.617744e-11   \n",
       "499788                   9.657164e-10                   7.525222e-10   \n",
       "499789                   3.278459e-10                   2.761449e-10   \n",
       "499790                   1.851704e-09                   2.032786e-09   \n",
       "499791                   1.972285e-08                   1.262126e-08   \n",
       "\n",
       "        densnet_xgbsky_bayestar_mul_8  densnet_xgbsky_bayestar_mul_9  \\\n",
       "499787                   5.093563e-11                   5.437944e-11   \n",
       "499788                   1.439519e-09                   9.161058e-10   \n",
       "499789                   3.409250e-10                   3.003700e-10   \n",
       "499790                   1.479124e-09                   1.666960e-09   \n",
       "499791                   2.006033e-08                   1.477558e-08   \n",
       "\n",
       "        densnet_xgbsky_bayestar_mul_10  densnet_xgbsky_bayestar_mul_0_fpp  \\\n",
       "499787                    4.355582e-11                           0.820126   \n",
       "499788                    8.575772e-10                           0.377858   \n",
       "499789                    2.169142e-10                           0.468067   \n",
       "499790                    1.728036e-09                           0.293131   \n",
       "499791                    1.330652e-08                           0.156259   \n",
       "\n",
       "        m1, m2, ra, sin_dec_fpp  \n",
       "499787                 0.400813  \n",
       "499788                 0.900715  \n",
       "499789                 0.900711  \n",
       "499790                 1.000000  \n",
       "499791                 0.842162  \n",
       "\n",
       "[5 rows x 65 columns]"
      ]
     },
     "execution_count": 51,
     "metadata": {},
     "output_type": "execute_result"
    }
   ],
   "source": [
    "df_test= pd.read_csv(test_df)#pd.read_csv('/kaggle/input/haris-et-al-with-all-features/Predictions_saved models haris et al 1.csv')\n",
    "df_test.tail()"
   ]
  },
  {
   "cell_type": "code",
   "execution_count": 52,
   "id": "cf03a1c3",
   "metadata": {
    "papermill": {
     "duration": 0.384138,
     "end_time": "2022-08-12T08:14:28.916591",
     "exception": false,
     "start_time": "2022-08-12T08:14:28.532453",
     "status": "completed"
    },
    "tags": []
   },
   "outputs": [],
   "source": [
    "df_test['siamese_dense_'+det] =''"
   ]
  },
  {
   "cell_type": "code",
   "execution_count": null,
   "id": "288f1d29",
   "metadata": {
    "papermill": {
     "duration": 792.509124,
     "end_time": "2022-08-12T08:27:41.796079",
     "exception": false,
     "start_time": "2022-08-12T08:14:29.286955",
     "status": "completed"
    },
    "tags": []
   },
   "outputs": [
    {
     "name": "stdout",
     "output_type": "stream",
     "text": [
      "0\n"
     ]
    },
    {
     "name": "stderr",
     "output_type": "stream",
     "text": [
      "/home/srashti.goyal/lensid/development/siamese/ml_utils.py:1113: SettingWithCopyWarning: \n",
      "A value is trying to be set on a copy of a slice from a DataFrame.\n",
      "Try using .loc[row_indexer,col_indexer] = value instead\n",
      "\n",
      "See the caveats in the documentation: https://pandas.pydata.org/pandas-docs/stable/user_guide/indexing.html#returning-a-view-versus-a-copy\n",
      "  df[\"mean_overlap_qts_\" + det],\n",
      "/home/srashti.goyal/lensid/development/siamese/ml_utils.py:1114: SettingWithCopyWarning: \n",
      "A value is trying to be set on a copy of a slice from a DataFrame.\n",
      "Try using .loc[row_indexer,col_indexer] = value instead\n",
      "\n",
      "See the caveats in the documentation: https://pandas.pydata.org/pandas-docs/stable/user_guide/indexing.html#returning-a-view-versus-a-copy\n",
      "  df[\"std_overlap_qts_\" + det],\n",
      "/home/srashti.goyal/lensid/development/siamese/ml_utils.py:1115: SettingWithCopyWarning: \n",
      "A value is trying to be set on a copy of a slice from a DataFrame.\n",
      "Try using .loc[row_indexer,col_indexer] = value instead\n",
      "\n",
      "See the caveats in the documentation: https://pandas.pydata.org/pandas-docs/stable/user_guide/indexing.html#returning-a-view-versus-a-copy\n",
      "  df[\"lsq_overlap_qts_\" + det],\n"
     ]
    },
    {
     "name": "stdout",
     "output_type": "stream",
     "text": [
      "44/44 [==============================] - 6s 59ms/step\n",
      "1400\n",
      "44/44 [==============================] - 2s 44ms/step\n",
      "2800\n",
      "44/44 [==============================] - 2s 43ms/step\n",
      "4200\n",
      "44/44 [==============================] - 2s 44ms/step\n",
      "5600\n",
      "44/44 [==============================] - 2s 43ms/step\n",
      "7000\n",
      "44/44 [==============================] - 2s 44ms/step\n",
      "8400\n",
      "44/44 [==============================] - 2s 43ms/step\n",
      "9800\n",
      "44/44 [==============================] - 2s 43ms/step\n",
      "11200\n",
      "44/44 [==============================] - 2s 43ms/step\n",
      "12600\n",
      "44/44 [==============================] - 2s 44ms/step\n",
      "14000\n",
      "44/44 [==============================] - 2s 44ms/step\n",
      "15400\n",
      "44/44 [==============================] - 2s 43ms/step\n",
      "16800\n",
      "44/44 [==============================] - 2s 43ms/step\n",
      "18200\n",
      "44/44 [==============================] - 2s 42ms/step\n",
      "19600\n",
      "44/44 [==============================] - 2s 42ms/step\n",
      "21000\n",
      "44/44 [==============================] - 2s 42ms/step\n",
      "22400\n",
      "44/44 [==============================] - 2s 41ms/step\n",
      "23800\n",
      "44/44 [==============================] - 2s 44ms/step\n",
      "25200\n",
      "44/44 [==============================] - 2s 43ms/step\n",
      "26600\n",
      "44/44 [==============================] - 2s 43ms/step\n",
      "28000\n",
      "44/44 [==============================] - 2s 43ms/step\n",
      "29400\n",
      "44/44 [==============================] - 2s 43ms/step\n",
      "30800\n",
      "44/44 [==============================] - 2s 43ms/step\n",
      "32200\n",
      "44/44 [==============================] - 2s 43ms/step\n",
      "33600\n",
      "44/44 [==============================] - 2s 43ms/step\n",
      "35000\n",
      "44/44 [==============================] - 2s 43ms/step\n",
      "36400\n",
      "44/44 [==============================] - 2s 43ms/step\n",
      "37800\n",
      "44/44 [==============================] - 2s 43ms/step\n",
      "39200\n",
      "44/44 [==============================] - 2s 42ms/step\n",
      "40600\n",
      "44/44 [==============================] - 2s 43ms/step\n",
      "42000\n",
      "44/44 [==============================] - 2s 44ms/step\n",
      "43400\n",
      "44/44 [==============================] - 2s 39ms/step\n",
      "44800\n",
      "44/44 [==============================] - 2s 41ms/step\n",
      "46200\n",
      "44/44 [==============================] - 2s 42ms/step\n",
      "47600\n",
      "44/44 [==============================] - 2s 43ms/step\n",
      "49000\n",
      "44/44 [==============================] - 2s 44ms/step\n",
      "50400\n",
      "44/44 [==============================] - 2s 43ms/step\n",
      "51800\n",
      "44/44 [==============================] - 2s 44ms/step\n",
      "53200\n",
      "44/44 [==============================] - 2s 43ms/step\n",
      "54600\n",
      "44/44 [==============================] - 2s 42ms/step\n",
      "56000\n",
      "44/44 [==============================] - 2s 43ms/step\n",
      "57400\n",
      "44/44 [==============================] - 2s 42ms/step\n",
      "58800\n",
      "44/44 [==============================] - 2s 43ms/step\n",
      "60200\n",
      "44/44 [==============================] - 2s 43ms/step\n",
      "61600\n",
      "44/44 [==============================] - 2s 44ms/step\n",
      "63000\n",
      "44/44 [==============================] - 2s 43ms/step\n",
      "64400\n",
      "44/44 [==============================] - 2s 42ms/step\n",
      "65800\n",
      "44/44 [==============================] - 2s 42ms/step\n",
      "67200\n",
      "44/44 [==============================] - 2s 42ms/step\n",
      "68600\n",
      "44/44 [==============================] - 2s 43ms/step\n",
      "70000\n",
      "44/44 [==============================] - 2s 42ms/step\n",
      "71400\n",
      "44/44 [==============================] - 2s 42ms/step\n",
      "72800\n",
      "44/44 [==============================] - 2s 42ms/step\n",
      "74200\n",
      "44/44 [==============================] - 2s 44ms/step\n",
      "75600\n",
      "44/44 [==============================] - 2s 44ms/step\n",
      "77000\n",
      "44/44 [==============================] - 2s 44ms/step\n",
      "78400\n",
      "44/44 [==============================] - 2s 44ms/step\n",
      "79800\n",
      "44/44 [==============================] - 2s 45ms/step\n",
      "81200\n",
      "44/44 [==============================] - 2s 43ms/step\n",
      "82600\n",
      "44/44 [==============================] - 2s 43ms/step\n",
      "84000\n",
      "44/44 [==============================] - 2s 43ms/step\n",
      "85400\n",
      "44/44 [==============================] - 2s 43ms/step\n",
      "86800\n",
      "44/44 [==============================] - 2s 43ms/step\n",
      "88200\n",
      "44/44 [==============================] - 2s 41ms/step\n",
      "89600\n",
      "44/44 [==============================] - 2s 43ms/step\n",
      "91000\n",
      "44/44 [==============================] - 2s 43ms/step\n",
      "92400\n",
      "44/44 [==============================] - 2s 43ms/step\n",
      "93800\n",
      "44/44 [==============================] - 2s 42ms/step\n",
      "95200\n",
      "44/44 [==============================] - 2s 42ms/step\n",
      "96600\n",
      "44/44 [==============================] - 2s 43ms/step\n",
      "98000\n",
      "44/44 [==============================] - 2s 42ms/step\n",
      "99400\n",
      "44/44 [==============================] - 2s 43ms/step\n",
      "100800\n",
      "44/44 [==============================] - 2s 42ms/step\n",
      "102200\n",
      "44/44 [==============================] - 2s 43ms/step\n",
      "103600\n",
      "44/44 [==============================] - 2s 42ms/step\n",
      "105000\n",
      "44/44 [==============================] - 2s 42ms/step\n",
      "106400\n",
      "44/44 [==============================] - 2s 42ms/step\n",
      "107800\n",
      "44/44 [==============================] - 2s 43ms/step\n",
      "109200\n",
      "44/44 [==============================] - 2s 43ms/step\n",
      "110600\n",
      "44/44 [==============================] - 2s 41ms/step\n",
      "112000\n",
      "44/44 [==============================] - 2s 41ms/step\n",
      "113400\n",
      "44/44 [==============================] - 2s 43ms/step\n",
      "114800\n",
      "44/44 [==============================] - 2s 43ms/step\n",
      "116200\n",
      "44/44 [==============================] - 2s 42ms/step\n",
      "117600\n",
      "44/44 [==============================] - 2s 41ms/step\n",
      "119000\n",
      "44/44 [==============================] - 2s 42ms/step\n",
      "120400\n",
      "44/44 [==============================] - 2s 42ms/step\n",
      "121800\n",
      "44/44 [==============================] - 2s 42ms/step\n",
      "123200\n",
      "44/44 [==============================] - 2s 42ms/step\n",
      "124600\n",
      "44/44 [==============================] - 2s 41ms/step\n",
      "126000\n",
      "44/44 [==============================] - 2s 42ms/step\n",
      "127400\n",
      "44/44 [==============================] - 2s 42ms/step\n",
      "128800\n",
      "44/44 [==============================] - 2s 42ms/step\n",
      "130200\n",
      "44/44 [==============================] - 2s 41ms/step\n",
      "131600\n",
      "44/44 [==============================] - 2s 41ms/step\n",
      "133000\n",
      "44/44 [==============================] - 2s 42ms/step\n",
      "134400\n",
      "44/44 [==============================] - 2s 42ms/step\n",
      "135800\n",
      "44/44 [==============================] - 2s 42ms/step\n",
      "137200\n",
      "44/44 [==============================] - 2s 42ms/step\n",
      "138600\n",
      "44/44 [==============================] - 2s 43ms/step\n",
      "140000\n",
      "44/44 [==============================] - 2s 42ms/step\n",
      "141400\n",
      "44/44 [==============================] - 2s 42ms/step\n",
      "142800\n",
      "44/44 [==============================] - 2s 43ms/step\n",
      "144200\n",
      "44/44 [==============================] - 2s 42ms/step\n",
      "145600\n",
      "44/44 [==============================] - 2s 42ms/step\n",
      "147000\n",
      "44/44 [==============================] - 2s 42ms/step\n",
      "148400\n",
      "44/44 [==============================] - 2s 41ms/step\n",
      "149800\n",
      "44/44 [==============================] - 2s 41ms/step\n",
      "151200\n",
      "44/44 [==============================] - 2s 42ms/step\n",
      "152600\n",
      "44/44 [==============================] - 2s 42ms/step\n",
      "154000\n",
      "44/44 [==============================] - 2s 43ms/step\n",
      "155400\n",
      "44/44 [==============================] - 2s 42ms/step\n",
      "156800\n",
      "44/44 [==============================] - 2s 42ms/step\n",
      "158200\n",
      " 7/44 [===>..........................] - ETA: 1s"
     ]
    }
   ],
   "source": [
    "dl=1400\n",
    "l= len(df_test.Lensing.values)\n",
    "\n",
    "for i in range(0,l,dl):\n",
    "    if i + dl <= l :\n",
    "        print(i)\n",
    "        x_0,x_1, labels,missing_ids=ml.generate_resize_siamese_fm(df_test[i:i+dl]).Siamese_input_matrix(\n",
    "        det,\n",
    "        data_mode_dense=\"current\",\n",
    "        data_dir=data_dir_ml1p0_test)\n",
    "        df_test.loc[i:i+dl-1,'siamese_dense_'+det]=model.predict([x_0, x_1])\n",
    "    else:\n",
    "        x_0,x_1, labels,missing_ids=ml.generate_resize_siamese_fm(df_test[i:l]).Siamese_input_matrix(\n",
    "        det,\n",
    "        data_mode_dense=\"current\",\n",
    "        data_dir=data_dir_ml1p0_test)\n",
    "        df_test.loc[i:l-1,'siamese_dense_'+det]=model.predict([x_0, x_1])\n"
   ]
  },
  {
   "cell_type": "code",
   "execution_count": null,
   "id": "6bb9dc2c",
   "metadata": {
    "papermill": {
     "duration": null,
     "end_time": null,
     "exception": null,
     "start_time": null,
     "status": "completed"
    },
    "tags": []
   },
   "outputs": [],
   "source": [
    "df_test.to_csv(model_name+'_predictions_haris_etal.csv')"
   ]
  },
  {
   "cell_type": "code",
   "execution_count": null,
   "id": "8d6b5fce",
   "metadata": {
    "papermill": {
     "duration": null,
     "end_time": null,
     "exception": null,
     "start_time": null,
     "status": "completed"
    },
    "tags": []
   },
   "outputs": [],
   "source": [
    "#fig,rocs=FAR,efficiency,thrs,false_positive_rate, true_positive_rate, thresholds=ml.plot_ROCs(df_test,cols=['xgb_pred_pe_skymaps','combined_pred_pe_skymaps','xgb_pred_bayestar_skymaps','combined_pred_bayestar_skymaps','BLU_ra_dec','xgb_dense_QTS','siamese_sepcnn_'+det])\n",
    "#fig.savefig(model_name+'_ROCs_haris_etal.png')\n"
   ]
  },
  {
   "cell_type": "markdown",
   "id": "9670f927-eb09-48eb-b81c-6da764fcd98e",
   "metadata": {},
   "source": [
    "# load haris-et al results"
   ]
  },
  {
   "cell_type": "code",
   "execution_count": null,
   "id": "20c5e5fa-2439-4132-b308-03789d947149",
   "metadata": {},
   "outputs": [],
   "source": [
    "#model_name='siamese_13082022_v1'\n",
    "\n",
    "\n",
    "df_test=pd.read_csv(model_name+'_predictions_haris_etal.csv')"
   ]
  },
  {
   "cell_type": "code",
   "execution_count": null,
   "id": "3f6fa0b7-8b6d-49e7-84c8-1962a444421f",
   "metadata": {},
   "outputs": [],
   "source": [
    "df_test.tail()"
   ]
  },
  {
   "cell_type": "code",
   "execution_count": null,
   "id": "f7fc1d20-d8b2-4d05-859c-42e44bfb1499",
   "metadata": {},
   "outputs": [],
   "source": [
    "df_test.columns"
   ]
  },
  {
   "cell_type": "code",
   "execution_count": null,
   "id": "81e18e06-4033-438d-872c-fc979821ddfa",
   "metadata": {},
   "outputs": [],
   "source": [
    "df_test['inv_siamese_dense_'+det] = 1/df_test['siamese_dense_'+det]"
   ]
  },
  {
   "cell_type": "code",
   "execution_count": null,
   "id": "caf7c5b5-9922-4246-bfae-a74389b0a698",
   "metadata": {},
   "outputs": [],
   "source": [
    "columns = ['m1, m2, ra, sin_dec, costheta_jn','xgb_pred_bayestar_skymaps','m1, m2','ra, sin_dec','xgb_dense_QTS_0','dense_H1_0','inv_siamese_dense_'+det]\n",
    "labels=['BLU masses+sky','ML sky','BLU masses','BLU sky','ML QTs','DenseNet H1','Siamese_dense']\n",
    "fig,rocs=ml.plot_ROCs(df_test,cols=columns,labels=labels)"
   ]
  },
  {
   "cell_type": "code",
   "execution_count": null,
   "id": "e29fa756-d98c-41db-b007-9b86790aa901",
   "metadata": {},
   "outputs": [],
   "source": [
    "fig.savefig(model_name+'_ROCs_haris_etal.png')\n"
   ]
  },
  {
   "cell_type": "code",
   "execution_count": null,
   "id": "0c600aef-f471-4dcd-b2f9-26319be396c2",
   "metadata": {},
   "outputs": [],
   "source": [
    "labels=df_test.Lensing.values\n",
    "d_test_pred=df_test['siamese_dense_'+det].values\n",
    "idx_test_true = np.where(labels==1)\n",
    "idx_test_false = np.where(labels==0)\n",
    "\n",
    "plt.hist(d_test_pred[idx_test_true],20,color='b',alpha=0.4,label = 'positive pairs',density=True)\n",
    "plt.hist(d_test_pred[idx_test_false],20,color='r',alpha=0.4, label= 'negative pairs',density=True)\n",
    "plt.xlabel('distance between pairs')\n",
    "plt.ylabel('population')\n",
    "plt.legend(loc='best')\n",
    "plt.show()"
   ]
  },
  {
   "cell_type": "code",
   "execution_count": null,
   "id": "559d50e5-500e-40d4-b0ec-e9d8d74e0bab",
   "metadata": {},
   "outputs": [],
   "source": [
    "threshold = thresholds[t_idx]\n",
    "\n",
    "\n",
    "lensed = np.where(np.squeeze(d_test_pred)<=threshold)\n",
    "unlensed = np.where(np.squeeze(d_test_pred)>threshold)\n",
    "\n",
    "y_pred = 2.*np.ones_like(labels)\n",
    "y_pred[lensed] = 1\n",
    "y_pred[unlensed] = 0\n",
    "\n",
    "confusion_matrix(labels,y_pred), accuracy_score(labels,y_pred)"
   ]
  },
  {
   "cell_type": "code",
   "execution_count": null,
   "id": "143746b8-89e6-4281-96f1-c0bea20bbebe",
   "metadata": {},
   "outputs": [],
   "source": [
    "thresholds = np.logspace(-4,0.4,100)#np.arange(0,2,5e-2)\n",
    "tprs, fprs = [], []\n",
    "\n",
    "for threshold in thresholds:\n",
    "    lensed = np.where(np.squeeze(d_test_pred)<=threshold)\n",
    "    unlensed= np.where(np.squeeze(d_test_pred)>threshold)\n",
    "    y_pred = 2.*np.ones_like(labels)\n",
    "    y_pred[lensed] = 1\n",
    "    y_pred[unlensed] = 0\n",
    "    tpr = recall_score(labels,y_pred)\n",
    "    C = confusion_matrix(labels,y_pred)\n",
    "    fpr = C[0,1]/(C[0,0]+C[0,1])\n",
    "    tprs.append(tpr)\n",
    "    fprs.append(fpr)\n",
    "plt.plot(fprs,tprs,linewidth=2,label='ROC curve')\n",
    "#plt.ylim(0.4,1.01)\n",
    "#plt.plot([0,1],[0,1],'k--')\n",
    "plt.xscale('log')\n",
    "\n",
    "plt.grid('both')\n",
    "plt.xlabel('False Positive Rate')\n",
    "plt.ylabel('True Positive Rate (Recall)')\n",
    "plt.show()"
   ]
  },
  {
   "cell_type": "code",
   "execution_count": null,
   "id": "28afacd8-9742-4901-b6f7-5fb31dcb7539",
   "metadata": {},
   "outputs": [],
   "source": [
    "d_test_pred.min(),d_test_pred.max()"
   ]
  },
  {
   "cell_type": "code",
   "execution_count": null,
   "id": "bdf8a8cf-351f-4357-b95a-0ae95a44e663",
   "metadata": {},
   "outputs": [],
   "source": [
    "#np.logspace(-4,0.4,100)"
   ]
  },
  {
   "cell_type": "code",
   "execution_count": null,
   "id": "0b528ca5-7a61-47b9-be2c-37990cbf7f33",
   "metadata": {},
   "outputs": [],
   "source": []
  }
 ],
 "metadata": {
  "kernelspec": {
   "display_name": "Python 3 (ipykernel)",
   "language": "python",
   "name": "python3"
  },
  "language_info": {
   "codemirror_mode": {
    "name": "ipython",
    "version": 3
   },
   "file_extension": ".py",
   "mimetype": "text/x-python",
   "name": "python",
   "nbconvert_exporter": "python",
   "pygments_lexer": "ipython3",
   "version": "3.9.13"
  },
  "papermill": {
   "default_parameters": {},
   "duration": 1441.757546,
   "end_time": "2022-08-12T08:27:42.232427",
   "environment_variables": {},
   "exception": null,
   "input_path": "__notebook__.ipynb",
   "output_path": "__notebook__.ipynb",
   "parameters": {},
   "start_time": "2022-08-12T08:03:40.474881",
   "version": "2.3.4"
  }
 },
 "nbformat": 4,
 "nbformat_minor": 5
}
