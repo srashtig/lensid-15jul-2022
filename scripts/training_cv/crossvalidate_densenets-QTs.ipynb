{
 "cells": [
  {
   "cell_type": "code",
   "execution_count": 1,
   "metadata": {},
   "outputs": [],
   "source": [
    "from lensid.utils.ml_utils import *"
   ]
  },
  {
   "cell_type": "code",
   "execution_count": 2,
   "metadata": {},
   "outputs": [],
   "source": [
    "indir = 'train'\n",
    "data_dir = '../../data/qts/'+str(indir)+'/'"
   ]
  },
  {
   "cell_type": "code",
   "execution_count": 3,
   "metadata": {},
   "outputs": [],
   "source": [
    "df_lensed = pd.read_csv('../../data/dataframes/'+str(indir)+'/lensed.csv' )\n",
    "df_lensed=df_lensed.drop(columns=['Unnamed: 0'])\n",
    "df_lensed['img_0']=df_lensed['img_0'].values \n",
    "df_lensed['img_1']=df_lensed['img_1'].values \n",
    "df_lensed=df_lensed[:2800]\n",
    "df_unlensed = pd.read_csv('../../data/dataframes/'+str(indir)+'/unlensed_half.csv' )\n",
    "df_unlensed=df_unlensed.drop(columns=['Unnamed: 0'])\n",
    "df_unlensed = df_unlensed.sample(frac = 1,random_state = 42).reset_index(drop = True)[:2800]\n",
    "df_train = pd.concat([df_lensed,df_unlensed],ignore_index = True)\n",
    "df_train=df_train.sample(frac = 1).reset_index(drop = True)"
   ]
  },
  {
   "cell_type": "code",
   "execution_count": null,
   "metadata": {},
   "outputs": [],
   "source": [
    "det='H1'\n",
    "X , y,missing_ids, df_train =  generate_resize_densenet_fm(df_train).DenseNet_input_matrix(det = det,data_mode_dense=\"current\",data_dir=data_dir,phenom=True)"
   ]
  },
  {
   "cell_type": "code",
   "execution_count": null,
   "metadata": {},
   "outputs": [],
   "source": [
    "cv = StratifiedKFold(n_splits = 4, shuffle = True ,random_state = 42)\n",
    "\n",
    "for i ,(train,test) in enumerate(cv.split(X,y)):\n",
    "    print(train.shape,test.shape)"
   ]
  },
  {
   "cell_type": "code",
   "execution_count": null,
   "metadata": {},
   "outputs": [],
   "source": [
    "plt.rcParams[\"figure.figsize\"] = (10,10)\n",
    "\n",
    "    \n",
    "tprs = []\n",
    "aucs = []\n",
    "mean_fpr = 10**np.linspace(-3,0,10)\n",
    "\n",
    "\n",
    "fig,ax = plt.subplots()\n",
    "for i ,(train,test) in enumerate(cv.split(X,y)):\n",
    "\n",
    "    classifier = train_densenet(X[train],y[train],det,10,0.01)#0.005, 0.01\n",
    "    classifier.save('dense_out/'+det+'_'+str(i)+'.h5')\n",
    "    #classifier = load_model(det+'_'+str(i)+'.h5')\n",
    "    probs = classifier.predict_classes(X[test])\n",
    "\n",
    "    fpr, tpr, threshold = metrics.roc_curve(y[test], probs)\n",
    "    roc_auc = metrics.auc(fpr, tpr)\n",
    "\n",
    "    ax.plot(fpr, tpr, 'm',linestyle= \"-\", label = \"ROC fold { \"+ str(i)+\" } (AUC = \" + str(roc_auc)+ \" )\",lw =3,alpha=0.5)\n",
    "    interp_tpr = np.interp(mean_fpr,fpr,tpr)\n",
    "    interp_tpr[0] = 0.0\n",
    "    tprs.append(interp_tpr)\n",
    "    aucs.append(roc_auc)\n",
    "\n",
    "mean_tpr = np.mean(tprs,axis = 0)\n",
    "mean_tpr[-1]=1.0\n",
    "mean_auc = auc(mean_fpr,mean_tpr)\n",
    "std_auc = np.std(aucs)\n",
    "ax.plot(mean_fpr,mean_tpr,color='b',label = r'Mean ROC (AUC = %0.2f $\\pm$ %0.2f)' % (mean_auc , std_auc),lw = 2,alpha=.8)\n",
    "    \n",
    "std_tpr = np.std(tprs,axis=0)\n",
    "tprs_upper = np.minimum(mean_tpr +std_tpr,1)\n",
    "tprs_lower = np.maximum(mean_tpr-std_tpr,0)\n",
    "ax.fill_between(mean_fpr,tprs_lower,tprs_upper,color=\"grey\",alpha=.5,label=r'$\\pm$ 1 std. dev.')\n",
    "\n",
    "ax.set(xlim=[1e-3,1],ylim=[1e-3,1.05],\n",
    "          title = \"ROC - Error Bars H1 QTs\",xscale='log',yscale='log')\n",
    "plt.savefig('ROC-log-QTs-'+det+'.png')\n",
    "\n",
    "ax.legend(loc =\"lower right\")\n",
    "plt.show()"
   ]
  },
  {
   "cell_type": "code",
   "execution_count": null,
   "metadata": {},
   "outputs": [],
   "source": []
  }
 ],
 "metadata": {
  "kernelspec": {
   "display_name": "Python 3",
   "language": "python",
   "name": "python3"
  },
  "language_info": {
   "codemirror_mode": {
    "name": "ipython",
    "version": 3
   },
   "file_extension": ".py",
   "mimetype": "text/x-python",
   "name": "python",
   "nbconvert_exporter": "python",
   "pygments_lexer": "ipython3",
   "version": "3.7.8"
  }
 },
 "nbformat": 4,
 "nbformat_minor": 4
}
