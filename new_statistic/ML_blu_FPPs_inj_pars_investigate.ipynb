{
 "cells": [
  {
   "cell_type": "code",
   "execution_count": 1,
   "metadata": {},
   "outputs": [],
   "source": [
    "import pandas as pd\n",
    "import matplotlib.pyplot as plt\n",
    "import numpy as np\n",
    "from numpy.core.defchararray import add\n",
    "import seaborn as sns"
   ]
  },
  {
   "cell_type": "code",
   "execution_count": 2,
   "metadata": {},
   "outputs": [],
   "source": [
    "#base_dir = '/home1/srashti.goyal/strong-lensing-ml-backup-8aug21/' #Alice\n",
    "base_dir = '/home/srashti.goyal/strong-lensing-ml/' #CIT"
   ]
  },
  {
   "cell_type": "code",
   "execution_count": 3,
   "metadata": {},
   "outputs": [],
   "source": [
    "def chirptime_from_mass_forb(chirp_mass, forb=10):\n",
    "    return (5./256) * chirp_mass**(-5./3) * (2*np.pi*forb)    "
   ]
  },
  {
   "cell_type": "code",
   "execution_count": 4,
   "metadata": {},
   "outputs": [],
   "source": [
    "import pycbc.conversions as conv"
   ]
  },
  {
   "cell_type": "markdown",
   "metadata": {},
   "source": [
    "# Loading test set"
   ]
  },
  {
   "cell_type": "code",
   "execution_count": 5,
   "metadata": {},
   "outputs": [],
   "source": [
    "lensed_data_haris= dict(np.load('../data/injection_pars/haris-et-al/lensed_inj_data.npz'))\n",
    "unlensed_data_haris= dict(np.load('../data/injection_pars/haris-et-al/unlensed_inj_data.npz'))\n"
   ]
  },
  {
   "cell_type": "code",
   "execution_count": 6,
   "metadata": {},
   "outputs": [
    {
     "data": {
      "text/plain": [
       "Index(['img_0', 'img_1', 'Lensing', 'bayestar_skymaps_blu',\n",
       "       'bayestar_skymaps_d2', 'bayestar_skymaps_d3', 'bayestar_skymaps_lsq',\n",
       "       'm1, m2, ra, sin_dec, a1, a2, costilt1, costilt2, costheta_jn',\n",
       "       'm1, m2, ra, sin_dec, costheta_jn', 'ra, sin_dec',\n",
       "       '# m1, m2, ra, sin_dec, a1, a2, costilt1, costilt2',\n",
       "       'm1, m2, ra, sin_dec', 'm1, m2', 'xgb_pred_bayestar_skymaps',\n",
       "       'xgb_pred_bayestar_skymaps_1', 'xgb_pred_bayestar_skymaps_2',\n",
       "       'xgb_pred_bayestar_skymaps_3', 'xgb_pred_bayestar_skymaps_4',\n",
       "       'xgb_pred_bayestar_skymaps_5', 'xgb_pred_bayestar_skymaps_6',\n",
       "       'xgb_pred_bayestar_skymaps_7', 'xgb_pred_bayestar_skymaps_8',\n",
       "       'xgb_pred_bayestar_skymaps_9', 'xgb_pred_bayestar_skymaps_10',\n",
       "       'xgb_pred_bayestar_skymaps_fpp', 'ra, sin_dec_fpp', 'dense_H1_0',\n",
       "       'mean_overlap_qts_H1', 'std_overlap_qts_H1', 'lsq_overlap_qts_H1',\n",
       "       'dense_L1_0', 'mean_overlap_qts_L1', 'std_overlap_qts_L1',\n",
       "       'lsq_overlap_qts_L1', 'dense_V1_0', 'mean_overlap_qts_V1',\n",
       "       'std_overlap_qts_V1', 'lsq_overlap_qts_V1', 'xgb_dense_QTS_0',\n",
       "       'xgb_dense_QTS_1', 'xgb_dense_QTS_2', 'xgb_dense_QTS_3',\n",
       "       'xgb_dense_QTS_4', 'xgb_dense_QTS_5', 'xgb_dense_QTS_6',\n",
       "       'xgb_dense_QTS_7', 'xgb_dense_QTS_8', 'xgb_dense_QTS_9',\n",
       "       'xgb_dense_QTS_10', 'xgb_dense_QTS_0_fpp', 'm1, m2_fpp',\n",
       "       'densnet_xgbsky_bayestar_mul_0', 'densnet_xgbsky_bayestar_mul_1',\n",
       "       'densnet_xgbsky_bayestar_mul_2', 'densnet_xgbsky_bayestar_mul_3',\n",
       "       'densnet_xgbsky_bayestar_mul_4', 'densnet_xgbsky_bayestar_mul_5',\n",
       "       'densnet_xgbsky_bayestar_mul_6', 'densnet_xgbsky_bayestar_mul_7',\n",
       "       'densnet_xgbsky_bayestar_mul_8', 'densnet_xgbsky_bayestar_mul_9',\n",
       "       'densnet_xgbsky_bayestar_mul_10', 'densnet_xgbsky_bayestar_mul_0_fpp',\n",
       "       'm1, m2, ra, sin_dec_fpp'],\n",
       "      dtype='object')"
      ]
     },
     "execution_count": 6,
     "metadata": {},
     "output_type": "execute_result"
    }
   ],
   "source": [
    "df_test=pd.read_csv(base_dir + 'data/dataframes/test/ML_combined_kaggle.csv',index_col=0)\n",
    "df_test.columns"
   ]
  },
  {
   "cell_type": "code",
   "execution_count": 7,
   "metadata": {},
   "outputs": [
    {
     "data": {
      "text/plain": [
       "Index(['Unnamed: 0.1', 'Unnamed: 0.1.1', 'Unnamed: 0.1.1.1',\n",
       "       'Unnamed: 0.1.1.1.1', 'Unnamed: 0.1.1.1.1.1', 'Unnamed: 0.1.1.1.1.1.1',\n",
       "       'img_0', 'img_1', 'Lensing', 'pe_skymaps_blu',\n",
       "       ...\n",
       "       'costheta_jn_MLE_img_0', 'costheta_jn_MLE_img_1', 'logl_MLE_img_0',\n",
       "       'logl_MLE_img_1', 'matched_filter_snr_MLE_img_0',\n",
       "       'matched_filter_snr_MLE_img_1', 'mchirp_MLE_img_1', 'mchirp_MLE_img_0',\n",
       "       'mchirp_abs_diff', 'bhattacharya_coeff'],\n",
       "      dtype='object', length=116)"
      ]
     },
     "execution_count": 7,
     "metadata": {},
     "output_type": "execute_result"
    }
   ],
   "source": [
    "df_test_old=pd.read_csv(base_dir + 'data/dataframes/test/MLEs_haris_et_al_inc_mchirp_inc_bhattacharya.csv',index_col=0)\n",
    "df_test_old.columns"
   ]
  },
  {
   "cell_type": "code",
   "execution_count": 8,
   "metadata": {},
   "outputs": [
    {
     "data": {
      "text/plain": [
       "array(['Unnamed: 0.1', 'Unnamed: 0.1.1', 'Unnamed: 0.1.1.1',\n",
       "       'Unnamed: 0.1.1.1.1', 'Unnamed: 0.1.1.1.1.1',\n",
       "       'Unnamed: 0.1.1.1.1.1.1', 'img_0', 'img_1', 'Lensing',\n",
       "       'pe_skymaps_blu', 'pe_skymaps_d2', 'pe_skymaps_lsq',\n",
       "       'pe_skymaps_d3', 'bayestar_skymaps_blu', 'bayestar_skymaps_d2',\n",
       "       'bayestar_skymaps_lsq', 'bayestar_skymaps_d3', 'BLU_ra_dec',\n",
       "       '# dist_sq', 'dist_sq_alpha_inj', 'dist_sq_alpha_marg',\n",
       "       'costheta_jn', 'costheta_jn, dist_sq',\n",
       "       'costheta_jn, dist_sq_alpha_inj',\n",
       "       'costheta_jn, dist_sq_alpha_marg',\n",
       "       'm1, m2, ra, sin_dec, a1, a2, costilt1, costilt2, costheta_jn',\n",
       "       'm1, m2, ra, sin_dec, a1, a2, costilt1, costilt2, costheta_jn, dist_sq',\n",
       "       'm1, m2, ra, sin_dec, a1, a2, costilt1, costilt2, costheta_jn, dist_sq_alpha_inj',\n",
       "       'm1, m2, ra, sin_dec, a1, a2, costilt1, costilt2, costheta_jn, dist_sq_alpha_marg',\n",
       "       'm1, m2, ra, sin_dec, costheta_jn', 'ra, sin_dec',\n",
       "       'all x dist_alpha_inj', 'all x dist',\n",
       "       '# m1, m2, ra, sin_dec, a1, a2, costilt1, costilt2',\n",
       "       'm1, m2, ra, sin_dec', 'm1, m2', 'dense_H1', 'dense_L1',\n",
       "       'dense_V1', 'xgb_pred_bayestar_skymaps', 'xgb_pred_pe_skymaps',\n",
       "       'combined_pred_bayestar_skymaps', 'combined_pred_pe_skymaps',\n",
       "       'bayestar_skymaps_blu_scaled', 'pe_skymaps_blu_scaled',\n",
       "       'xgb_dense_QTS', 'densnet_xgbsky_bayestar_mul',\n",
       "       'densnet_xgbsky_pe_mul', 'xgb_pred_bayestar_skymaps_0',\n",
       "       'xgb_pred_pe_skymaps_0', 'xgb_pred_bayestar_skymaps_1',\n",
       "       'xgb_pred_pe_skymaps_1', 'xgb_pred_bayestar_skymaps_2',\n",
       "       'xgb_pred_pe_skymaps_2', 'xgb_pred_bayestar_skymaps_3',\n",
       "       'xgb_pred_pe_skymaps_3', 'xgb_pred_bayestar_skymaps_4',\n",
       "       'xgb_pred_pe_skymaps_4', 'xgb_pred_bayestar_skymaps_5',\n",
       "       'xgb_pred_pe_skymaps_5', 'xgb_pred_bayestar_skymaps_6',\n",
       "       'xgb_pred_pe_skymaps_6', 'xgb_pred_bayestar_skymaps_7',\n",
       "       'xgb_pred_pe_skymaps_7', 'xgb_pred_bayestar_skymaps_8',\n",
       "       'xgb_pred_pe_skymaps_8', 'xgb_pred_bayestar_skymaps_9',\n",
       "       'xgb_pred_pe_skymaps_9', 'dense_H1_0', 'dense_H1_2', 'dense_H1_1',\n",
       "       'dense_H1_3', 'dense_L1_0', 'dense_L1_1', 'dense_L1_2',\n",
       "       'dense_L1_3', 'dense_V1_0', 'dense_V1_1', 'dense_V1_2',\n",
       "       'dense_V1_3', 'xgb_dense_QTS_0', 'xgb_dense_QTS_1',\n",
       "       'xgb_dense_QTS_2', 'xgb_dense_QTS_3', 'xgb_dense_QTS_4',\n",
       "       'xgb_dense_QTS_5', 'xgb_dense_QTS_6', 'xgb_dense_QTS_7',\n",
       "       'xgb_dense_QTS_8', 'xgb_dense_QTS_9', 'm1_MLE_img_0',\n",
       "       'm1_MLE_img_1', 'm2_MLE_img_0', 'm2_MLE_img_1', 'ra_MLE_img_0',\n",
       "       'ra_MLE_img_1', 'dec_MLE_img_0', 'dec_MLE_img_1', 'a1_MLE_img_0',\n",
       "       'a1_MLE_img_1', 'a2_MLE_img_0', 'a2_MLE_img_1',\n",
       "       'costilt1_MLE_img_0', 'costilt1_MLE_img_1', 'costilt2_MLE_img_0',\n",
       "       'costilt2_MLE_img_1', 'costheta_jn_MLE_img_0',\n",
       "       'costheta_jn_MLE_img_1', 'logl_MLE_img_0', 'logl_MLE_img_1',\n",
       "       'matched_filter_snr_MLE_img_0', 'matched_filter_snr_MLE_img_1',\n",
       "       'mchirp_MLE_img_1', 'mchirp_MLE_img_0', 'mchirp_abs_diff',\n",
       "       'bhattacharya_coeff'], dtype=object)"
      ]
     },
     "execution_count": 8,
     "metadata": {},
     "output_type": "execute_result"
    }
   ],
   "source": [
    "df_test_old.columns.values"
   ]
  },
  {
   "cell_type": "code",
   "execution_count": 9,
   "metadata": {},
   "outputs": [],
   "source": [
    "cols_old = ['img_0', 'img_1', 'Lensing','m1_MLE_img_0',\n",
    "       'm1_MLE_img_1', 'm2_MLE_img_0', 'm2_MLE_img_1', 'ra_MLE_img_0',\n",
    "       'ra_MLE_img_1', 'dec_MLE_img_0', 'dec_MLE_img_1', 'a1_MLE_img_0',\n",
    "       'a1_MLE_img_1', 'a2_MLE_img_0', 'a2_MLE_img_1',\n",
    "       'costilt1_MLE_img_0', 'costilt1_MLE_img_1', 'costilt2_MLE_img_0',\n",
    "       'costilt2_MLE_img_1', 'costheta_jn_MLE_img_0',\n",
    "       'costheta_jn_MLE_img_1', 'logl_MLE_img_0', 'logl_MLE_img_1',\n",
    "       'matched_filter_snr_MLE_img_0', 'matched_filter_snr_MLE_img_1',\n",
    "       'mchirp_MLE_img_1', 'mchirp_MLE_img_0', 'mchirp_abs_diff',\n",
    "       'bhattacharya_coeff']"
   ]
  },
  {
   "cell_type": "code",
   "execution_count": 10,
   "metadata": {},
   "outputs": [
    {
     "data": {
      "text/html": [
       "<div>\n",
       "<style scoped>\n",
       "    .dataframe tbody tr th:only-of-type {\n",
       "        vertical-align: middle;\n",
       "    }\n",
       "\n",
       "    .dataframe tbody tr th {\n",
       "        vertical-align: top;\n",
       "    }\n",
       "\n",
       "    .dataframe thead th {\n",
       "        text-align: right;\n",
       "    }\n",
       "</style>\n",
       "<table border=\"1\" class=\"dataframe\">\n",
       "  <thead>\n",
       "    <tr style=\"text-align: right;\">\n",
       "      <th></th>\n",
       "      <th>Unnamed: 0.1</th>\n",
       "      <th>Unnamed: 0.1.1</th>\n",
       "      <th>Unnamed: 0.1.1.1</th>\n",
       "      <th>Unnamed: 0.1.1.1.1</th>\n",
       "      <th>Unnamed: 0.1.1.1.1.1</th>\n",
       "      <th>Unnamed: 0.1.1.1.1.1.1</th>\n",
       "      <th>img_0</th>\n",
       "      <th>img_1</th>\n",
       "      <th>Lensing</th>\n",
       "      <th>pe_skymaps_blu</th>\n",
       "      <th>...</th>\n",
       "      <th>costheta_jn_MLE_img_0</th>\n",
       "      <th>costheta_jn_MLE_img_1</th>\n",
       "      <th>logl_MLE_img_0</th>\n",
       "      <th>logl_MLE_img_1</th>\n",
       "      <th>matched_filter_snr_MLE_img_0</th>\n",
       "      <th>matched_filter_snr_MLE_img_1</th>\n",
       "      <th>mchirp_MLE_img_1</th>\n",
       "      <th>mchirp_MLE_img_0</th>\n",
       "      <th>mchirp_abs_diff</th>\n",
       "      <th>bhattacharya_coeff</th>\n",
       "    </tr>\n",
       "  </thead>\n",
       "  <tbody>\n",
       "    <tr>\n",
       "      <th>499787</th>\n",
       "      <td>499787</td>\n",
       "      <td>499787</td>\n",
       "      <td>499787</td>\n",
       "      <td>499787</td>\n",
       "      <td>499787</td>\n",
       "      <td>499787</td>\n",
       "      <td>653529000.000000000-307058</td>\n",
       "      <td>521844500.000000000-43689</td>\n",
       "      <td>0</td>\n",
       "      <td>4.424560e-05</td>\n",
       "      <td>...</td>\n",
       "      <td>-0.361726</td>\n",
       "      <td>0.553313</td>\n",
       "      <td>-96105.624454</td>\n",
       "      <td>-96457.305267</td>\n",
       "      <td>8.958544</td>\n",
       "      <td>13.493710</td>\n",
       "      <td>15.741955</td>\n",
       "      <td>81.152666</td>\n",
       "      <td>65.410711</td>\n",
       "      <td>397.019995</td>\n",
       "    </tr>\n",
       "    <tr>\n",
       "      <th>499788</th>\n",
       "      <td>499788</td>\n",
       "      <td>499788</td>\n",
       "      <td>499788</td>\n",
       "      <td>499788</td>\n",
       "      <td>499788</td>\n",
       "      <td>499788</td>\n",
       "      <td>618708500.000000000-237417</td>\n",
       "      <td>570250500.000000000-140501</td>\n",
       "      <td>0</td>\n",
       "      <td>8.463995e-173</td>\n",
       "      <td>...</td>\n",
       "      <td>0.413433</td>\n",
       "      <td>0.063741</td>\n",
       "      <td>-95843.275377</td>\n",
       "      <td>-96636.446939</td>\n",
       "      <td>11.169069</td>\n",
       "      <td>11.188854</td>\n",
       "      <td>41.695815</td>\n",
       "      <td>83.559880</td>\n",
       "      <td>41.864065</td>\n",
       "      <td>87.297127</td>\n",
       "    </tr>\n",
       "    <tr>\n",
       "      <th>499789</th>\n",
       "      <td>499789</td>\n",
       "      <td>499789</td>\n",
       "      <td>499789</td>\n",
       "      <td>499789</td>\n",
       "      <td>499789</td>\n",
       "      <td>499789</td>\n",
       "      <td>624034000.000000000-248068</td>\n",
       "      <td>658017500.000000000-316035</td>\n",
       "      <td>0</td>\n",
       "      <td>1.657877e-01</td>\n",
       "      <td>...</td>\n",
       "      <td>0.032677</td>\n",
       "      <td>-0.269847</td>\n",
       "      <td>-95913.258227</td>\n",
       "      <td>-96984.749083</td>\n",
       "      <td>17.228599</td>\n",
       "      <td>8.448177</td>\n",
       "      <td>39.887554</td>\n",
       "      <td>13.151348</td>\n",
       "      <td>26.736206</td>\n",
       "      <td>727.311814</td>\n",
       "    </tr>\n",
       "    <tr>\n",
       "      <th>499790</th>\n",
       "      <td>499790</td>\n",
       "      <td>499790</td>\n",
       "      <td>499790</td>\n",
       "      <td>499790</td>\n",
       "      <td>499790</td>\n",
       "      <td>499790</td>\n",
       "      <td>531573500.000000000-63147</td>\n",
       "      <td>602280500.000000000-204561</td>\n",
       "      <td>0</td>\n",
       "      <td>0.000000e+00</td>\n",
       "      <td>...</td>\n",
       "      <td>-0.747540</td>\n",
       "      <td>0.439526</td>\n",
       "      <td>-96809.245744</td>\n",
       "      <td>-96305.873848</td>\n",
       "      <td>17.439649</td>\n",
       "      <td>9.686203</td>\n",
       "      <td>83.329568</td>\n",
       "      <td>7.500795</td>\n",
       "      <td>75.828773</td>\n",
       "      <td>421.913615</td>\n",
       "    </tr>\n",
       "    <tr>\n",
       "      <th>499791</th>\n",
       "      <td>499791</td>\n",
       "      <td>499791</td>\n",
       "      <td>499791</td>\n",
       "      <td>499791</td>\n",
       "      <td>499791</td>\n",
       "      <td>499791</td>\n",
       "      <td>625278000.000000000-250556</td>\n",
       "      <td>549574500.000000000-99149</td>\n",
       "      <td>0</td>\n",
       "      <td>1.231912e-11</td>\n",
       "      <td>...</td>\n",
       "      <td>-0.082464</td>\n",
       "      <td>-0.082024</td>\n",
       "      <td>-96488.693830</td>\n",
       "      <td>-96361.186208</td>\n",
       "      <td>9.575480</td>\n",
       "      <td>15.136830</td>\n",
       "      <td>37.680049</td>\n",
       "      <td>72.474372</td>\n",
       "      <td>34.794323</td>\n",
       "      <td>112.720401</td>\n",
       "    </tr>\n",
       "  </tbody>\n",
       "</table>\n",
       "<p>5 rows × 116 columns</p>\n",
       "</div>"
      ],
      "text/plain": [
       "        Unnamed: 0.1  Unnamed: 0.1.1  Unnamed: 0.1.1.1  Unnamed: 0.1.1.1.1  \\\n",
       "499787        499787          499787            499787              499787   \n",
       "499788        499788          499788            499788              499788   \n",
       "499789        499789          499789            499789              499789   \n",
       "499790        499790          499790            499790              499790   \n",
       "499791        499791          499791            499791              499791   \n",
       "\n",
       "        Unnamed: 0.1.1.1.1.1  Unnamed: 0.1.1.1.1.1.1  \\\n",
       "499787                499787                  499787   \n",
       "499788                499788                  499788   \n",
       "499789                499789                  499789   \n",
       "499790                499790                  499790   \n",
       "499791                499791                  499791   \n",
       "\n",
       "                             img_0                       img_1  Lensing  \\\n",
       "499787  653529000.000000000-307058   521844500.000000000-43689        0   \n",
       "499788  618708500.000000000-237417  570250500.000000000-140501        0   \n",
       "499789  624034000.000000000-248068  658017500.000000000-316035        0   \n",
       "499790   531573500.000000000-63147  602280500.000000000-204561        0   \n",
       "499791  625278000.000000000-250556   549574500.000000000-99149        0   \n",
       "\n",
       "        pe_skymaps_blu  ...  costheta_jn_MLE_img_0  costheta_jn_MLE_img_1  \\\n",
       "499787    4.424560e-05  ...              -0.361726               0.553313   \n",
       "499788   8.463995e-173  ...               0.413433               0.063741   \n",
       "499789    1.657877e-01  ...               0.032677              -0.269847   \n",
       "499790    0.000000e+00  ...              -0.747540               0.439526   \n",
       "499791    1.231912e-11  ...              -0.082464              -0.082024   \n",
       "\n",
       "        logl_MLE_img_0  logl_MLE_img_1  matched_filter_snr_MLE_img_0  \\\n",
       "499787   -96105.624454   -96457.305267                      8.958544   \n",
       "499788   -95843.275377   -96636.446939                     11.169069   \n",
       "499789   -95913.258227   -96984.749083                     17.228599   \n",
       "499790   -96809.245744   -96305.873848                     17.439649   \n",
       "499791   -96488.693830   -96361.186208                      9.575480   \n",
       "\n",
       "        matched_filter_snr_MLE_img_1  mchirp_MLE_img_1  mchirp_MLE_img_0  \\\n",
       "499787                     13.493710         15.741955         81.152666   \n",
       "499788                     11.188854         41.695815         83.559880   \n",
       "499789                      8.448177         39.887554         13.151348   \n",
       "499790                      9.686203         83.329568          7.500795   \n",
       "499791                     15.136830         37.680049         72.474372   \n",
       "\n",
       "        mchirp_abs_diff  bhattacharya_coeff  \n",
       "499787        65.410711          397.019995  \n",
       "499788        41.864065           87.297127  \n",
       "499789        26.736206          727.311814  \n",
       "499790        75.828773          421.913615  \n",
       "499791        34.794323          112.720401  \n",
       "\n",
       "[5 rows x 116 columns]"
      ]
     },
     "execution_count": 10,
     "metadata": {},
     "output_type": "execute_result"
    }
   ],
   "source": [
    "df_test_old.tail()"
   ]
  },
  {
   "cell_type": "code",
   "execution_count": 11,
   "metadata": {},
   "outputs": [],
   "source": [
    "df_test=pd.merge(df_test,df_test_old[cols_old],on=['img_0','img_1','Lensing'])"
   ]
  },
  {
   "cell_type": "code",
   "execution_count": 12,
   "metadata": {},
   "outputs": [],
   "source": [
    "df_lensed=df_test[df_test['Lensing'] == 1]\n"
   ]
  },
  {
   "cell_type": "code",
   "execution_count": 13,
   "metadata": {},
   "outputs": [],
   "source": [
    "tags=df_lensed['img_0'].str.rsplit('_',1).values\n"
   ]
  },
  {
   "cell_type": "code",
   "execution_count": 14,
   "metadata": {},
   "outputs": [
    {
     "name": "stderr",
     "output_type": "stream",
     "text": [
      "/home/srashti.goyal/.conda/envs/igwn-py37-hanabi/lib/python3.7/site-packages/ipykernel_launcher.py:7: SettingWithCopyWarning: \n",
      "A value is trying to be set on a copy of a slice from a DataFrame.\n",
      "Try using .loc[row_indexer,col_indexer] = value instead\n",
      "\n",
      "See the caveats in the documentation: https://pandas.pydata.org/pandas-docs/stable/user_guide/indexing.html#returning-a-view-versus-a-copy\n",
      "  import sys\n",
      "/home/srashti.goyal/.conda/envs/igwn-py37-hanabi/lib/python3.7/site-packages/ipykernel_launcher.py:8: SettingWithCopyWarning: \n",
      "A value is trying to be set on a copy of a slice from a DataFrame.\n",
      "Try using .loc[row_indexer,col_indexer] = value instead\n",
      "\n",
      "See the caveats in the documentation: https://pandas.pydata.org/pandas-docs/stable/user_guide/indexing.html#returning-a-view-versus-a-copy\n",
      "  \n"
     ]
    },
    {
     "data": {
      "text/html": [
       "<div>\n",
       "<style scoped>\n",
       "    .dataframe tbody tr th:only-of-type {\n",
       "        vertical-align: middle;\n",
       "    }\n",
       "\n",
       "    .dataframe tbody tr th {\n",
       "        vertical-align: top;\n",
       "    }\n",
       "\n",
       "    .dataframe thead th {\n",
       "        text-align: right;\n",
       "    }\n",
       "</style>\n",
       "<table border=\"1\" class=\"dataframe\">\n",
       "  <thead>\n",
       "    <tr style=\"text-align: right;\">\n",
       "      <th></th>\n",
       "      <th>img_0</th>\n",
       "      <th>img_1</th>\n",
       "      <th>Lensing</th>\n",
       "      <th>bayestar_skymaps_blu</th>\n",
       "      <th>bayestar_skymaps_d2</th>\n",
       "      <th>bayestar_skymaps_d3</th>\n",
       "      <th>bayestar_skymaps_lsq</th>\n",
       "      <th>m1, m2, ra, sin_dec, a1, a2, costilt1, costilt2, costheta_jn</th>\n",
       "      <th>m1, m2, ra, sin_dec, costheta_jn</th>\n",
       "      <th>ra, sin_dec</th>\n",
       "      <th>...</th>\n",
       "      <th>logl_MLE_img_0</th>\n",
       "      <th>logl_MLE_img_1</th>\n",
       "      <th>matched_filter_snr_MLE_img_0</th>\n",
       "      <th>matched_filter_snr_MLE_img_1</th>\n",
       "      <th>mchirp_MLE_img_1</th>\n",
       "      <th>mchirp_MLE_img_0</th>\n",
       "      <th>mchirp_abs_diff</th>\n",
       "      <th>bhattacharya_coeff</th>\n",
       "      <th>inj_id</th>\n",
       "      <th>event_tag</th>\n",
       "    </tr>\n",
       "  </thead>\n",
       "  <tbody>\n",
       "    <tr>\n",
       "      <th>490577</th>\n",
       "      <td>6_16_904331947.740842819-1</td>\n",
       "      <td>6_16_904173839.556039214-2</td>\n",
       "      <td>1</td>\n",
       "      <td>2.275851</td>\n",
       "      <td>0.018350</td>\n",
       "      <td>0.127786</td>\n",
       "      <td>0.090225</td>\n",
       "      <td>3.582853e-02</td>\n",
       "      <td>2.686409e-02</td>\n",
       "      <td>0.507282</td>\n",
       "      <td>...</td>\n",
       "      <td>-96552.844879</td>\n",
       "      <td>-96556.291900</td>\n",
       "      <td>6.930910</td>\n",
       "      <td>9.665978</td>\n",
       "      <td>25.369051</td>\n",
       "      <td>102.805446</td>\n",
       "      <td>77.436395</td>\n",
       "      <td>418.759730</td>\n",
       "      <td>91</td>\n",
       "      <td>6_16</td>\n",
       "    </tr>\n",
       "    <tr>\n",
       "      <th>490720</th>\n",
       "      <td>6_22752_709667239.609254956-1</td>\n",
       "      <td>6_22752_709666750.975001573-2</td>\n",
       "      <td>1</td>\n",
       "      <td>2.552095</td>\n",
       "      <td>0.020577</td>\n",
       "      <td>0.100705</td>\n",
       "      <td>0.042598</td>\n",
       "      <td>3.263769e+02</td>\n",
       "      <td>4.604500e+02</td>\n",
       "      <td>86.145276</td>\n",
       "      <td>...</td>\n",
       "      <td>-96710.809875</td>\n",
       "      <td>-96389.789505</td>\n",
       "      <td>12.804305</td>\n",
       "      <td>13.007717</td>\n",
       "      <td>122.701334</td>\n",
       "      <td>77.258684</td>\n",
       "      <td>45.442650</td>\n",
       "      <td>19.259340</td>\n",
       "      <td>135</td>\n",
       "      <td>6_22752</td>\n",
       "    </tr>\n",
       "    <tr>\n",
       "      <th>491850</th>\n",
       "      <td>8_10927_770537300.748850345-1</td>\n",
       "      <td>8_10927_770537245.180587172-2</td>\n",
       "      <td>1</td>\n",
       "      <td>3.282096</td>\n",
       "      <td>0.026463</td>\n",
       "      <td>0.489408</td>\n",
       "      <td>0.164884</td>\n",
       "      <td>2.508265e+02</td>\n",
       "      <td>4.315757e+02</td>\n",
       "      <td>19.155077</td>\n",
       "      <td>...</td>\n",
       "      <td>-96643.191885</td>\n",
       "      <td>-96194.996332</td>\n",
       "      <td>10.331978</td>\n",
       "      <td>9.119739</td>\n",
       "      <td>97.257959</td>\n",
       "      <td>62.934768</td>\n",
       "      <td>34.323191</td>\n",
       "      <td>44.769872</td>\n",
       "      <td>284</td>\n",
       "      <td>8_10927</td>\n",
       "    </tr>\n",
       "    <tr>\n",
       "      <th>498479</th>\n",
       "      <td>7_1004_852645287.421835184-1</td>\n",
       "      <td>7_1004_852645287.399521112-2</td>\n",
       "      <td>1</td>\n",
       "      <td>8326.266857</td>\n",
       "      <td>67.133721</td>\n",
       "      <td>16158.560208</td>\n",
       "      <td>0.044169</td>\n",
       "      <td>2.577874e+08</td>\n",
       "      <td>8.261594e+07</td>\n",
       "      <td>7172.064872</td>\n",
       "      <td>...</td>\n",
       "      <td>-96719.263887</td>\n",
       "      <td>-95788.053521</td>\n",
       "      <td>61.120581</td>\n",
       "      <td>60.722037</td>\n",
       "      <td>64.105714</td>\n",
       "      <td>63.462856</td>\n",
       "      <td>0.642858</td>\n",
       "      <td>0.000959</td>\n",
       "      <td>260</td>\n",
       "      <td>7_1004</td>\n",
       "    </tr>\n",
       "    <tr>\n",
       "      <th>499001</th>\n",
       "      <td>2_4335_838371833.252562880-1</td>\n",
       "      <td>2_4335_838365919.945103406-2</td>\n",
       "      <td>1</td>\n",
       "      <td>5.026069</td>\n",
       "      <td>0.040525</td>\n",
       "      <td>0.447944</td>\n",
       "      <td>0.226178</td>\n",
       "      <td>2.881256e+02</td>\n",
       "      <td>1.333246e+03</td>\n",
       "      <td>21.632364</td>\n",
       "      <td>...</td>\n",
       "      <td>-96351.552225</td>\n",
       "      <td>-96452.009790</td>\n",
       "      <td>14.672954</td>\n",
       "      <td>13.251614</td>\n",
       "      <td>91.400402</td>\n",
       "      <td>104.363475</td>\n",
       "      <td>12.963073</td>\n",
       "      <td>1.686823</td>\n",
       "      <td>279</td>\n",
       "      <td>2_4335</td>\n",
       "    </tr>\n",
       "  </tbody>\n",
       "</table>\n",
       "<p>5 rows × 92 columns</p>\n",
       "</div>"
      ],
      "text/plain": [
       "                                img_0                          img_1  Lensing  \\\n",
       "490577     6_16_904331947.740842819-1     6_16_904173839.556039214-2        1   \n",
       "490720  6_22752_709667239.609254956-1  6_22752_709666750.975001573-2        1   \n",
       "491850  8_10927_770537300.748850345-1  8_10927_770537245.180587172-2        1   \n",
       "498479   7_1004_852645287.421835184-1   7_1004_852645287.399521112-2        1   \n",
       "499001   2_4335_838371833.252562880-1   2_4335_838365919.945103406-2        1   \n",
       "\n",
       "        bayestar_skymaps_blu  bayestar_skymaps_d2  bayestar_skymaps_d3  \\\n",
       "490577              2.275851             0.018350             0.127786   \n",
       "490720              2.552095             0.020577             0.100705   \n",
       "491850              3.282096             0.026463             0.489408   \n",
       "498479           8326.266857            67.133721         16158.560208   \n",
       "499001              5.026069             0.040525             0.447944   \n",
       "\n",
       "        bayestar_skymaps_lsq  \\\n",
       "490577              0.090225   \n",
       "490720              0.042598   \n",
       "491850              0.164884   \n",
       "498479              0.044169   \n",
       "499001              0.226178   \n",
       "\n",
       "        m1, m2, ra, sin_dec, a1, a2, costilt1, costilt2, costheta_jn  \\\n",
       "490577                                       3.582853e-02              \n",
       "490720                                       3.263769e+02              \n",
       "491850                                       2.508265e+02              \n",
       "498479                                       2.577874e+08              \n",
       "499001                                       2.881256e+02              \n",
       "\n",
       "        m1, m2, ra, sin_dec, costheta_jn  ra, sin_dec  ...  logl_MLE_img_0  \\\n",
       "490577                      2.686409e-02     0.507282  ...   -96552.844879   \n",
       "490720                      4.604500e+02    86.145276  ...   -96710.809875   \n",
       "491850                      4.315757e+02    19.155077  ...   -96643.191885   \n",
       "498479                      8.261594e+07  7172.064872  ...   -96719.263887   \n",
       "499001                      1.333246e+03    21.632364  ...   -96351.552225   \n",
       "\n",
       "        logl_MLE_img_1  matched_filter_snr_MLE_img_0  \\\n",
       "490577   -96556.291900                      6.930910   \n",
       "490720   -96389.789505                     12.804305   \n",
       "491850   -96194.996332                     10.331978   \n",
       "498479   -95788.053521                     61.120581   \n",
       "499001   -96452.009790                     14.672954   \n",
       "\n",
       "        matched_filter_snr_MLE_img_1  mchirp_MLE_img_1  mchirp_MLE_img_0  \\\n",
       "490577                      9.665978         25.369051        102.805446   \n",
       "490720                     13.007717        122.701334         77.258684   \n",
       "491850                      9.119739         97.257959         62.934768   \n",
       "498479                     60.722037         64.105714         63.462856   \n",
       "499001                     13.251614         91.400402        104.363475   \n",
       "\n",
       "        mchirp_abs_diff  bhattacharya_coeff  inj_id  event_tag  \n",
       "490577        77.436395          418.759730      91       6_16  \n",
       "490720        45.442650           19.259340     135    6_22752  \n",
       "491850        34.323191           44.769872     284    8_10927  \n",
       "498479         0.642858            0.000959     260     7_1004  \n",
       "499001        12.963073            1.686823     279     2_4335  \n",
       "\n",
       "[5 rows x 92 columns]"
      ]
     },
     "execution_count": 14,
     "metadata": {},
     "output_type": "execute_result"
    }
   ],
   "source": [
    "ids=[]\n",
    "event_tags=[]\n",
    "for event in tags:\n",
    "    event_tag=event[0]\n",
    "    idx=np.where(event_tag==lensed_data_haris['event_tag'])[0][0]\n",
    "    ids.append(idx),event_tags.append(event_tag)\n",
    "df_lensed['inj_id']=ids\n",
    "df_lensed['event_tag'] = event_tags\n",
    "df_lensed.tail()"
   ]
  },
  {
   "cell_type": "code",
   "execution_count": 15,
   "metadata": {},
   "outputs": [],
   "source": [
    "df_unlensed=df_test[df_test['Lensing'] == 0]\n",
    "\n",
    "event_id_dict=dict(zip(unlensed_data_haris['event_tag'],np.arange(len(unlensed_data_haris['event_tag']))))"
   ]
  },
  {
   "cell_type": "code",
   "execution_count": 16,
   "metadata": {},
   "outputs": [
    {
     "data": {
      "text/plain": [
       "dict_keys(['data_dir', 'event_tag', 'm1z', 'm2z', 'iota', 'ra', 'dec', 'tc', 'ldistance', 'snr', 'phi0', 'pol'])"
      ]
     },
     "execution_count": 16,
     "metadata": {},
     "output_type": "execute_result"
    }
   ],
   "source": [
    "unlensed_data_haris.keys()"
   ]
  },
  {
   "cell_type": "code",
   "execution_count": 17,
   "metadata": {},
   "outputs": [
    {
     "name": "stderr",
     "output_type": "stream",
     "text": [
      "/home/srashti.goyal/.conda/envs/igwn-py37-hanabi/lib/python3.7/site-packages/ipykernel_launcher.py:1: SettingWithCopyWarning: \n",
      "A value is trying to be set on a copy of a slice from a DataFrame.\n",
      "Try using .loc[row_indexer,col_indexer] = value instead\n",
      "\n",
      "See the caveats in the documentation: https://pandas.pydata.org/pandas-docs/stable/user_guide/indexing.html#returning-a-view-versus-a-copy\n",
      "  \"\"\"Entry point for launching an IPython kernel.\n",
      "/home/srashti.goyal/.conda/envs/igwn-py37-hanabi/lib/python3.7/site-packages/ipykernel_launcher.py:2: SettingWithCopyWarning: \n",
      "A value is trying to be set on a copy of a slice from a DataFrame.\n",
      "Try using .loc[row_indexer,col_indexer] = value instead\n",
      "\n",
      "See the caveats in the documentation: https://pandas.pydata.org/pandas-docs/stable/user_guide/indexing.html#returning-a-view-versus-a-copy\n",
      "  \n"
     ]
    }
   ],
   "source": [
    "df_unlensed['id_0'] = [event_id_dict[tag] for tag in df_unlensed['img_0'].values]\n",
    "df_unlensed['id_1'] = [event_id_dict[tag] for tag in df_unlensed['img_1'].values]"
   ]
  },
  {
   "cell_type": "code",
   "execution_count": 18,
   "metadata": {},
   "outputs": [
    {
     "name": "stderr",
     "output_type": "stream",
     "text": [
      "/home/srashti.goyal/.conda/envs/igwn-py37-hanabi/lib/python3.7/site-packages/ipykernel_launcher.py:1: SettingWithCopyWarning: \n",
      "A value is trying to be set on a copy of a slice from a DataFrame.\n",
      "Try using .loc[row_indexer,col_indexer] = value instead\n",
      "\n",
      "See the caveats in the documentation: https://pandas.pydata.org/pandas-docs/stable/user_guide/indexing.html#returning-a-view-versus-a-copy\n",
      "  \"\"\"Entry point for launching an IPython kernel.\n",
      "/home/srashti.goyal/.conda/envs/igwn-py37-hanabi/lib/python3.7/site-packages/ipykernel_launcher.py:2: SettingWithCopyWarning: \n",
      "A value is trying to be set on a copy of a slice from a DataFrame.\n",
      "Try using .loc[row_indexer,col_indexer] = value instead\n",
      "\n",
      "See the caveats in the documentation: https://pandas.pydata.org/pandas-docs/stable/user_guide/indexing.html#returning-a-view-versus-a-copy\n",
      "  \n",
      "/home/srashti.goyal/.conda/envs/igwn-py37-hanabi/lib/python3.7/site-packages/ipykernel_launcher.py:3: SettingWithCopyWarning: \n",
      "A value is trying to be set on a copy of a slice from a DataFrame.\n",
      "Try using .loc[row_indexer,col_indexer] = value instead\n",
      "\n",
      "See the caveats in the documentation: https://pandas.pydata.org/pandas-docs/stable/user_guide/indexing.html#returning-a-view-versus-a-copy\n",
      "  This is separate from the ipykernel package so we can avoid doing imports until\n"
     ]
    }
   ],
   "source": [
    "df_unlensed['mtotal_0'] = unlensed_data_haris['m1z'][df_unlensed['id_0']]+unlensed_data_haris['m2z'][df_unlensed['id_0']]\n",
    "df_unlensed['mtotal_1'] = unlensed_data_haris['m1z'][df_unlensed['id_1']]+unlensed_data_haris['m2z'][df_unlensed['id_1']]\n",
    "df_unlensed['snr_total'] = unlensed_data_haris['snr'][df_unlensed['id_0']]+unlensed_data_haris['snr'][df_unlensed['id_1']]"
   ]
  },
  {
   "cell_type": "code",
   "execution_count": 19,
   "metadata": {},
   "outputs": [
    {
     "name": "stderr",
     "output_type": "stream",
     "text": [
      "/home/srashti.goyal/.conda/envs/igwn-py37-hanabi/lib/python3.7/site-packages/ipykernel_launcher.py:1: SettingWithCopyWarning: \n",
      "A value is trying to be set on a copy of a slice from a DataFrame.\n",
      "Try using .loc[row_indexer,col_indexer] = value instead\n",
      "\n",
      "See the caveats in the documentation: https://pandas.pydata.org/pandas-docs/stable/user_guide/indexing.html#returning-a-view-versus-a-copy\n",
      "  \"\"\"Entry point for launching an IPython kernel.\n",
      "/home/srashti.goyal/.conda/envs/igwn-py37-hanabi/lib/python3.7/site-packages/ipykernel_launcher.py:2: SettingWithCopyWarning: \n",
      "A value is trying to be set on a copy of a slice from a DataFrame.\n",
      "Try using .loc[row_indexer,col_indexer] = value instead\n",
      "\n",
      "See the caveats in the documentation: https://pandas.pydata.org/pandas-docs/stable/user_guide/indexing.html#returning-a-view-versus-a-copy\n",
      "  \n"
     ]
    }
   ],
   "source": [
    "df_unlensed['mchirp_0'] = conv.mchirp_from_mass1_mass2(unlensed_data_haris['m1z'][df_unlensed['id_0']],unlensed_data_haris['m2z'][df_unlensed['id_0']])\n",
    "df_unlensed['mchirp_1'] = conv.mchirp_from_mass1_mass2(unlensed_data_haris['m1z'][df_unlensed['id_1']],unlensed_data_haris['m2z'][df_unlensed['id_1']])\n"
   ]
  },
  {
   "cell_type": "code",
   "execution_count": 20,
   "metadata": {},
   "outputs": [
    {
     "name": "stderr",
     "output_type": "stream",
     "text": [
      "/home/srashti.goyal/.conda/envs/igwn-py37-hanabi/lib/python3.7/site-packages/ipykernel_launcher.py:1: SettingWithCopyWarning: \n",
      "A value is trying to be set on a copy of a slice from a DataFrame.\n",
      "Try using .loc[row_indexer,col_indexer] = value instead\n",
      "\n",
      "See the caveats in the documentation: https://pandas.pydata.org/pandas-docs/stable/user_guide/indexing.html#returning-a-view-versus-a-copy\n",
      "  \"\"\"Entry point for launching an IPython kernel.\n",
      "/home/srashti.goyal/.conda/envs/igwn-py37-hanabi/lib/python3.7/site-packages/ipykernel_launcher.py:2: SettingWithCopyWarning: \n",
      "A value is trying to be set on a copy of a slice from a DataFrame.\n",
      "Try using .loc[row_indexer,col_indexer] = value instead\n",
      "\n",
      "See the caveats in the documentation: https://pandas.pydata.org/pandas-docs/stable/user_guide/indexing.html#returning-a-view-versus-a-copy\n",
      "  \n"
     ]
    }
   ],
   "source": [
    "df_unlensed['chirp_time_0']=chirptime_from_mass_forb(df_unlensed['mchirp_0'])\n",
    "df_unlensed['chirp_time_1']=chirptime_from_mass_forb(df_unlensed['mchirp_1'])"
   ]
  },
  {
   "cell_type": "code",
   "execution_count": 21,
   "metadata": {},
   "outputs": [
    {
     "name": "stderr",
     "output_type": "stream",
     "text": [
      "/home/srashti.goyal/.conda/envs/igwn-py37-hanabi/lib/python3.7/site-packages/ipykernel_launcher.py:1: SettingWithCopyWarning: \n",
      "A value is trying to be set on a copy of a slice from a DataFrame.\n",
      "Try using .loc[row_indexer,col_indexer] = value instead\n",
      "\n",
      "See the caveats in the documentation: https://pandas.pydata.org/pandas-docs/stable/user_guide/indexing.html#returning-a-view-versus-a-copy\n",
      "  \"\"\"Entry point for launching an IPython kernel.\n"
     ]
    }
   ],
   "source": [
    "df_lensed['mtotal']= lensed_data_haris['m1'][df_lensed['inj_id']]+lensed_data_haris['m2'][df_lensed['inj_id']]"
   ]
  },
  {
   "cell_type": "code",
   "execution_count": 22,
   "metadata": {},
   "outputs": [
    {
     "name": "stderr",
     "output_type": "stream",
     "text": [
      "/home/srashti.goyal/.conda/envs/igwn-py37-hanabi/lib/python3.7/site-packages/ipykernel_launcher.py:1: SettingWithCopyWarning: \n",
      "A value is trying to be set on a copy of a slice from a DataFrame.\n",
      "Try using .loc[row_indexer,col_indexer] = value instead\n",
      "\n",
      "See the caveats in the documentation: https://pandas.pydata.org/pandas-docs/stable/user_guide/indexing.html#returning-a-view-versus-a-copy\n",
      "  \"\"\"Entry point for launching an IPython kernel.\n"
     ]
    }
   ],
   "source": [
    "df_lensed['mchirp']= conv.mchirp_from_mass1_mass2(lensed_data_haris['m1'][df_lensed['inj_id']],lensed_data_haris['m2'][df_lensed['inj_id']])"
   ]
  },
  {
   "cell_type": "code",
   "execution_count": 23,
   "metadata": {},
   "outputs": [
    {
     "name": "stderr",
     "output_type": "stream",
     "text": [
      "/home/srashti.goyal/.conda/envs/igwn-py37-hanabi/lib/python3.7/site-packages/ipykernel_launcher.py:1: SettingWithCopyWarning: \n",
      "A value is trying to be set on a copy of a slice from a DataFrame.\n",
      "Try using .loc[row_indexer,col_indexer] = value instead\n",
      "\n",
      "See the caveats in the documentation: https://pandas.pydata.org/pandas-docs/stable/user_guide/indexing.html#returning-a-view-versus-a-copy\n",
      "  \"\"\"Entry point for launching an IPython kernel.\n"
     ]
    }
   ],
   "source": [
    "df_lensed['chirp_time']=chirptime_from_mass_forb(df_lensed['mchirp'])"
   ]
  },
  {
   "cell_type": "code",
   "execution_count": 24,
   "metadata": {},
   "outputs": [
    {
     "name": "stderr",
     "output_type": "stream",
     "text": [
      "/home/srashti.goyal/.conda/envs/igwn-py37-hanabi/lib/python3.7/site-packages/ipykernel_launcher.py:1: SettingWithCopyWarning: \n",
      "A value is trying to be set on a copy of a slice from a DataFrame.\n",
      "Try using .loc[row_indexer,col_indexer] = value instead\n",
      "\n",
      "See the caveats in the documentation: https://pandas.pydata.org/pandas-docs/stable/user_guide/indexing.html#returning-a-view-versus-a-copy\n",
      "  \"\"\"Entry point for launching an IPython kernel.\n",
      "/home/srashti.goyal/.conda/envs/igwn-py37-hanabi/lib/python3.7/site-packages/ipykernel_launcher.py:2: SettingWithCopyWarning: \n",
      "A value is trying to be set on a copy of a slice from a DataFrame.\n",
      "Try using .loc[row_indexer,col_indexer] = value instead\n",
      "\n",
      "See the caveats in the documentation: https://pandas.pydata.org/pandas-docs/stable/user_guide/indexing.html#returning-a-view-versus-a-copy\n",
      "  \n",
      "/home/srashti.goyal/.conda/envs/igwn-py37-hanabi/lib/python3.7/site-packages/ipykernel_launcher.py:3: SettingWithCopyWarning: \n",
      "A value is trying to be set on a copy of a slice from a DataFrame.\n",
      "Try using .loc[row_indexer,col_indexer] = value instead\n",
      "\n",
      "See the caveats in the documentation: https://pandas.pydata.org/pandas-docs/stable/user_guide/indexing.html#returning-a-view-versus-a-copy\n",
      "  This is separate from the ipykernel package so we can avoid doing imports until\n"
     ]
    }
   ],
   "source": [
    "df_lensed['snr_0']=lensed_data_haris['snr'][df_lensed['inj_id']][:,0]\n",
    "df_lensed['snr_1']=lensed_data_haris['snr'][df_lensed['inj_id']][:,1]\n",
    "df_lensed['snr_total'] = df_lensed['snr_0']+df_lensed['snr_1']"
   ]
  },
  {
   "cell_type": "code",
   "execution_count": 25,
   "metadata": {},
   "outputs": [],
   "source": [
    "snr_total = lensed_data_haris['snr'][df_lensed['inj_id']][:,0]+ lensed_data_haris['snr'][df_lensed['inj_id']][:,1]"
   ]
  },
  {
   "cell_type": "code",
   "execution_count": 26,
   "metadata": {},
   "outputs": [],
   "source": [
    "mtotal=lensed_data_haris['m1'][df_lensed['inj_id']]+lensed_data_haris['m2'][df_lensed['inj_id']]"
   ]
  },
  {
   "cell_type": "code",
   "execution_count": 27,
   "metadata": {},
   "outputs": [
    {
     "name": "stderr",
     "output_type": "stream",
     "text": [
      "/home/srashti.goyal/.conda/envs/igwn-py37-hanabi/lib/python3.7/site-packages/ipykernel_launcher.py:3: SettingWithCopyWarning: \n",
      "A value is trying to be set on a copy of a slice from a DataFrame.\n",
      "Try using .loc[row_indexer,col_indexer] = value instead\n",
      "\n",
      "See the caveats in the documentation: https://pandas.pydata.org/pandas-docs/stable/user_guide/indexing.html#returning-a-view-versus-a-copy\n",
      "  This is separate from the ipykernel package so we can avoid doing imports until\n",
      "/home/srashti.goyal/.conda/envs/igwn-py37-hanabi/lib/python3.7/site-packages/ipykernel_launcher.py:4: SettingWithCopyWarning: \n",
      "A value is trying to be set on a copy of a slice from a DataFrame.\n",
      "Try using .loc[row_indexer,col_indexer] = value instead\n",
      "\n",
      "See the caveats in the documentation: https://pandas.pydata.org/pandas-docs/stable/user_guide/indexing.html#returning-a-view-versus-a-copy\n",
      "  after removing the cwd from sys.path.\n"
     ]
    }
   ],
   "source": [
    "\n",
    "#df_lensed['sig1_inj'] = 1.2e-4*(df_lensed['snr_1'])*(df_lensed['mchirp'])**(5./3)\n",
    "#df_lensed['sig0_inj'] = 1.2e-4*(df_lensed['snr_0'])*(df_lensed['mchirp'])**(5./3)\n",
    "df_unlensed['snr_0'] = unlensed_data_haris['snr'][df_unlensed['id_0']]\n",
    "df_unlensed['snr_1'] = unlensed_data_haris['snr'][df_unlensed['id_1']]\n",
    "#df_unlensed['sig1_inj'] = 1.2e-4*(df_unlensed['snr_1'])*(df_unlensed['mchirp_1'])**(5./3)\n",
    "\n",
    "#df_unlensed['sig0_inj'] = 1.2e-4*(df_unlensed['snr_0'])*(df_unlensed['mchirp_0'])**(5./3)\n",
    "\n",
    "\n",
    "randoms_unlensed=np.random.randn(len(unlensed_data_haris['snr']))\n",
    "randoms_lensed=np.random.randn(len(df_lensed['snr_total']))"
   ]
  },
  {
   "cell_type": "raw",
   "metadata": {},
   "source": [
    "plt.plot(df_test_new['snr_0'],df_test_new['matched_filter_snr_MLE_img_0'],'.')\n",
    "plt.plot(df_test_new['snr_0'],df_test_new['snr_0'],'-')\n",
    "plt.xlim(5,100)\n",
    "plt.ylim(5,100)"
   ]
  },
  {
   "cell_type": "raw",
   "metadata": {},
   "source": [
    "bins=np.linspace(-4,4,30)\n",
    "plt.hist(df_test_new['snr_0']-df_test_new['matched_filter_snr_MLE_img_0'],bins=bins)\n",
    "plt.show()\n"
   ]
  },
  {
   "cell_type": "code",
   "execution_count": 28,
   "metadata": {},
   "outputs": [
    {
     "data": {
      "text/plain": [
       "0.45680504381418124"
      ]
     },
     "execution_count": 28,
     "metadata": {},
     "output_type": "execute_result"
    }
   ],
   "source": [
    "np.random.randn()"
   ]
  },
  {
   "cell_type": "code",
   "execution_count": 29,
   "metadata": {},
   "outputs": [
    {
     "name": "stderr",
     "output_type": "stream",
     "text": [
      "/home/srashti.goyal/.conda/envs/igwn-py37-hanabi/lib/python3.7/site-packages/ipykernel_launcher.py:3: SettingWithCopyWarning: \n",
      "A value is trying to be set on a copy of a slice from a DataFrame.\n",
      "Try using .loc[row_indexer,col_indexer] = value instead\n",
      "\n",
      "See the caveats in the documentation: https://pandas.pydata.org/pandas-docs/stable/user_guide/indexing.html#returning-a-view-versus-a-copy\n",
      "  This is separate from the ipykernel package so we can avoid doing imports until\n",
      "/home/srashti.goyal/.conda/envs/igwn-py37-hanabi/lib/python3.7/site-packages/ipykernel_launcher.py:4: SettingWithCopyWarning: \n",
      "A value is trying to be set on a copy of a slice from a DataFrame.\n",
      "Try using .loc[row_indexer,col_indexer] = value instead\n",
      "\n",
      "See the caveats in the documentation: https://pandas.pydata.org/pandas-docs/stable/user_guide/indexing.html#returning-a-view-versus-a-copy\n",
      "  after removing the cwd from sys.path.\n",
      "/home/srashti.goyal/.conda/envs/igwn-py37-hanabi/lib/python3.7/site-packages/ipykernel_launcher.py:5: SettingWithCopyWarning: \n",
      "A value is trying to be set on a copy of a slice from a DataFrame.\n",
      "Try using .loc[row_indexer,col_indexer] = value instead\n",
      "\n",
      "See the caveats in the documentation: https://pandas.pydata.org/pandas-docs/stable/user_guide/indexing.html#returning-a-view-versus-a-copy\n",
      "  \"\"\"\n",
      "/home/srashti.goyal/.conda/envs/igwn-py37-hanabi/lib/python3.7/site-packages/ipykernel_launcher.py:6: SettingWithCopyWarning: \n",
      "A value is trying to be set on a copy of a slice from a DataFrame.\n",
      "Try using .loc[row_indexer,col_indexer] = value instead\n",
      "\n",
      "See the caveats in the documentation: https://pandas.pydata.org/pandas-docs/stable/user_guide/indexing.html#returning-a-view-versus-a-copy\n",
      "  \n",
      "/home/srashti.goyal/.conda/envs/igwn-py37-hanabi/lib/python3.7/site-packages/ipykernel_launcher.py:11: SettingWithCopyWarning: \n",
      "A value is trying to be set on a copy of a slice from a DataFrame.\n",
      "Try using .loc[row_indexer,col_indexer] = value instead\n",
      "\n",
      "See the caveats in the documentation: https://pandas.pydata.org/pandas-docs/stable/user_guide/indexing.html#returning-a-view-versus-a-copy\n",
      "  # This is added back by InteractiveShellApp.init_path()\n",
      "/home/srashti.goyal/.conda/envs/igwn-py37-hanabi/lib/python3.7/site-packages/ipykernel_launcher.py:12: SettingWithCopyWarning: \n",
      "A value is trying to be set on a copy of a slice from a DataFrame.\n",
      "Try using .loc[row_indexer,col_indexer] = value instead\n",
      "\n",
      "See the caveats in the documentation: https://pandas.pydata.org/pandas-docs/stable/user_guide/indexing.html#returning-a-view-versus-a-copy\n",
      "  if sys.path[0] == '':\n",
      "/home/srashti.goyal/.conda/envs/igwn-py37-hanabi/lib/python3.7/site-packages/ipykernel_launcher.py:14: SettingWithCopyWarning: \n",
      "A value is trying to be set on a copy of a slice from a DataFrame.\n",
      "Try using .loc[row_indexer,col_indexer] = value instead\n",
      "\n",
      "See the caveats in the documentation: https://pandas.pydata.org/pandas-docs/stable/user_guide/indexing.html#returning-a-view-versus-a-copy\n",
      "  \n",
      "/home/srashti.goyal/.conda/envs/igwn-py37-hanabi/lib/python3.7/site-packages/ipykernel_launcher.py:15: SettingWithCopyWarning: \n",
      "A value is trying to be set on a copy of a slice from a DataFrame.\n",
      "Try using .loc[row_indexer,col_indexer] = value instead\n",
      "\n",
      "See the caveats in the documentation: https://pandas.pydata.org/pandas-docs/stable/user_guide/indexing.html#returning-a-view-versus-a-copy\n",
      "  from ipykernel import kernelapp as app\n",
      "/home/srashti.goyal/.conda/envs/igwn-py37-hanabi/lib/python3.7/site-packages/ipykernel_launcher.py:17: SettingWithCopyWarning: \n",
      "A value is trying to be set on a copy of a slice from a DataFrame.\n",
      "Try using .loc[row_indexer,col_indexer] = value instead\n",
      "\n",
      "See the caveats in the documentation: https://pandas.pydata.org/pandas-docs/stable/user_guide/indexing.html#returning-a-view-versus-a-copy\n",
      "/home/srashti.goyal/.conda/envs/igwn-py37-hanabi/lib/python3.7/site-packages/ipykernel_launcher.py:18: SettingWithCopyWarning: \n",
      "A value is trying to be set on a copy of a slice from a DataFrame.\n",
      "Try using .loc[row_indexer,col_indexer] = value instead\n",
      "\n",
      "See the caveats in the documentation: https://pandas.pydata.org/pandas-docs/stable/user_guide/indexing.html#returning-a-view-versus-a-copy\n",
      "/home/srashti.goyal/.conda/envs/igwn-py37-hanabi/lib/python3.7/site-packages/ipykernel_launcher.py:19: SettingWithCopyWarning: \n",
      "A value is trying to be set on a copy of a slice from a DataFrame.\n",
      "Try using .loc[row_indexer,col_indexer] = value instead\n",
      "\n",
      "See the caveats in the documentation: https://pandas.pydata.org/pandas-docs/stable/user_guide/indexing.html#returning-a-view-versus-a-copy\n",
      "/home/srashti.goyal/.conda/envs/igwn-py37-hanabi/lib/python3.7/site-packages/ipykernel_launcher.py:20: SettingWithCopyWarning: \n",
      "A value is trying to be set on a copy of a slice from a DataFrame.\n",
      "Try using .loc[row_indexer,col_indexer] = value instead\n",
      "\n",
      "See the caveats in the documentation: https://pandas.pydata.org/pandas-docs/stable/user_guide/indexing.html#returning-a-view-versus-a-copy\n"
     ]
    }
   ],
   "source": [
    "\n",
    "#df_lensed['sig1_guess'] = 1.3e-4/(df_lensed['snr_1']-np.random.rand())*(df_lensed['mchirp'])**(5./3)\n",
    "#df_lensed['sig0_guess'] = 1.3e-4/(df_lensed['snr_0']-np.random.rand())*(df_lensed['mchirp'])**(5./3)\n",
    "df_lensed['sig1_inj'] = 0.08*8/(df_lensed['snr_1']-np.random.randn())*df_lensed['mchirp']\n",
    "df_lensed['sig0_inj'] = 0.08*8/(df_lensed['snr_0']-np.random.rand())*df_lensed['mchirp']\n",
    "df_unlensed['sig1_inj'] = 0.08*8/(df_unlensed['snr_1']-np.random.randn())*df_unlensed['mchirp_1']\n",
    "df_unlensed['sig0_inj'] = 0.08*8/(df_unlensed['snr_0']-np.random.randn())*df_unlensed['mchirp_0']\n",
    "\n",
    "#df_unlensed['sig1_guess'] = 1.3e-4/(df_unlensed['snr_1']-np.random.rand())*(df_unlensed['mchirp_1'])**(5./3)\n",
    "#df_unlensed['sig0_guess'] = 1.3e-4/(df_unlensed['snr_0']-np.random.rand())*(df_unlensed['mchirp_0'])**(5./3)\n",
    "\n",
    "df_lensed['guess_mchirp_0'] = df_lensed['sig0_inj']*randoms_lensed+ np.log(df_lensed['mchirp'])\n",
    "df_lensed['guess_mchirp_1'] = df_lensed['sig1_inj']*randoms_lensed+ np.log(df_lensed['mchirp'])\n",
    "\n",
    "df_unlensed['guess_mchirp_0'] = df_unlensed['sig0_inj']*randoms_unlensed[df_unlensed['id_0']]+ np.log(df_unlensed['mchirp_0'])\n",
    "df_unlensed['guess_mchirp_1'] = df_unlensed['sig1_inj']*randoms_unlensed[df_unlensed['id_1']]+ np.log(df_unlensed['mchirp_1'])\n",
    "\n",
    "df_lensed['sig1_guess'] = 0.08*8/(df_lensed['snr_1']-np.random.randn())*df_lensed['guess_mchirp_1']\n",
    "df_lensed['sig0_guess'] = 0.08*8/(df_lensed['snr_0']-np.random.randn())*df_lensed['guess_mchirp_0']\n",
    "df_unlensed['sig1_guess'] = 0.08*8/(df_unlensed['snr_1']-np.random.randn())*df_unlensed['guess_mchirp_1']\n",
    "df_unlensed['sig0_guess'] = 0.08*8/(df_unlensed['snr_0']-np.random.randn())*df_unlensed['guess_mchirp_0']\n",
    "\n"
   ]
  },
  {
   "cell_type": "code",
   "execution_count": 30,
   "metadata": {},
   "outputs": [],
   "source": [
    "df_test_new=pd.concat([df_lensed,df_unlensed])"
   ]
  },
  {
   "cell_type": "code",
   "execution_count": 31,
   "metadata": {},
   "outputs": [],
   "source": [
    "def bhattacharya_dist(mu1,sig1,mu2,sig2):\n",
    "    return 1/4 * np.log(1/4 * ((sig1/sig2)**2 + (sig2/sig1)**2 + 2 ) ) + 1/4 * ((mu1-mu2)**2) / (sig1**2 + sig2**2)\n"
   ]
  },
  {
   "cell_type": "code",
   "execution_count": 32,
   "metadata": {},
   "outputs": [],
   "source": [
    "mu1=df_test_new['guess_mchirp_0']\n",
    "mu2=df_test_new['guess_mchirp_1']\n",
    "\n",
    "sig1=df_test_new['sig0_guess']\n",
    "\n",
    "\n",
    "sig2=df_test_new['sig1_guess']\n",
    "\n",
    "\n",
    "\n",
    "df_test_new['bhattacharya_coeff_guess'] = 1/bhattacharya_dist(mu1,sig1,mu2,sig2)"
   ]
  },
  {
   "cell_type": "code",
   "execution_count": 33,
   "metadata": {},
   "outputs": [],
   "source": [
    "df_test_new=df_test_new[df_test_new['bhattacharya_coeff_guess'].isna()==False]"
   ]
  },
  {
   "cell_type": "code",
   "execution_count": 34,
   "metadata": {},
   "outputs": [
    {
     "name": "stderr",
     "output_type": "stream",
     "text": [
      "2022-04-18 03:26:24.078645: W tensorflow/stream_executor/platform/default/dso_loader.cc:59] Could not load dynamic library 'libcudart.so.10.1'; dlerror: libcudart.so.10.1: cannot open shared object file: No such file or directory; LD_LIBRARY_PATH: /opt/intel/oneapi/vpl/2022.0.0/lib:/opt/intel/oneapi/tbb/2021.5.1/env/../lib/intel64/gcc4.8:/opt/intel/oneapi/mkl/2022.0.2/lib/intel64:/opt/intel/oneapi/itac/2021.5.0/slib:/opt/intel/oneapi/ippcp/2021.5.1/lib/intel64:/opt/intel/oneapi/ipp/2021.5.2/lib/intel64:/opt/intel/oneapi/dnnl/2022.0.2/cpu_dpcpp_gpu_dpcpp/lib:/opt/intel/oneapi/debugger/2021.5.0/gdb/intel64/lib:/opt/intel/oneapi/debugger/2021.5.0/libipt/intel64/lib:/opt/intel/oneapi/debugger/2021.5.0/dep/lib:/opt/intel/oneapi/dal/2021.5.3/lib/intel64:/opt/intel/oneapi/compiler/2022.0.2/linux/lib:/opt/intel/oneapi/compiler/2022.0.2/linux/lib/x64:/opt/intel/oneapi/compiler/2022.0.2/linux/lib/oclfpga/host/linux64/lib:/opt/intel/oneapi/compiler/2022.0.2/linux/compiler/lib/intel64_lin:/opt/intel/oneapi/ccl/2021.5.1/lib/cpu_gpu_dpcpp\n",
      "2022-04-18 03:26:24.078678: I tensorflow/stream_executor/cuda/cudart_stub.cc:29] Ignore above cudart dlerror if you do not have a GPU set up on your machine.\n"
     ]
    },
    {
     "name": "stdout",
     "output_type": "stream",
     "text": [
      "m1, m2 auc = 0.9164\n",
      "xgb_dense_QTS_0 auc = 0.9040\n",
      "bhattacharya_coeff_guess auc = 0.8671\n"
     ]
    },
    {
     "data": {
      "image/png": "[encoded data removed]",
      "text/plain": [
       "<Figure size 720x504 with 1 Axes>"
      ]
     },
     "metadata": {
      "needs_background": "light"
     },
     "output_type": "display_data"
    }
   ],
   "source": [
    "from  lensid.utils import ml_utils as ml\n",
    "fig=ml.plot_ROCs(df_test_new,cols=['m1, m2','xgb_dense_QTS_0','bhattacharya_coeff_guess'],logy=True,ylim=1e-2)"
   ]
  },
  {
   "cell_type": "code",
   "execution_count": 35,
   "metadata": {},
   "outputs": [],
   "source": [
    "df_lensed_new=df_test_new[df_test_new['Lensing'] ==1]\n",
    "df_unlensed_new=df_test_new[df_test_new['Lensing'] ==0]\n",
    "\n",
    "\n"
   ]
  },
  {
   "cell_type": "code",
   "execution_count": 47,
   "metadata": {},
   "outputs": [
    {
     "data": {
      "image/png": "[encoded data removed]",
      "text/plain": [
       "<Figure size 432x288 with 1 Axes>"
      ]
     },
     "metadata": {
      "needs_background": "light"
     },
     "output_type": "display_data"
    }
   ],
   "source": [
    "plt.loglog(df_unlensed_new['bhattacharya_coeff_guess'],df_unlensed_new['bayestar_skymaps_blu'],'+',label='Unlensed')\n",
    "plt.loglog(df_lensed_new['bhattacharya_coeff_guess'],df_lensed_new['bayestar_skymaps_blu'],'x',label='Lensed')\n",
    "plt.ylim(1e-6,1e6)\n",
    "plt.xlabel('inv Bhattacharya distance')\n",
    "plt.ylabel('Bayestar sky overlap')\n",
    "plt.legend()\n",
    "plt.grid()\n",
    "plt.show()"
   ]
  },
  {
   "cell_type": "code",
   "execution_count": 46,
   "metadata": {},
   "outputs": [
    {
     "data": {
      "image/png": "[encoded data removed]",
      "text/plain": [
       "<Figure size 432x288 with 1 Axes>"
      ]
     },
     "metadata": {
      "needs_background": "light"
     },
     "output_type": "display_data"
    }
   ],
   "source": [
    "plt.loglog(df_unlensed_new['bhattacharya_coeff_guess'],df_unlensed_new['m1, m2'],'+',label='Unlensed')\n",
    "plt.loglog(df_lensed_new['bhattacharya_coeff_guess'],df_lensed_new['m1, m2'],'x',label='Lensed')\n",
    "plt.ylim(1e-0,1e6)\n",
    "plt.xlabel('inv Bhattacharya distance')\n",
    "plt.ylabel('BLU masses')\n",
    "plt.legend()\n",
    "plt.grid()\n",
    "plt.show()"
   ]
  },
  {
   "cell_type": "code",
   "execution_count": 45,
   "metadata": {},
   "outputs": [
    {
     "data": {
      "image/png": "[encoded data removed]",
      "text/plain": [
       "<Figure size 432x288 with 1 Axes>"
      ]
     },
     "metadata": {
      "needs_background": "light"
     },
     "output_type": "display_data"
    }
   ],
   "source": [
    "plt.loglog(df_unlensed_new['bhattacharya_coeff_guess'],df_unlensed_new['xgb_dense_QTS_0'],'+',label='Unlensed')\n",
    "plt.loglog(df_lensed_new['bhattacharya_coeff_guess'],df_lensed_new['xgb_dense_QTS_0'],'x',label='Lensed')\n",
    "plt.ylim(1e-2,1.5e0)\n",
    "plt.xlabel('Bhattacharya distance')\n",
    "plt.ylabel('ML QTs')\n",
    "plt.legend()\n",
    "plt.grid()\n",
    "plt.show()"
   ]
  },
  {
   "cell_type": "code",
   "execution_count": 39,
   "metadata": {},
   "outputs": [
    {
     "data": {
      "image/png": "[encoded data removed]",
      "text/plain": [
       "<Figure size 432x288 with 1 Axes>"
      ]
     },
     "metadata": {
      "needs_background": "light"
     },
     "output_type": "display_data"
    }
   ],
   "source": [
    "plt.loglog(df_unlensed_new['m1, m2'],df_unlensed_new['ra, sin_dec'],'+',label='Unlensed')\n",
    "plt.loglog(df_lensed_new['m1, m2'],df_lensed_new['ra, sin_dec'],'x',label='Lensed')\n",
    "plt.ylim(1e-6,1e6)\n",
    "plt.xlim(1e-6,1e6)\n",
    "\n",
    "\n",
    "plt.xlabel('BLU masses')\n",
    "plt.ylabel('BLU sky')\n",
    "plt.legend()\n",
    "plt.grid()\n",
    "plt.show()"
   ]
  },
  {
   "cell_type": "raw",
   "metadata": {},
   "source": [
    "plt.scatter(df_unlensed_new['m1, m2'],df_unlensed_new['ra, sin_dec'],c=np.log10(df_unlensed_new['m1, m2']*df_unlensed_new['ra, sin_dec']),label='Unlensed',vmin=-10, vmax=8)\n",
    "#plt.clim(-12,14)\n",
    "plt.scatter(df_lensed_new['m1, m2'],df_lensed_new['ra, sin_dec'],c=np.log10(df_lensed_new['m1, m2']*df_lensed_new['ra, sin_dec']),label='Lensed',vmin=-10, vmax=8)\n",
    "plt.xscale('log')\n",
    "plt.yscale('log')\n",
    "plt.colorbar()\n",
    "#plt.clim(-12,14)\n",
    "#x=10**np.linspace(-6,6,100)\n",
    "#plt.loglog(x,1e3/x)\n",
    "plt.ylim(1e-6,1e6)\n",
    "plt.xlim(1e-6,1e6)\n",
    "\n",
    "plt.xlabel('BLU masses')\n",
    "plt.ylabel('BLU sky')\n",
    "plt.legend(loc='lower left')\n",
    "plt.grid()\n",
    "plt.show()"
   ]
  },
  {
   "cell_type": "code",
   "execution_count": 40,
   "metadata": {},
   "outputs": [
    {
     "data": {
      "image/png": "[encoded data removed]",
      "text/plain": [
       "<Figure size 432x288 with 1 Axes>"
      ]
     },
     "metadata": {
      "needs_background": "light"
     },
     "output_type": "display_data"
    }
   ],
   "source": [
    "plt.loglog(df_unlensed_new['xgb_dense_QTS_0'],df_unlensed_new['bayestar_skymaps_blu'],'+',label='Unlensed')\n",
    "plt.loglog(df_lensed_new['xgb_dense_QTS_0'],df_lensed_new['bayestar_skymaps_blu'],'x',label='Lensed')\n",
    "plt.ylim(1e-6,1e6)\n",
    "plt.xlim(1e-6,1.5e0)\n",
    "\n",
    "plt.xlabel('ML QTs ')\n",
    "plt.ylabel('Bayestar sky overlap')\n",
    "plt.legend()\n",
    "plt.grid()\n",
    "plt.show()"
   ]
  },
  {
   "cell_type": "code",
   "execution_count": null,
   "metadata": {},
   "outputs": [],
   "source": []
  },
  {
   "cell_type": "code",
   "execution_count": null,
   "metadata": {},
   "outputs": [],
   "source": []
  }
 ],
 "metadata": {
  "kernelspec": {
   "display_name": "Python 3 (ipykernel)",
   "language": "python",
   "name": "python3"
  },
  "language_info": {
   "codemirror_mode": {
    "name": "ipython",
    "version": 3
   },
   "file_extension": ".py",
   "mimetype": "text/x-python",
   "name": "python",
   "nbconvert_exporter": "python",
   "pygments_lexer": "ipython3",
   "version": "3.7.6"
  }
 },
 "nbformat": 4,
 "nbformat_minor": 4
}
