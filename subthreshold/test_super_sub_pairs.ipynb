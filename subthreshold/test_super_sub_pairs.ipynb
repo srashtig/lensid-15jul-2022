{
 "cells": [
  {
   "cell_type": "code",
   "execution_count": 1,
   "id": "f9c136eb-0db3-4953-b95e-4f84c323dbc1",
   "metadata": {},
   "outputs": [
    {
     "name": "stderr",
     "output_type": "stream",
     "text": [
      "2022-01-11 03:36:16.195467: W tensorflow/stream_executor/platform/default/dso_loader.cc:59] Could not load dynamic library 'libcudart.so.10.1'; dlerror: libcudart.so.10.1: cannot open shared object file: No such file or directory; LD_LIBRARY_PATH: /opt/intel/oneapi/vpl/2021.6.0/lib:/opt/intel/oneapi/tbb/2021.4.0/env/../lib/intel64/gcc4.8:/opt/intel/oneapi/mkl/2021.4.0/lib/intel64:/opt/intel/oneapi/itac/2021.4.0/slib:/opt/intel/oneapi/ippcp/2021.4.0/lib/intel64:/opt/intel/oneapi/ipp/2021.4.0/lib/intel64:/opt/intel/oneapi/dnnl/2021.4.0/cpu_dpcpp_gpu_dpcpp/lib:/opt/intel/oneapi/debugger/10.2.4/gdb/intel64/lib:/opt/intel/oneapi/debugger/10.2.4/libipt/intel64/lib:/opt/intel/oneapi/debugger/10.2.4/dep/lib:/opt/intel/oneapi/dal/2021.4.0/lib/intel64:/opt/intel/oneapi/compiler/2021.4.0/linux/lib:/opt/intel/oneapi/compiler/2021.4.0/linux/lib/x64:/opt/intel/oneapi/compiler/2021.4.0/linux/lib/emu:/opt/intel/oneapi/compiler/2021.4.0/linux/lib/oclfpga/host/linux64/lib:/opt/intel/oneapi/compiler/2021.4.0/linux/lib/oclfpga/linux64/lib:/opt/intel/oneapi/compiler/2021.4.0/linux/compiler/lib/intel64_lin:/opt/intel/oneapi/ccl/2021.4.0/lib/cpu_gpu_dpcpp\n",
      "2022-01-11 03:36:16.195511: I tensorflow/stream_executor/cuda/cudart_stub.cc:29] Ignore above cudart dlerror if you do not have a GPU set up on your machine.\n"
     ]
    }
   ],
   "source": [
    "from lensid.utils.ml_utils import *"
   ]
  },
  {
   "cell_type": "code",
   "execution_count": 2,
   "id": "e9d57543-440c-4362-8a37-61f44009103b",
   "metadata": {},
   "outputs": [],
   "source": [
    "df_ul_qts=pd.read_csv('/home/srashti.goyal/lensid_runs/subthreshold/ML_1p0_AnalyticalPsd_sub_unlensed/data/dataframes/unlensed_super_sub_test_QTs_kaggle.csv')\n",
    "df_ul_sky=pd.read_csv('/home/srashti.goyal/lensid_runs/subthreshold/ML_1p0_AnalyticalPsd_sub_unlensed/data/dataframes/unlensed_super_sub_test_sky.csv')"
   ]
  },
  {
   "cell_type": "code",
   "execution_count": 3,
   "id": "398e3c92-ca40-42cf-b044-f34d5419614d",
   "metadata": {},
   "outputs": [
    {
     "data": {
      "text/html": [
       "<div>\n",
       "<style scoped>\n",
       "    .dataframe tbody tr th:only-of-type {\n",
       "        vertical-align: middle;\n",
       "    }\n",
       "\n",
       "    .dataframe tbody tr th {\n",
       "        vertical-align: top;\n",
       "    }\n",
       "\n",
       "    .dataframe thead th {\n",
       "        text-align: right;\n",
       "    }\n",
       "</style>\n",
       "<table border=\"1\" class=\"dataframe\">\n",
       "  <thead>\n",
       "    <tr style=\"text-align: right;\">\n",
       "      <th></th>\n",
       "      <th>Unnamed: 0</th>\n",
       "      <th>img_0</th>\n",
       "      <th>img_1</th>\n",
       "      <th>Lensing</th>\n",
       "      <th>dense_H1_0</th>\n",
       "      <th>mean_overlap_qts_H1</th>\n",
       "      <th>std_overlap_qts_H1</th>\n",
       "      <th>lsq_overlap_qts_H1</th>\n",
       "      <th>dense_L1_0</th>\n",
       "      <th>mean_overlap_qts_L1</th>\n",
       "      <th>std_overlap_qts_L1</th>\n",
       "      <th>lsq_overlap_qts_L1</th>\n",
       "      <th>dense_V1_0</th>\n",
       "      <th>mean_overlap_qts_V1</th>\n",
       "      <th>std_overlap_qts_V1</th>\n",
       "      <th>lsq_overlap_qts_V1</th>\n",
       "    </tr>\n",
       "  </thead>\n",
       "  <tbody>\n",
       "    <tr>\n",
       "      <th>1186994</th>\n",
       "      <td>1186994</td>\n",
       "      <td>sub_1181</td>\n",
       "      <td>670316500.000000000-340633</td>\n",
       "      <td>0</td>\n",
       "      <td>0.277847</td>\n",
       "      <td>8073.290527</td>\n",
       "      <td>0.118410</td>\n",
       "      <td>5645.949219</td>\n",
       "      <td>0.028431</td>\n",
       "      <td>7167.754395</td>\n",
       "      <td>0.105324</td>\n",
       "      <td>5242.676270</td>\n",
       "      <td>0.117527</td>\n",
       "      <td>7082.952148</td>\n",
       "      <td>0.105392</td>\n",
       "      <td>4683.276367</td>\n",
       "    </tr>\n",
       "    <tr>\n",
       "      <th>1186995</th>\n",
       "      <td>1186995</td>\n",
       "      <td>sub_1182</td>\n",
       "      <td>670316500.000000000-340633</td>\n",
       "      <td>0</td>\n",
       "      <td>0.643665</td>\n",
       "      <td>7731.746582</td>\n",
       "      <td>0.113599</td>\n",
       "      <td>5348.901367</td>\n",
       "      <td>0.472637</td>\n",
       "      <td>7446.173828</td>\n",
       "      <td>0.111387</td>\n",
       "      <td>5333.762695</td>\n",
       "      <td>0.188858</td>\n",
       "      <td>7036.500000</td>\n",
       "      <td>0.105043</td>\n",
       "      <td>4495.964355</td>\n",
       "    </tr>\n",
       "    <tr>\n",
       "      <th>1186996</th>\n",
       "      <td>1186996</td>\n",
       "      <td>sub_1183</td>\n",
       "      <td>670316500.000000000-340633</td>\n",
       "      <td>0</td>\n",
       "      <td>0.279637</td>\n",
       "      <td>7717.589355</td>\n",
       "      <td>0.113649</td>\n",
       "      <td>5593.905762</td>\n",
       "      <td>0.023678</td>\n",
       "      <td>6979.604004</td>\n",
       "      <td>0.104333</td>\n",
       "      <td>4786.351562</td>\n",
       "      <td>0.130312</td>\n",
       "      <td>7136.179688</td>\n",
       "      <td>0.105223</td>\n",
       "      <td>4921.461914</td>\n",
       "    </tr>\n",
       "    <tr>\n",
       "      <th>1186997</th>\n",
       "      <td>1186997</td>\n",
       "      <td>sub_1184</td>\n",
       "      <td>670316500.000000000-340633</td>\n",
       "      <td>0</td>\n",
       "      <td>0.721590</td>\n",
       "      <td>7579.495117</td>\n",
       "      <td>0.116073</td>\n",
       "      <td>4984.937988</td>\n",
       "      <td>0.040061</td>\n",
       "      <td>7165.028320</td>\n",
       "      <td>0.106292</td>\n",
       "      <td>4749.762695</td>\n",
       "      <td>0.988412</td>\n",
       "      <td>7479.162109</td>\n",
       "      <td>0.111728</td>\n",
       "      <td>5064.059570</td>\n",
       "    </tr>\n",
       "    <tr>\n",
       "      <th>1186998</th>\n",
       "      <td>1186998</td>\n",
       "      <td>sub_1185</td>\n",
       "      <td>670316500.000000000-340633</td>\n",
       "      <td>0</td>\n",
       "      <td>0.554862</td>\n",
       "      <td>7626.363281</td>\n",
       "      <td>0.113989</td>\n",
       "      <td>4959.791016</td>\n",
       "      <td>0.048475</td>\n",
       "      <td>7524.823242</td>\n",
       "      <td>0.110628</td>\n",
       "      <td>5459.312500</td>\n",
       "      <td>0.092968</td>\n",
       "      <td>6844.000977</td>\n",
       "      <td>0.102704</td>\n",
       "      <td>4437.671875</td>\n",
       "    </tr>\n",
       "  </tbody>\n",
       "</table>\n",
       "</div>"
      ],
      "text/plain": [
       "         Unnamed: 0     img_0                       img_1  Lensing  \\\n",
       "1186994     1186994  sub_1181  670316500.000000000-340633        0   \n",
       "1186995     1186995  sub_1182  670316500.000000000-340633        0   \n",
       "1186996     1186996  sub_1183  670316500.000000000-340633        0   \n",
       "1186997     1186997  sub_1184  670316500.000000000-340633        0   \n",
       "1186998     1186998  sub_1185  670316500.000000000-340633        0   \n",
       "\n",
       "         dense_H1_0  mean_overlap_qts_H1  std_overlap_qts_H1  \\\n",
       "1186994    0.277847          8073.290527            0.118410   \n",
       "1186995    0.643665          7731.746582            0.113599   \n",
       "1186996    0.279637          7717.589355            0.113649   \n",
       "1186997    0.721590          7579.495117            0.116073   \n",
       "1186998    0.554862          7626.363281            0.113989   \n",
       "\n",
       "         lsq_overlap_qts_H1  dense_L1_0  mean_overlap_qts_L1  \\\n",
       "1186994         5645.949219    0.028431          7167.754395   \n",
       "1186995         5348.901367    0.472637          7446.173828   \n",
       "1186996         5593.905762    0.023678          6979.604004   \n",
       "1186997         4984.937988    0.040061          7165.028320   \n",
       "1186998         4959.791016    0.048475          7524.823242   \n",
       "\n",
       "         std_overlap_qts_L1  lsq_overlap_qts_L1  dense_V1_0  \\\n",
       "1186994            0.105324         5242.676270    0.117527   \n",
       "1186995            0.111387         5333.762695    0.188858   \n",
       "1186996            0.104333         4786.351562    0.130312   \n",
       "1186997            0.106292         4749.762695    0.988412   \n",
       "1186998            0.110628         5459.312500    0.092968   \n",
       "\n",
       "         mean_overlap_qts_V1  std_overlap_qts_V1  lsq_overlap_qts_V1  \n",
       "1186994          7082.952148            0.105392         4683.276367  \n",
       "1186995          7036.500000            0.105043         4495.964355  \n",
       "1186996          7136.179688            0.105223         4921.461914  \n",
       "1186997          7479.162109            0.111728         5064.059570  \n",
       "1186998          6844.000977            0.102704         4437.671875  "
      ]
     },
     "execution_count": 3,
     "metadata": {},
     "output_type": "execute_result"
    }
   ],
   "source": [
    "df_ul_qts.tail()"
   ]
  },
  {
   "cell_type": "code",
   "execution_count": 4,
   "id": "c804ae9c-c09b-4786-8adc-6545a0f65571",
   "metadata": {},
   "outputs": [],
   "source": [
    "df_l_qts=pd.read_csv('/home/srashti.goyal/lensid_runs/subthreshold/ML_1p0_AnalyticalPsd_super_sub/data/dataframes/lensed_QTs_kaggle.csv')\n",
    "df_l_sky=pd.read_csv('/home/srashti.goyal/lensid_runs/subthreshold/ML_1p0_AnalyticalPsd_super_sub/data/dataframes/lensed_sky.csv')"
   ]
  },
  {
   "cell_type": "code",
   "execution_count": 5,
   "id": "3d756670-125a-45f7-8cf8-ec21de8a217c",
   "metadata": {},
   "outputs": [
    {
     "data": {
      "text/html": [
       "<div>\n",
       "<style scoped>\n",
       "    .dataframe tbody tr th:only-of-type {\n",
       "        vertical-align: middle;\n",
       "    }\n",
       "\n",
       "    .dataframe tbody tr th {\n",
       "        vertical-align: top;\n",
       "    }\n",
       "\n",
       "    .dataframe thead th {\n",
       "        text-align: right;\n",
       "    }\n",
       "</style>\n",
       "<table border=\"1\" class=\"dataframe\">\n",
       "  <thead>\n",
       "    <tr style=\"text-align: right;\">\n",
       "      <th></th>\n",
       "      <th>Unnamed: 0</th>\n",
       "      <th>img_0</th>\n",
       "      <th>img_1</th>\n",
       "      <th>Lensing</th>\n",
       "      <th>dense_H1_0</th>\n",
       "      <th>mean_overlap_qts_H1</th>\n",
       "      <th>std_overlap_qts_H1</th>\n",
       "      <th>lsq_overlap_qts_H1</th>\n",
       "      <th>dense_L1_0</th>\n",
       "      <th>mean_overlap_qts_L1</th>\n",
       "      <th>std_overlap_qts_L1</th>\n",
       "      <th>lsq_overlap_qts_L1</th>\n",
       "      <th>dense_V1_0</th>\n",
       "      <th>mean_overlap_qts_V1</th>\n",
       "      <th>std_overlap_qts_V1</th>\n",
       "      <th>lsq_overlap_qts_V1</th>\n",
       "    </tr>\n",
       "  </thead>\n",
       "  <tbody>\n",
       "    <tr>\n",
       "      <th>433</th>\n",
       "      <td>433</td>\n",
       "      <td>super_sub_441_0</td>\n",
       "      <td>super_sub_441_1</td>\n",
       "      <td>1</td>\n",
       "      <td>0.926335</td>\n",
       "      <td>7913.766602</td>\n",
       "      <td>0.115051</td>\n",
       "      <td>5195.4540</td>\n",
       "      <td>0.955467</td>\n",
       "      <td>7160.700684</td>\n",
       "      <td>0.106515</td>\n",
       "      <td>5366.1380</td>\n",
       "      <td>0.936383</td>\n",
       "      <td>8088.309082</td>\n",
       "      <td>0.118573</td>\n",
       "      <td>5649.2925</td>\n",
       "    </tr>\n",
       "    <tr>\n",
       "      <th>434</th>\n",
       "      <td>434</td>\n",
       "      <td>super_sub_442_0</td>\n",
       "      <td>super_sub_442_1</td>\n",
       "      <td>1</td>\n",
       "      <td>0.999219</td>\n",
       "      <td>7540.264648</td>\n",
       "      <td>0.111093</td>\n",
       "      <td>4752.0000</td>\n",
       "      <td>0.949603</td>\n",
       "      <td>7228.031738</td>\n",
       "      <td>0.108122</td>\n",
       "      <td>5090.0040</td>\n",
       "      <td>0.275770</td>\n",
       "      <td>7211.458008</td>\n",
       "      <td>0.106251</td>\n",
       "      <td>4786.5176</td>\n",
       "    </tr>\n",
       "    <tr>\n",
       "      <th>435</th>\n",
       "      <td>435</td>\n",
       "      <td>super_sub_443_0</td>\n",
       "      <td>super_sub_443_1</td>\n",
       "      <td>1</td>\n",
       "      <td>0.955724</td>\n",
       "      <td>8193.957031</td>\n",
       "      <td>0.117683</td>\n",
       "      <td>4748.1300</td>\n",
       "      <td>0.792465</td>\n",
       "      <td>7439.778809</td>\n",
       "      <td>0.109160</td>\n",
       "      <td>4307.8296</td>\n",
       "      <td>0.700635</td>\n",
       "      <td>6800.683594</td>\n",
       "      <td>0.106565</td>\n",
       "      <td>4285.8022</td>\n",
       "    </tr>\n",
       "    <tr>\n",
       "      <th>436</th>\n",
       "      <td>436</td>\n",
       "      <td>super_sub_444_0</td>\n",
       "      <td>super_sub_444_1</td>\n",
       "      <td>1</td>\n",
       "      <td>0.973118</td>\n",
       "      <td>6973.681641</td>\n",
       "      <td>0.102159</td>\n",
       "      <td>6013.3276</td>\n",
       "      <td>0.969778</td>\n",
       "      <td>7504.561523</td>\n",
       "      <td>0.110103</td>\n",
       "      <td>4766.9883</td>\n",
       "      <td>0.979157</td>\n",
       "      <td>7444.046875</td>\n",
       "      <td>0.107230</td>\n",
       "      <td>5144.1816</td>\n",
       "    </tr>\n",
       "    <tr>\n",
       "      <th>437</th>\n",
       "      <td>437</td>\n",
       "      <td>super_sub_445_0</td>\n",
       "      <td>super_sub_445_1</td>\n",
       "      <td>1</td>\n",
       "      <td>0.802592</td>\n",
       "      <td>7756.002930</td>\n",
       "      <td>0.111031</td>\n",
       "      <td>4711.5770</td>\n",
       "      <td>0.992556</td>\n",
       "      <td>7599.792969</td>\n",
       "      <td>0.114755</td>\n",
       "      <td>4799.5650</td>\n",
       "      <td>0.359769</td>\n",
       "      <td>7636.083008</td>\n",
       "      <td>0.110752</td>\n",
       "      <td>4454.8457</td>\n",
       "    </tr>\n",
       "  </tbody>\n",
       "</table>\n",
       "</div>"
      ],
      "text/plain": [
       "     Unnamed: 0            img_0            img_1  Lensing  dense_H1_0  \\\n",
       "433         433  super_sub_441_0  super_sub_441_1        1    0.926335   \n",
       "434         434  super_sub_442_0  super_sub_442_1        1    0.999219   \n",
       "435         435  super_sub_443_0  super_sub_443_1        1    0.955724   \n",
       "436         436  super_sub_444_0  super_sub_444_1        1    0.973118   \n",
       "437         437  super_sub_445_0  super_sub_445_1        1    0.802592   \n",
       "\n",
       "     mean_overlap_qts_H1  std_overlap_qts_H1  lsq_overlap_qts_H1  dense_L1_0  \\\n",
       "433          7913.766602            0.115051           5195.4540    0.955467   \n",
       "434          7540.264648            0.111093           4752.0000    0.949603   \n",
       "435          8193.957031            0.117683           4748.1300    0.792465   \n",
       "436          6973.681641            0.102159           6013.3276    0.969778   \n",
       "437          7756.002930            0.111031           4711.5770    0.992556   \n",
       "\n",
       "     mean_overlap_qts_L1  std_overlap_qts_L1  lsq_overlap_qts_L1  dense_V1_0  \\\n",
       "433          7160.700684            0.106515           5366.1380    0.936383   \n",
       "434          7228.031738            0.108122           5090.0040    0.275770   \n",
       "435          7439.778809            0.109160           4307.8296    0.700635   \n",
       "436          7504.561523            0.110103           4766.9883    0.979157   \n",
       "437          7599.792969            0.114755           4799.5650    0.359769   \n",
       "\n",
       "     mean_overlap_qts_V1  std_overlap_qts_V1  lsq_overlap_qts_V1  \n",
       "433          8088.309082            0.118573           5649.2925  \n",
       "434          7211.458008            0.106251           4786.5176  \n",
       "435          6800.683594            0.106565           4285.8022  \n",
       "436          7444.046875            0.107230           5144.1816  \n",
       "437          7636.083008            0.110752           4454.8457  "
      ]
     },
     "execution_count": 5,
     "metadata": {},
     "output_type": "execute_result"
    }
   ],
   "source": [
    "df_l_qts.tail()"
   ]
  },
  {
   "cell_type": "code",
   "execution_count": 6,
   "id": "2b1ede20-0818-462a-9336-b5e80001190c",
   "metadata": {},
   "outputs": [
    {
     "data": {
      "text/html": [
       "<div>\n",
       "<style scoped>\n",
       "    .dataframe tbody tr th:only-of-type {\n",
       "        vertical-align: middle;\n",
       "    }\n",
       "\n",
       "    .dataframe tbody tr th {\n",
       "        vertical-align: top;\n",
       "    }\n",
       "\n",
       "    .dataframe thead th {\n",
       "        text-align: right;\n",
       "    }\n",
       "</style>\n",
       "<table border=\"1\" class=\"dataframe\">\n",
       "  <thead>\n",
       "    <tr style=\"text-align: right;\">\n",
       "      <th></th>\n",
       "      <th>Unnamed: 0</th>\n",
       "      <th>img_0</th>\n",
       "      <th>img_1</th>\n",
       "      <th>Lensing</th>\n",
       "      <th>bayestar_skymaps_blu</th>\n",
       "      <th>bayestar_skymaps_d2</th>\n",
       "      <th>bayestar_skymaps_d3</th>\n",
       "      <th>bayestar_skymaps_lsq</th>\n",
       "    </tr>\n",
       "  </thead>\n",
       "  <tbody>\n",
       "    <tr>\n",
       "      <th>433</th>\n",
       "      <td>433</td>\n",
       "      <td>super_sub_441_0</td>\n",
       "      <td>super_sub_441_1</td>\n",
       "      <td>1</td>\n",
       "      <td>0.924552</td>\n",
       "      <td>0.007455</td>\n",
       "      <td>0.010280</td>\n",
       "      <td>0.057642</td>\n",
       "    </tr>\n",
       "    <tr>\n",
       "      <th>434</th>\n",
       "      <td>434</td>\n",
       "      <td>super_sub_442_0</td>\n",
       "      <td>super_sub_442_1</td>\n",
       "      <td>1</td>\n",
       "      <td>1.512949</td>\n",
       "      <td>0.012199</td>\n",
       "      <td>0.112353</td>\n",
       "      <td>0.082786</td>\n",
       "    </tr>\n",
       "    <tr>\n",
       "      <th>435</th>\n",
       "      <td>435</td>\n",
       "      <td>super_sub_443_0</td>\n",
       "      <td>super_sub_443_1</td>\n",
       "      <td>1</td>\n",
       "      <td>69.916233</td>\n",
       "      <td>0.563726</td>\n",
       "      <td>10.068280</td>\n",
       "      <td>0.054020</td>\n",
       "    </tr>\n",
       "    <tr>\n",
       "      <th>436</th>\n",
       "      <td>436</td>\n",
       "      <td>super_sub_444_0</td>\n",
       "      <td>super_sub_444_1</td>\n",
       "      <td>1</td>\n",
       "      <td>0.857812</td>\n",
       "      <td>0.006916</td>\n",
       "      <td>0.011188</td>\n",
       "      <td>0.082577</td>\n",
       "    </tr>\n",
       "    <tr>\n",
       "      <th>437</th>\n",
       "      <td>437</td>\n",
       "      <td>super_sub_445_0</td>\n",
       "      <td>super_sub_445_1</td>\n",
       "      <td>1</td>\n",
       "      <td>0.698059</td>\n",
       "      <td>0.005628</td>\n",
       "      <td>0.008647</td>\n",
       "      <td>0.048581</td>\n",
       "    </tr>\n",
       "  </tbody>\n",
       "</table>\n",
       "</div>"
      ],
      "text/plain": [
       "     Unnamed: 0            img_0            img_1  Lensing  \\\n",
       "433         433  super_sub_441_0  super_sub_441_1        1   \n",
       "434         434  super_sub_442_0  super_sub_442_1        1   \n",
       "435         435  super_sub_443_0  super_sub_443_1        1   \n",
       "436         436  super_sub_444_0  super_sub_444_1        1   \n",
       "437         437  super_sub_445_0  super_sub_445_1        1   \n",
       "\n",
       "     bayestar_skymaps_blu  bayestar_skymaps_d2  bayestar_skymaps_d3  \\\n",
       "433              0.924552             0.007455             0.010280   \n",
       "434              1.512949             0.012199             0.112353   \n",
       "435             69.916233             0.563726            10.068280   \n",
       "436              0.857812             0.006916             0.011188   \n",
       "437              0.698059             0.005628             0.008647   \n",
       "\n",
       "     bayestar_skymaps_lsq  \n",
       "433              0.057642  \n",
       "434              0.082786  \n",
       "435              0.054020  \n",
       "436              0.082577  \n",
       "437              0.048581  "
      ]
     },
     "execution_count": 6,
     "metadata": {},
     "output_type": "execute_result"
    }
   ],
   "source": [
    "df_l_sky.tail()"
   ]
  },
  {
   "cell_type": "markdown",
   "id": "f059bb64-61a7-4f77-9a6c-8187e6a9e66a",
   "metadata": {},
   "source": [
    "### Test the existing lensid models trained on super super pairs"
   ]
  },
  {
   "cell_type": "code",
   "execution_count": 7,
   "id": "9eda1ded-856d-4ee3-8c94-5e37c68a9385",
   "metadata": {},
   "outputs": [],
   "source": [
    "df_test_qts = pd.concat([df_l_qts,df_ul_qts],ignore_index = True).sample(frac = 1).reset_index(drop = True)"
   ]
  },
  {
   "cell_type": "code",
   "execution_count": 8,
   "id": "f5330d85-2ede-4be5-96aa-97067b524c35",
   "metadata": {},
   "outputs": [],
   "source": [
    "df_test_sky = pd.concat([df_l_sky,df_ul_sky],ignore_index = True).sample(frac = 1).reset_index(drop = True)"
   ]
  },
  {
   "cell_type": "code",
   "execution_count": 9,
   "id": "7b29b881-42bb-47bb-ba52-b096148394af",
   "metadata": {},
   "outputs": [],
   "source": [
    "xgb_sky = joblib.load('/home/srashti.goyal/lensid/saved_models/XGBsky_0.pkl')\n",
    "xgb_qts = joblib.load('/home/srashti.goyal/lensid/saved_models/XGBQT_0.pkl')"
   ]
  },
  {
   "cell_type": "code",
   "execution_count": 10,
   "id": "38cf4759-8dc7-470c-8c2f-217fceb26515",
   "metadata": {},
   "outputs": [],
   "source": [
    "df_test_qts = predict_xgboost_dense_qts(df_test_qts,xgb_qts)\n",
    "df_test_sky = XGB_predict(df_test_sky,xgb_sky)"
   ]
  },
  {
   "cell_type": "code",
   "execution_count": 11,
   "id": "c408a779-13de-45fb-82d7-639d74894a2e",
   "metadata": {},
   "outputs": [
    {
     "data": {
      "text/html": [
       "<div>\n",
       "<style scoped>\n",
       "    .dataframe tbody tr th:only-of-type {\n",
       "        vertical-align: middle;\n",
       "    }\n",
       "\n",
       "    .dataframe tbody tr th {\n",
       "        vertical-align: top;\n",
       "    }\n",
       "\n",
       "    .dataframe thead th {\n",
       "        text-align: right;\n",
       "    }\n",
       "</style>\n",
       "<table border=\"1\" class=\"dataframe\">\n",
       "  <thead>\n",
       "    <tr style=\"text-align: right;\">\n",
       "      <th></th>\n",
       "      <th>Unnamed: 0</th>\n",
       "      <th>img_0</th>\n",
       "      <th>img_1</th>\n",
       "      <th>Lensing</th>\n",
       "      <th>bayestar_skymaps_blu</th>\n",
       "      <th>bayestar_skymaps_d2</th>\n",
       "      <th>bayestar_skymaps_d3</th>\n",
       "      <th>bayestar_skymaps_lsq</th>\n",
       "      <th>xgb_pred_bayestar_skymaps</th>\n",
       "    </tr>\n",
       "  </thead>\n",
       "  <tbody>\n",
       "    <tr>\n",
       "      <th>1187432</th>\n",
       "      <td>93666</td>\n",
       "      <td>sub_1080</td>\n",
       "      <td>636738500.000000000-273477</td>\n",
       "      <td>0</td>\n",
       "      <td>8.681774e-07</td>\n",
       "      <td>7.000013e-09</td>\n",
       "      <td>4.179068e-07</td>\n",
       "      <td>0.276651</td>\n",
       "      <td>0.000002</td>\n",
       "    </tr>\n",
       "    <tr>\n",
       "      <th>1187433</th>\n",
       "      <td>800035</td>\n",
       "      <td>sub_1184</td>\n",
       "      <td>672973500.000000000-345947</td>\n",
       "      <td>0</td>\n",
       "      <td>5.710902e-01</td>\n",
       "      <td>4.604634e-03</td>\n",
       "      <td>3.225090e-02</td>\n",
       "      <td>0.131247</td>\n",
       "      <td>0.000043</td>\n",
       "    </tr>\n",
       "    <tr>\n",
       "      <th>1187434</th>\n",
       "      <td>441360</td>\n",
       "      <td>sub_983</td>\n",
       "      <td>594245000.000000000-188490</td>\n",
       "      <td>0</td>\n",
       "      <td>1.304100e+00</td>\n",
       "      <td>1.051481e-02</td>\n",
       "      <td>6.497011e-02</td>\n",
       "      <td>0.120319</td>\n",
       "      <td>0.000774</td>\n",
       "    </tr>\n",
       "    <tr>\n",
       "      <th>1187435</th>\n",
       "      <td>848412</td>\n",
       "      <td>sub_894</td>\n",
       "      <td>604609000.000000000-209218</td>\n",
       "      <td>0</td>\n",
       "      <td>6.530398e-01</td>\n",
       "      <td>5.265384e-03</td>\n",
       "      <td>2.006234e-02</td>\n",
       "      <td>0.099890</td>\n",
       "      <td>0.000341</td>\n",
       "    </tr>\n",
       "    <tr>\n",
       "      <th>1187436</th>\n",
       "      <td>395113</td>\n",
       "      <td>sub_1029</td>\n",
       "      <td>564252500.000000000-128505</td>\n",
       "      <td>0</td>\n",
       "      <td>6.470263e-01</td>\n",
       "      <td>5.216898e-03</td>\n",
       "      <td>4.232571e-03</td>\n",
       "      <td>0.035397</td>\n",
       "      <td>0.001104</td>\n",
       "    </tr>\n",
       "  </tbody>\n",
       "</table>\n",
       "</div>"
      ],
      "text/plain": [
       "         Unnamed: 0     img_0                       img_1  Lensing  \\\n",
       "1187432       93666  sub_1080  636738500.000000000-273477        0   \n",
       "1187433      800035  sub_1184  672973500.000000000-345947        0   \n",
       "1187434      441360   sub_983  594245000.000000000-188490        0   \n",
       "1187435      848412   sub_894  604609000.000000000-209218        0   \n",
       "1187436      395113  sub_1029  564252500.000000000-128505        0   \n",
       "\n",
       "         bayestar_skymaps_blu  bayestar_skymaps_d2  bayestar_skymaps_d3  \\\n",
       "1187432          8.681774e-07         7.000013e-09         4.179068e-07   \n",
       "1187433          5.710902e-01         4.604634e-03         3.225090e-02   \n",
       "1187434          1.304100e+00         1.051481e-02         6.497011e-02   \n",
       "1187435          6.530398e-01         5.265384e-03         2.006234e-02   \n",
       "1187436          6.470263e-01         5.216898e-03         4.232571e-03   \n",
       "\n",
       "         bayestar_skymaps_lsq  xgb_pred_bayestar_skymaps  \n",
       "1187432              0.276651                   0.000002  \n",
       "1187433              0.131247                   0.000043  \n",
       "1187434              0.120319                   0.000774  \n",
       "1187435              0.099890                   0.000341  \n",
       "1187436              0.035397                   0.001104  "
      ]
     },
     "execution_count": 11,
     "metadata": {},
     "output_type": "execute_result"
    }
   ],
   "source": [
    "df_test_sky.tail()"
   ]
  },
  {
   "cell_type": "code",
   "execution_count": 12,
   "id": "70c42e28-c2ea-4b3c-92b8-a1caaf0f5fe2",
   "metadata": {},
   "outputs": [],
   "source": [
    "#print((df_test_sky.isnull()).sum())"
   ]
  },
  {
   "cell_type": "code",
   "execution_count": 13,
   "id": "c47bc01d-2408-4eb3-a130-247adaa21c6b",
   "metadata": {},
   "outputs": [
    {
     "name": "stdout",
     "output_type": "stream",
     "text": [
      "dense_H1_0 auc = 0.7885\n",
      "dense_L1_0 auc = 0.7792\n",
      "dense_V1_0 auc = 0.7278\n",
      "xgb_dense_QTS_0 auc = 0.8056\n"
     ]
    },
    {
     "name": "stderr",
     "output_type": "stream",
     "text": [
      "/home/srashti.goyal/.conda/envs/igwn-py37-hanabi/lib/python3.7/site-packages/lensid/utils/ml_utils.py:864: UserWarning: Attempted to set non-positive bottom ylim on a log-scaled axis.\n",
      "Invalid limit will be ignored.\n",
      "  plt.ylim(ylim, 1)\n"
     ]
    },
    {
     "data": {
      "image/png": "[encoded data removed]",
      "text/plain": [
       "<Figure size 720x504 with 1 Axes>"
      ]
     },
     "metadata": {
      "needs_background": "light"
     },
     "output_type": "display_data"
    }
   ],
   "source": [
    "fpps,fig = plot_ROCs(df_test_qts.dropna(),cols=['dense_H1_0', 'dense_L1_0', 'dense_V1_0','xgb_dense_QTS_0'],logy=True)"
   ]
  },
  {
   "cell_type": "code",
   "execution_count": 14,
   "id": "ae099d7a-4926-4a51-a6f9-9ca07df793de",
   "metadata": {},
   "outputs": [
    {
     "name": "stdout",
     "output_type": "stream",
     "text": [
      "xgb_pred_bayestar_skymaps auc = 0.9564\n",
      "bayestar_skymaps_blu auc = 0.9206\n"
     ]
    },
    {
     "data": {
      "image/png": "[encoded data removed]",
      "text/plain": [
       "<Figure size 720x504 with 1 Axes>"
      ]
     },
     "metadata": {
      "needs_background": "light"
     },
     "output_type": "display_data"
    }
   ],
   "source": [
    "fpps,fig = plot_ROCs(df_test_sky.dropna(),cols=['xgb_pred_bayestar_skymaps','bayestar_skymaps_blu'],logy=False)"
   ]
  },
  {
   "cell_type": "code",
   "execution_count": 15,
   "id": "756606a5-1fa9-427e-a9e9-b66b15ac91ed",
   "metadata": {},
   "outputs": [],
   "source": [
    "df_test_combined = pd.merge(df_test_qts,df_test_sky,on=['img_0','img_1','Lensing'])"
   ]
  },
  {
   "cell_type": "code",
   "execution_count": 16,
   "id": "a89f3f19-d4d0-4020-a143-32b6974d49de",
   "metadata": {},
   "outputs": [],
   "source": [
    "df_test_combined['densnet_xgbsky_bayestar_mul_0'] = df_test_combined['xgb_pred_bayestar_skymaps']*df_test_combined['xgb_dense_QTS_0']"
   ]
  },
  {
   "cell_type": "code",
   "execution_count": 17,
   "id": "3a118674-5ccf-4b14-b8c8-6b323ca78e2c",
   "metadata": {},
   "outputs": [
    {
     "name": "stdout",
     "output_type": "stream",
     "text": [
      "xgb_pred_bayestar_skymaps auc = 0.9564\n",
      "xgb_dense_QTS_0 auc = 0.8056\n",
      "densnet_xgbsky_bayestar_mul_0 auc = 0.9681\n"
     ]
    },
    {
     "data": {
      "image/png": "[encoded data removed]",
      "text/plain": [
       "<Figure size 720x504 with 1 Axes>"
      ]
     },
     "metadata": {
      "needs_background": "light"
     },
     "output_type": "display_data"
    }
   ],
   "source": [
    "fpps,fig = plot_ROCs(df_test_combined.dropna(),cols=['xgb_pred_bayestar_skymaps','xgb_dense_QTS_0','densnet_xgbsky_bayestar_mul_0'],logy=False)"
   ]
  },
  {
   "cell_type": "code",
   "execution_count": null,
   "id": "f729fae5-5407-44db-82e1-172c635386e5",
   "metadata": {},
   "outputs": [],
   "source": []
  },
  {
   "cell_type": "markdown",
   "id": "556c5af6-1a1c-4fee-adfd-7e5c3e25aef5",
   "metadata": {},
   "source": [
    "# check unlensed pairs distribution of super-sub w.r.t sub-sub"
   ]
  },
  {
   "cell_type": "code",
   "execution_count": 26,
   "id": "4ba75a0c-7e48-4578-8513-2194c212341e",
   "metadata": {},
   "outputs": [
    {
     "data": {
      "image/png": "[encoded data removed]",
      "text/plain": [
       "<Figure size 1440x360 with 3 Axes>"
      ]
     },
     "metadata": {
      "needs_background": "light"
     },
     "output_type": "display_data"
    }
   ],
   "source": [
    "df_test_super_combined=pd.read_csv('/home/srashti.goyal/lensid_runs/ML1p0_kaggle_results/dataframes/ML_combined_kaggle.csv')\n",
    "plt.figure(figsize=(20,5))\n",
    "plt.subplot(131)\n",
    "ml_stat='xgb_dense_QTS_0'\n",
    "plt.xlabel('ML qts')\n",
    "bins=np.linspace(-6,0,30)\n",
    "#plt.ylim(-100,1e3)\n",
    "df=df_test_combined[df_test_combined['Lensing'] == 0]\n",
    "plt.hist(np.log10(df[ml_stat]),bins=bins,label='Unlensed supersub', histtype='step',density=True)\n",
    "df=df_test_super_combined[df_test_super_combined['Lensing'] == 0]\n",
    "plt.hist(np.log10(df[ml_stat]),bins=bins,label='Unlensed super', histtype='step',density=True)\n",
    "plt.legend()\n",
    "\n",
    "plt.subplot(132)\n",
    "ml_stat='xgb_pred_bayestar_skymaps'\n",
    "plt.xlabel('ML sky')\n",
    "bins=np.linspace(-12,0,30)\n",
    "#plt.ylim(-100,1e3)\n",
    "df=df_test_combined[df_test_combined['Lensing'] == 0]\n",
    "plt.hist(np.log10(df[ml_stat]),bins=bins,label='Unlensed supersub', histtype='step',density=True)\n",
    "df=df_test_super_combined[df_test_super_combined['Lensing'] == 0]\n",
    "plt.hist(np.log10(df[ml_stat]),bins=bins,label='Unlensed super', histtype='step',density=True)\n",
    "plt.legend()\n",
    "\n",
    "plt.subplot(133)\n",
    "ml_stat='densnet_xgbsky_bayestar_mul_0'\n",
    "plt.xlabel('ML combined')\n",
    "bins=np.linspace(-12,0,30)\n",
    "#plt.ylim(-100,1e3)\n",
    "df=df_test_combined[df_test_combined['Lensing'] == 0]\n",
    "plt.hist(np.log10(df[ml_stat]),bins=bins,label='Unlensed supersub', histtype='step',density=True)\n",
    "df=df_test_super_combined[df_test_super_combined['Lensing'] == 0]\n",
    "plt.hist(np.log10(df[ml_stat]),bins=bins,label='Unlensed super', histtype='step',density=True)\n",
    "plt.legend()\n",
    "plt.show()"
   ]
  },
  {
   "cell_type": "code",
   "execution_count": null,
   "id": "eb7d2d75-a340-497e-a7ab-5ff85a8b9efb",
   "metadata": {},
   "outputs": [],
   "source": []
  }
 ],
 "metadata": {
  "kernelspec": {
   "display_name": "Python 3 (ipykernel)",
   "language": "python",
   "name": "python3"
  },
  "language_info": {
   "codemirror_mode": {
    "name": "ipython",
    "version": 3
   },
   "file_extension": ".py",
   "mimetype": "text/x-python",
   "name": "python",
   "nbconvert_exporter": "python",
   "pygments_lexer": "ipython3",
   "version": "3.7.6"
  }
 },
 "nbformat": 4,
 "nbformat_minor": 5
}
