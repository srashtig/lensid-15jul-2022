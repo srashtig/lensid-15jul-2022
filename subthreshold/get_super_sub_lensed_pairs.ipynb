{
 "cells": [
  {
   "cell_type": "code",
   "execution_count": 2,
   "metadata": {},
   "outputs": [],
   "source": [
    "import numpy as np\n",
    "import pandas as pd\n",
    "import matplotlib.pylab as plt"
   ]
  },
  {
   "cell_type": "code",
   "execution_count": 8,
   "metadata": {},
   "outputs": [],
   "source": [
    "lensed_data = dict(np.load('lensed_data/merged_filtered_snr_3_dominik_plaw2_lensed_dataset.npz'))"
   ]
  },
  {
   "cell_type": "code",
   "execution_count": 9,
   "metadata": {},
   "outputs": [
    {
     "data": {
      "text/plain": [
       "dict_keys(['dist', 't0', 'tensor_snr', 'idx_of_pkl', 'm1', 'm2', 'ra', 'dec', 'incl', 'pol', 'phi0', 'dl_un'])"
      ]
     },
     "execution_count": 9,
     "metadata": {},
     "output_type": "execute_result"
    }
   ],
   "source": [
    "lensed_data.keys()"
   ]
  },
  {
   "cell_type": "code",
   "execution_count": 29,
   "metadata": {},
   "outputs": [],
   "source": [
    "snrs = lensed_data['tensor_snr']"
   ]
  },
  {
   "cell_type": "code",
   "execution_count": 34,
   "metadata": {},
   "outputs": [],
   "source": [
    "sub_th = 5\n",
    "sup_th = 8 \n",
    "super_sub_pairs_0 = (snrs[:,0] > sup_th ) * (snrs[:,1] > sub_th  )*(snrs[:,1] < sup_th )\n",
    "super_sub_pairs_1 = (snrs[:,1] > sup_th ) * (snrs[:,0] > sub_th  )*(snrs[:,0] < sup_th )"
   ]
  },
  {
   "cell_type": "code",
   "execution_count": 40,
   "metadata": {},
   "outputs": [
    {
     "data": {
      "text/plain": [
       "447"
      ]
     },
     "execution_count": 40,
     "metadata": {},
     "output_type": "execute_result"
    }
   ],
   "source": [
    "super_sub_pairs_0.sum()+super_sub_pairs_1.sum()"
   ]
  },
  {
   "cell_type": "code",
   "execution_count": 38,
   "metadata": {},
   "outputs": [],
   "source": [
    "sub_sub_pairs = (snrs[:,0] > sub_th  )*(snrs[:,0] < sup_th ) * (snrs[:,1] > sub_th  )*(snrs[:,1] < sup_th )\n"
   ]
  },
  {
   "cell_type": "code",
   "execution_count": 39,
   "metadata": {},
   "outputs": [
    {
     "data": {
      "text/plain": [
       "894"
      ]
     },
     "execution_count": 39,
     "metadata": {},
     "output_type": "execute_result"
    }
   ],
   "source": [
    "sub_sub_pairs.sum()"
   ]
  },
  {
   "cell_type": "code",
   "execution_count": 51,
   "metadata": {},
   "outputs": [],
   "source": [
    "lensed_data_super_sub = {}\n",
    "lensed_data_sub_sub = {}\n",
    "\n",
    "super_sub_pairs = super_sub_pairs_0+super_sub_pairs_1"
   ]
  },
  {
   "cell_type": "code",
   "execution_count": 52,
   "metadata": {},
   "outputs": [],
   "source": [
    "for key in lensed_data.keys():\n",
    "    lensed_data_super_sub[key] = lensed_data[key][super_sub_pairs]\n",
    "    lensed_data_sub_sub[key] = lensed_data[key][sub_sub_pairs]"
   ]
  },
  {
   "cell_type": "code",
   "execution_count": 53,
   "metadata": {},
   "outputs": [
    {
     "data": {
      "text/plain": [
       "array([[6.853755  , 6.519804  ],\n",
       "       [7.04262638, 5.75241804],\n",
       "       [5.20404434, 7.16947269],\n",
       "       ...,\n",
       "       [7.12700081, 6.8784256 ],\n",
       "       [6.2132349 , 5.88126278],\n",
       "       [7.02137613, 5.00933981]])"
      ]
     },
     "execution_count": 53,
     "metadata": {},
     "output_type": "execute_result"
    }
   ],
   "source": [
    "lensed_data_sub_sub['tensor_snr']"
   ]
  },
  {
   "cell_type": "code",
   "execution_count": 55,
   "metadata": {},
   "outputs": [
    {
     "data": {
      "text/plain": [
       "array([[ 7.33280516, 10.89830494],\n",
       "       [ 8.69950199,  5.56989479],\n",
       "       [ 6.40790272, 10.37963772],\n",
       "       [ 6.77159643,  9.63410378],\n",
       "       [ 5.93166351,  9.70454597],\n",
       "       [ 8.52442169,  5.56959486],\n",
       "       [12.60818291,  5.87841034],\n",
       "       [10.89764118,  5.77404594],\n",
       "       [ 8.14870453,  5.80482769],\n",
       "       [ 8.16780567,  6.71913862]])"
      ]
     },
     "execution_count": 55,
     "metadata": {},
     "output_type": "execute_result"
    }
   ],
   "source": [
    "lensed_data_super_sub['tensor_snr'][:10]"
   ]
  },
  {
   "cell_type": "code",
   "execution_count": 57,
   "metadata": {},
   "outputs": [],
   "source": [
    "np.savez('lensed_data/super_sub_lensed.npz',**lensed_data_super_sub)"
   ]
  },
  {
   "cell_type": "code",
   "execution_count": 58,
   "metadata": {},
   "outputs": [],
   "source": [
    "np.savez('lensed_data/sub_sub_lensed.npz',**lensed_data_sub_sub)"
   ]
  },
  {
   "cell_type": "code",
   "execution_count": 1,
   "metadata": {},
   "outputs": [
    {
     "ename": "NameError",
     "evalue": "name 'lensed_data_super_sub' is not defined",
     "output_type": "error",
     "traceback": [
      "\u001b[0;31m---------------------------------------------------------------------------\u001b[0m",
      "\u001b[0;31mNameError\u001b[0m                                 Traceback (most recent call last)",
      "\u001b[0;32m<ipython-input-1-c6d066bd351c>\u001b[0m in \u001b[0;36m<module>\u001b[0;34m\u001b[0m\n\u001b[0;32m----> 1\u001b[0;31m \u001b[0mlensed_data_super_sub\u001b[0m\u001b[0;34m[\u001b[0m\u001b[0;34m'pol'\u001b[0m\u001b[0;34m]\u001b[0m\u001b[0;34m\u001b[0m\u001b[0;34m\u001b[0m\u001b[0m\n\u001b[0m",
      "\u001b[0;31mNameError\u001b[0m: name 'lensed_data_super_sub' is not defined"
     ]
    }
   ],
   "source": [
    "lensed_data_super_sub['pol']"
   ]
  },
  {
   "cell_type": "code",
   "execution_count": null,
   "metadata": {},
   "outputs": [],
   "source": []
  }
 ],
 "metadata": {
  "kernelspec": {
   "display_name": "Python 3",
   "language": "python",
   "name": "python3"
  },
  "language_info": {
   "codemirror_mode": {
    "name": "ipython",
    "version": 3
   },
   "file_extension": ".py",
   "mimetype": "text/x-python",
   "name": "python",
   "nbconvert_exporter": "python",
   "pygments_lexer": "ipython3",
   "version": "3.7.8"
  }
 },
 "nbformat": 4,
 "nbformat_minor": 4
}
