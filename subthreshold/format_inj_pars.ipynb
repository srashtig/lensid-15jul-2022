{
 "cells": [
  {
   "cell_type": "code",
   "execution_count": 1,
   "metadata": {},
   "outputs": [],
   "source": [
    "import numpy as np\n",
    "import pandas as pd\n",
    "from numpy.core.defchararray import add\n",
    "\n"
   ]
  },
  {
   "cell_type": "markdown",
   "metadata": {},
   "source": [
    "# refine subthreshold lensed injections set"
   ]
  },
  {
   "cell_type": "code",
   "execution_count": 16,
   "metadata": {},
   "outputs": [],
   "source": [
    "data= dict(np.load('lensed_data/sub_sub_lensed.npz')) "
   ]
  },
  {
   "cell_type": "code",
   "execution_count": 17,
   "metadata": {},
   "outputs": [
    {
     "data": {
      "text/plain": [
       "dict_keys(['dist', 't0', 'tensor_snr', 'idx_of_pkl', 'm1', 'm2', 'ra', 'dec', 'incl', 'pol', 'phi0', 'dl_un'])"
      ]
     },
     "execution_count": 17,
     "metadata": {},
     "output_type": "execute_result"
    }
   ],
   "source": [
    "data.keys()"
   ]
  },
  {
   "cell_type": "code",
   "execution_count": 18,
   "metadata": {},
   "outputs": [],
   "source": [
    "for key in data.keys():\n",
    "    data[key]=data[key].astype('float64')"
   ]
  },
  {
   "cell_type": "code",
   "execution_count": 19,
   "metadata": {},
   "outputs": [],
   "source": [
    "ntot=data['m1'].shape[0]\n",
    "data['event_tag'] = add('sub_sub_',np.arange(ntot).astype(str)).astype('U256')\n",
    "data['img_tag'] = np.vstack([np.zeros(ntot),np.ones(ntot)]).T.astype(int)"
   ]
  },
  {
   "cell_type": "code",
   "execution_count": 21,
   "metadata": {},
   "outputs": [],
   "source": [
    "np.savez('lensed_data/sub_sub_lensed_refined.npz',**data)"
   ]
  },
  {
   "cell_type": "markdown",
   "metadata": {},
   "source": [
    "# refine subthreshold unlensed injections set"
   ]
  },
  {
   "cell_type": "code",
   "execution_count": 2,
   "metadata": {},
   "outputs": [],
   "source": [
    "data = pd.read_csv(\"unlensed_data/unlensed_sub_Dominik_powerlaw2_inj_samples_withsnr.dat\",delimiter='\\t')\n",
    "\n",
    "ntot=data['m1z'].shape[0]\n",
    "\n",
    "data['phi0']=2*np.pi*np.random.rand(ntot)"
   ]
  },
  {
   "cell_type": "code",
   "execution_count": 3,
   "metadata": {},
   "outputs": [],
   "source": [
    "data_dict = {}\n",
    "\n",
    "\n",
    "data_dict['event_tag'] = add('sub_',np.arange(ntot).astype(str))\n",
    "for key in data.columns:\n",
    "    data_dict[key] = data[key].values.astype('float64')\n"
   ]
  },
  {
   "cell_type": "code",
   "execution_count": 4,
   "metadata": {},
   "outputs": [],
   "source": [
    "data_dict['event_tag']= data_dict['event_tag'].astype(str)\n",
    "\n",
    "np.savez('unlensed_data/sub_unlensed_refined.npz',**data_dict)"
   ]
  },
  {
   "cell_type": "markdown",
   "metadata": {},
   "source": [
    "# create unlensed super sub pairs dataframe"
   ]
  },
  {
   "cell_type": "code",
   "execution_count": 5,
   "metadata": {},
   "outputs": [],
   "source": [
    "sup_unlensed_data = np.load('../data/injection_pars/training/analytical_psd_Dominik_powerlaw2_inj_samples_withsnr_refined.npz')"
   ]
  },
  {
   "cell_type": "code",
   "execution_count": 6,
   "metadata": {},
   "outputs": [],
   "source": [
    "sub_unlensed_data = np.load('unlensed_data/sub_unlensed_refined.npz')"
   ]
  },
  {
   "cell_type": "code",
   "execution_count": 7,
   "metadata": {},
   "outputs": [
    {
     "data": {
      "text/plain": [
       "(1004,)"
      ]
     },
     "execution_count": 7,
     "metadata": {},
     "output_type": "execute_result"
    }
   ],
   "source": [
    "sup_unlensed_data['m1z'].shape"
   ]
  },
  {
   "cell_type": "code",
   "execution_count": 10,
   "metadata": {},
   "outputs": [
    {
     "data": {
      "text/plain": [
       "(1187,)"
      ]
     },
     "execution_count": 10,
     "metadata": {},
     "output_type": "execute_result"
    }
   ],
   "source": [
    "sub_unlensed_data['m1z'].shape"
   ]
  },
  {
   "cell_type": "code",
   "execution_count": 13,
   "metadata": {},
   "outputs": [
    {
     "name": "stdout",
     "output_type": "stream",
     "text": [
      "1191748 no. of pairs in total \n",
      "Dataframe saved at  /home/srashti.goyal/lensid_runs/subthreshold/data/dataframes/unlensed_super_sub.csv\n"
     ]
    }
   ],
   "source": [
    "import os\n",
    "odir = '/home/srashti.goyal/lensid_runs/subthreshold/data/dataframes'\n",
    "outfile = 'unlensed_super_sub.csv'\n",
    "cols = ['img_0', 'img_1', 'Lensing']\n",
    "img1,img2 = np.meshgrid(sub_unlensed_data['event_tag'],sup_unlensed_data['event_tag'])\n",
    "img1=img1.flatten()\n",
    "img2=img2.flatten()\n",
    "npairs = img1.shape[0]\n",
    "Unlensed_df_test = pd.DataFrame(columns=cols, index=range(npairs))\n",
    "Unlensed_df_test['img_0'] = img1.astype('U256')\n",
    "Unlensed_df_test['img_1'] = img2.astype('U256')\n",
    "Unlensed_df_test['Lensing'] = np.zeros(npairs).astype('int')\n",
    "print(npairs, 'no. of pairs in total ')\n",
    "if not os.path.exists(odir):\n",
    "    os.makedirs(odir)\n",
    "outfile = odir + '/' + outfile\n",
    "Unlensed_df_test.to_csv(outfile)\n",
    "print('Dataframe saved at ', outfile)\n",
    "\n"
   ]
  },
  {
   "cell_type": "code",
   "execution_count": null,
   "metadata": {},
   "outputs": [],
   "source": []
  }
 ],
 "metadata": {
  "kernelspec": {
   "display_name": "Python 3 (ipykernel)",
   "language": "python",
   "name": "python3"
  },
  "language_info": {
   "codemirror_mode": {
    "name": "ipython",
    "version": 3
   },
   "file_extension": ".py",
   "mimetype": "text/x-python",
   "name": "python",
   "nbconvert_exporter": "python",
   "pygments_lexer": "ipython3",
   "version": "3.7.6"
  }
 },
 "nbformat": 4,
 "nbformat_minor": 4
}
