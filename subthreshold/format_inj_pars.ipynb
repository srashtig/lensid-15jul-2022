{
 "cells": [
  {
   "cell_type": "code",
   "execution_count": 2,
   "metadata": {},
   "outputs": [],
   "source": [
    "import numpy as np\n",
    "import pandas as pd\n",
    "from numpy.core.defchararray import add\n",
    "import os\n"
   ]
  },
  {
   "cell_type": "markdown",
   "metadata": {},
   "source": [
    "# refine subthreshold lensed injections set"
   ]
  },
  {
   "cell_type": "code",
   "execution_count": 16,
   "metadata": {},
   "outputs": [],
   "source": [
    "data= dict(np.load('lensed_data/sub_sub_lensed.npz')) "
   ]
  },
  {
   "cell_type": "code",
   "execution_count": 17,
   "metadata": {},
   "outputs": [
    {
     "data": {
      "text/plain": [
       "dict_keys(['dist', 't0', 'tensor_snr', 'idx_of_pkl', 'm1', 'm2', 'ra', 'dec', 'incl', 'pol', 'phi0', 'dl_un'])"
      ]
     },
     "execution_count": 17,
     "metadata": {},
     "output_type": "execute_result"
    }
   ],
   "source": [
    "data.keys()"
   ]
  },
  {
   "cell_type": "code",
   "execution_count": 18,
   "metadata": {},
   "outputs": [],
   "source": [
    "for key in data.keys():\n",
    "    data[key]=data[key].astype('float64')"
   ]
  },
  {
   "cell_type": "code",
   "execution_count": 19,
   "metadata": {},
   "outputs": [],
   "source": [
    "ntot=data['m1'].shape[0]\n",
    "data['event_tag'] = add('sub_sub_',np.arange(ntot).astype(str)).astype('U256')\n",
    "data['img_tag'] = np.vstack([np.zeros(ntot),np.ones(ntot)]).T.astype(int)"
   ]
  },
  {
   "cell_type": "code",
   "execution_count": 21,
   "metadata": {},
   "outputs": [],
   "source": [
    "np.savez('lensed_data/sub_sub_lensed_refined.npz',**data)"
   ]
  },
  {
   "cell_type": "markdown",
   "metadata": {},
   "source": [
    "# refine subthreshold unlensed injections set"
   ]
  },
  {
   "cell_type": "code",
   "execution_count": 2,
   "metadata": {},
   "outputs": [],
   "source": [
    "data = pd.read_csv(\"unlensed_data/unlensed_sub_Dominik_powerlaw2_inj_samples_withsnr.dat\",delimiter='\\t')\n",
    "\n",
    "ntot=data['m1z'].shape[0]\n",
    "\n",
    "data['phi0']=2*np.pi*np.random.rand(ntot)"
   ]
  },
  {
   "cell_type": "code",
   "execution_count": 3,
   "metadata": {},
   "outputs": [],
   "source": [
    "data_dict = {}\n",
    "\n",
    "\n",
    "data_dict['event_tag'] = add('sub_',np.arange(ntot).astype(str))\n",
    "for key in data.columns:\n",
    "    data_dict[key] = data[key].values.astype('float64')\n"
   ]
  },
  {
   "cell_type": "code",
   "execution_count": 4,
   "metadata": {},
   "outputs": [],
   "source": [
    "data_dict['event_tag']= data_dict['event_tag'].astype(str)\n",
    "\n",
    "np.savez('unlensed_data/sub_unlensed_refined.npz',**data_dict)"
   ]
  },
  {
   "cell_type": "markdown",
   "metadata": {},
   "source": [
    "# create unlensed super sub pairs dataframe"
   ]
  },
  {
   "cell_type": "code",
   "execution_count": 52,
   "metadata": {},
   "outputs": [],
   "source": [
    "#sup_unlensed_data = np.load('../data/injection_pars/training/analytical_psd_Dominik_powerlaw2_inj_samples_withsnr_refined.npz')\n",
    "sup_unlensed_data = np.load('../data/injection_pars/haris-et-al/unlensed_inj_data.npz')"
   ]
  },
  {
   "cell_type": "code",
   "execution_count": 53,
   "metadata": {},
   "outputs": [],
   "source": [
    "sub_unlensed_data = np.load('unlensed_data/sub_unlensed_refined.npz')"
   ]
  },
  {
   "cell_type": "code",
   "execution_count": 54,
   "metadata": {},
   "outputs": [
    {
     "data": {
      "text/plain": [
       "(1000,)"
      ]
     },
     "execution_count": 54,
     "metadata": {},
     "output_type": "execute_result"
    }
   ],
   "source": [
    "sup_unlensed_data['m1z'].shape"
   ]
  },
  {
   "cell_type": "code",
   "execution_count": 55,
   "metadata": {},
   "outputs": [
    {
     "data": {
      "text/plain": [
       "(1187,)"
      ]
     },
     "execution_count": 55,
     "metadata": {},
     "output_type": "execute_result"
    }
   ],
   "source": [
    "sub_unlensed_data['m1z'].shape"
   ]
  },
  {
   "cell_type": "code",
   "execution_count": 56,
   "metadata": {},
   "outputs": [
    {
     "name": "stdout",
     "output_type": "stream",
     "text": [
      "1187000 no. of pairs in total \n",
      "Dataframe saved at  /home/srashti.goyal/lensid_runs/subthreshold/ML_1p0_AnalyticalPsd_sub_unlensed/data/dataframes/unlensed_super_sub_test.csv\n"
     ]
    }
   ],
   "source": [
    "import os\n",
    "odir = '/home/srashti.goyal/lensid_runs/subthreshold/ML_1p0_AnalyticalPsd_sub_unlensed/data/dataframes'\n",
    "outfile = 'unlensed_super_sub_test.csv'\n",
    "cols = ['img_0', 'img_1', 'Lensing']\n",
    "img1,img2 = np.meshgrid(sub_unlensed_data['event_tag'],sup_unlensed_data['event_tag'][:1000])\n",
    "img1=img1.flatten()\n",
    "img2=img2.flatten()\n",
    "npairs = img1.shape[0]\n",
    "Unlensed_df_test = pd.DataFrame(columns=cols, index=range(npairs))\n",
    "Unlensed_df_test['img_0'] = img1.astype('U256')\n",
    "Unlensed_df_test['img_1'] = img2.astype('U256')\n",
    "Unlensed_df_test['Lensing'] = np.zeros(npairs).astype('int')\n",
    "print(npairs, 'no. of pairs in total ')\n",
    "if not os.path.exists(odir):\n",
    "    os.makedirs(odir)\n",
    "outfile = odir + '/' + outfile\n",
    "Unlensed_df_test.to_csv(outfile)\n",
    "print('Dataframe saved at ', outfile)\n",
    "\n"
   ]
  },
  {
   "cell_type": "markdown",
   "metadata": {},
   "source": [
    "# relative path for super sub unlensed pairs"
   ]
  },
  {
   "cell_type": "code",
   "execution_count": 44,
   "metadata": {},
   "outputs": [],
   "source": [
    "import os\n",
    "data_dir_sub_unlensed_qts = '/home/srashti.goyal/lensid_runs/subthreshold/ML_1p0_AnalyticalPsd_sub_unlensed/data/qts/'"
   ]
  },
  {
   "cell_type": "code",
   "execution_count": 45,
   "metadata": {},
   "outputs": [],
   "source": [
    "data_dir_unlensed_super_qts = '/home/srashti.goyal/lensid_runs/ML_1p0_AnalyticalPsd/data/qts/'"
   ]
  },
  {
   "cell_type": "code",
   "execution_count": 46,
   "metadata": {},
   "outputs": [],
   "source": [
    "rel_path = os.path.relpath(data_dir_sub_unlensed_qts, data_dir_unlensed_super_qts)"
   ]
  },
  {
   "cell_type": "code",
   "execution_count": 47,
   "metadata": {},
   "outputs": [
    {
     "data": {
      "text/plain": [
       "'/home/srashti.goyal/lensid_runs/ML_1p0_AnalyticalPsd/data/qts/../../../subthreshold/ML_1p0_AnalyticalPsd_sub_unlensed/data/qts'"
      ]
     },
     "execution_count": 47,
     "metadata": {},
     "output_type": "execute_result"
    }
   ],
   "source": [
    "data_dir_unlensed_super_qts+rel_path"
   ]
  },
  {
   "cell_type": "markdown",
   "metadata": {},
   "source": [
    "# Copy superthreshold files to subthreshold unlensed folder"
   ]
  },
  {
   "cell_type": "code",
   "execution_count": 58,
   "metadata": {},
   "outputs": [],
   "source": [
    "#unlensed_sup_sub_df = pd.read_csv('/home/srashti.goyal/lensid_runs/subthreshold/ML_1p0_AnalyticalPsd_sub_unlensed/data/dataframes/unlensed_super_sub.csv',index_col=0)\n",
    "unlensed_sup_sub_df = pd.read_csv('/home/srashti.goyal/lensid_runs/subthreshold/ML_1p0_AnalyticalPsd_sub_unlensed/data/dataframes/unlensed_super_sub_test.csv',index_col=0)"
   ]
  },
  {
   "cell_type": "code",
   "execution_count": 59,
   "metadata": {},
   "outputs": [
    {
     "data": {
      "text/html": [
       "<div>\n",
       "<style scoped>\n",
       "    .dataframe tbody tr th:only-of-type {\n",
       "        vertical-align: middle;\n",
       "    }\n",
       "\n",
       "    .dataframe tbody tr th {\n",
       "        vertical-align: top;\n",
       "    }\n",
       "\n",
       "    .dataframe thead th {\n",
       "        text-align: right;\n",
       "    }\n",
       "</style>\n",
       "<table border=\"1\" class=\"dataframe\">\n",
       "  <thead>\n",
       "    <tr style=\"text-align: right;\">\n",
       "      <th></th>\n",
       "      <th>img_0</th>\n",
       "      <th>img_1</th>\n",
       "      <th>Lensing</th>\n",
       "    </tr>\n",
       "  </thead>\n",
       "  <tbody>\n",
       "    <tr>\n",
       "      <th>0</th>\n",
       "      <td>sub_0</td>\n",
       "      <td>645858000.000000000-291716</td>\n",
       "      <td>0</td>\n",
       "    </tr>\n",
       "    <tr>\n",
       "      <th>1</th>\n",
       "      <td>sub_1</td>\n",
       "      <td>645858000.000000000-291716</td>\n",
       "      <td>0</td>\n",
       "    </tr>\n",
       "    <tr>\n",
       "      <th>2</th>\n",
       "      <td>sub_2</td>\n",
       "      <td>645858000.000000000-291716</td>\n",
       "      <td>0</td>\n",
       "    </tr>\n",
       "    <tr>\n",
       "      <th>3</th>\n",
       "      <td>sub_3</td>\n",
       "      <td>645858000.000000000-291716</td>\n",
       "      <td>0</td>\n",
       "    </tr>\n",
       "    <tr>\n",
       "      <th>4</th>\n",
       "      <td>sub_4</td>\n",
       "      <td>645858000.000000000-291716</td>\n",
       "      <td>0</td>\n",
       "    </tr>\n",
       "  </tbody>\n",
       "</table>\n",
       "</div>"
      ],
      "text/plain": [
       "   img_0                       img_1  Lensing\n",
       "0  sub_0  645858000.000000000-291716        0\n",
       "1  sub_1  645858000.000000000-291716        0\n",
       "2  sub_2  645858000.000000000-291716        0\n",
       "3  sub_3  645858000.000000000-291716        0\n",
       "4  sub_4  645858000.000000000-291716        0"
      ]
     },
     "execution_count": 59,
     "metadata": {},
     "output_type": "execute_result"
    }
   ],
   "source": [
    "unlensed_sup_sub_df.head()"
   ]
  },
  {
   "cell_type": "code",
   "execution_count": 60,
   "metadata": {},
   "outputs": [],
   "source": [
    "super_tags=np.unique(unlensed_sup_sub_df['img_1'])"
   ]
  },
  {
   "cell_type": "code",
   "execution_count": 61,
   "metadata": {},
   "outputs": [],
   "source": [
    "subthreshold_path = '/home/srashti.goyal/lensid_runs/subthreshold/ML_1p0_AnalyticalPsd_sub_unlensed/data/'"
   ]
  },
  {
   "cell_type": "code",
   "execution_count": 62,
   "metadata": {},
   "outputs": [],
   "source": [
    "superthreshold_path = '/home/srashti.goyal/lensid_runs/ML_2p0_AnalyticalPsd/data/'"
   ]
  },
  {
   "cell_type": "code",
   "execution_count": 63,
   "metadata": {},
   "outputs": [],
   "source": [
    "# copy bayestar skymaps\n",
    "superthreshold_paths_sky=add(add(superthreshold_path+'bayestar_skymaps/test/',super_tags.astype(str)),'.npz')"
   ]
  },
  {
   "cell_type": "code",
   "execution_count": 64,
   "metadata": {},
   "outputs": [],
   "source": [
    "import shutil"
   ]
  },
  {
   "cell_type": "code",
   "execution_count": null,
   "metadata": {
    "tags": []
   },
   "outputs": [],
   "source": [
    "[shutil.copy(file,subthreshold_path+'bayestar_skymaps/') for file in superthreshold_paths_sky]"
   ]
  },
  {
   "cell_type": "code",
   "execution_count": 66,
   "metadata": {},
   "outputs": [],
   "source": [
    "# copy qts \n",
    "superthreshold_path_qts = '/home/srashti.goyal/lensid_runs/ML_1p0_AnalyticalPsd/data/'\n",
    "superthreshold_paths_qts_H1=add(add(superthreshold_path_qts+'qts/test/H1/',super_tags.astype(str)),'.png')"
   ]
  },
  {
   "cell_type": "code",
   "execution_count": null,
   "metadata": {
    "tags": []
   },
   "outputs": [],
   "source": [
    "superthreshold_paths_qts_H1"
   ]
  },
  {
   "cell_type": "code",
   "execution_count": null,
   "metadata": {
    "tags": []
   },
   "outputs": [],
   "source": [
    "[shutil.copy(file,subthreshold_path+'qts/H1/') for file in superthreshold_paths_qts_H1]"
   ]
  },
  {
   "cell_type": "code",
   "execution_count": 69,
   "metadata": {},
   "outputs": [],
   "source": [
    "superthreshold_paths_qts_L1=add(add(superthreshold_path_qts+'qts/test/L1/',super_tags.astype(str)),'.png')\n",
    "superthreshold_paths_qts_V1=add(add(superthreshold_path_qts+'qts/test/V1/',super_tags.astype(str)),'.png')"
   ]
  },
  {
   "cell_type": "code",
   "execution_count": null,
   "metadata": {
    "tags": []
   },
   "outputs": [],
   "source": [
    "superthreshold_paths_qts_V1"
   ]
  },
  {
   "cell_type": "code",
   "execution_count": null,
   "metadata": {
    "tags": []
   },
   "outputs": [],
   "source": [
    "[shutil.copy(file,subthreshold_path+'qts/L1/') for file in superthreshold_paths_qts_L1]"
   ]
  },
  {
   "cell_type": "code",
   "execution_count": null,
   "metadata": {
    "tags": []
   },
   "outputs": [],
   "source": [
    "[shutil.copy(file,subthreshold_path+'qts/V1/') for file in superthreshold_paths_qts_V1]"
   ]
  },
  {
   "cell_type": "code",
   "execution_count": null,
   "metadata": {},
   "outputs": [],
   "source": []
  }
 ],
 "metadata": {
  "kernelspec": {
   "display_name": "Python 3 (ipykernel)",
   "language": "python",
   "name": "python3"
  },
  "language_info": {
   "codemirror_mode": {
    "name": "ipython",
    "version": 3
   },
   "file_extension": ".py",
   "mimetype": "text/x-python",
   "name": "python",
   "nbconvert_exporter": "python",
   "pygments_lexer": "ipython3",
   "version": "3.7.6"
  }
 },
 "nbformat": 4,
 "nbformat_minor": 4
}
