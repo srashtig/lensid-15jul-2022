{
 "cells": [
  {
   "cell_type": "code",
   "execution_count": 34,
   "metadata": {},
   "outputs": [],
   "source": [
    "import pylab \n",
    "import pycbc.noise\n",
    "import pycbc.psd\n",
    "from pycbc.waveform import get_td_waveform\n",
    "from pycbc.detector import Detector\n",
    "#import os\n",
    "import numpy as np\n",
    "import lensid.utils.qt_utils as qt"
   ]
  },
  {
   "cell_type": "code",
   "execution_count": 35,
   "metadata": {},
   "outputs": [],
   "source": [
    "hp,hc = get_td_waveform(approximant = \"IMRPhenomPv2\",mass1=130,mass2=120,\\\n",
    "                        inclination=np.pi/4,delta_t=1.0/2**12,f_lower=15,f_higher = 1000, \\\n",
    "                        distance =600,coa_phase = np.pi/3)\n",
    "det_h1 = Detector(\"H1\")"
   ]
  },
  {
   "cell_type": "code",
   "execution_count": 36,
   "metadata": {},
   "outputs": [],
   "source": [
    "end_time, declination, right_ascension, polarization = 689913918.0, -1.12, 2.73, 5.25\n",
    "\n",
    "\n",
    "hp.start_time += end_time\n",
    "hc.start_time +=end_time\n",
    "\n",
    "signal = det_h1.project_wave(hp,hc,right_ascension,declination,polarization)\n",
    "t_gps=end_time"
   ]
  },
  {
   "cell_type": "code",
   "execution_count": 37,
   "metadata": {},
   "outputs": [
    {
     "data": {
      "image/png": "[encoded data removed]",
      "text/plain": [
       "<Figure size 432x288 with 1 Axes>"
      ]
     },
     "metadata": {
      "needs_background": "light"
     },
     "output_type": "display_data"
    }
   ],
   "source": [
    "pylab.plot(signal.sample_times,signal.data,'.')\n",
    "pylab.show()"
   ]
  },
  {
   "cell_type": "code",
   "execution_count": null,
   "metadata": {},
   "outputs": [],
   "source": [
    "flow = 15\n",
    "#delta_f = 1.0 / 16\n",
    "#flen = int(2048 / delta_f) + 1\n",
    "#psd_H = pycbc.psd.aLIGOZeroDetHighPower(flen, delta_f, flow)\n",
    "\n",
    "delta_f = 1.0/16#signal.sample_rate / float(len(signal))\n",
    "flen = int(signal.sample_rate / (2 * delta_f)) + 1\n",
    "psd_H = pycbc.psd.aLIGOZeroDetHighPower(flen, delta_f, flow)\n"
   ]
  },
  {
   "cell_type": "code",
   "execution_count": null,
   "metadata": {},
   "outputs": [],
   "source": [
    "def inject_noise_signal_custom(signal, psd, duration=128, whitened=False, seed=None):\n",
    "    \"\"\"\n",
    "    Adds gaussian noise to a given signal using a given PSD. Optionally whitens the signal.\n",
    "\n",
    "    Parameters:\n",
    "\n",
    "        signal: input pycbc types timeseries.\n",
    "        \n",
    "        psd: powers spectral density to generate noise realisation from.\n",
    "        \n",
    "        duration(int): duration of the output noise signal, only if\n",
    "            whitened = True, default =128s.\n",
    "        whitened(bool): whiten the signal True/False(default).\n",
    "        \n",
    "        seed(int): random seed for the noise realisation, default: None.\n",
    "\n",
    "    Returns:\n",
    "        pycbc timeseries: noise_signal of 8s.\n",
    "\n",
    "    \"\"\"\n",
    "    delta_t = 1.0 / signal.sample_rate\n",
    "    tsamples = int(duration / delta_t)\n",
    "\n",
    "    ts = pycbc.noise.noise_from_psd(tsamples, delta_t, psd, seed=seed)\n",
    "    ts.start_time += signal.end_time - duration / 2\n",
    "    noise_signal = ts.add_into(signal)\n",
    "    if whitened == True:\n",
    "\n",
    "        noise_signal_whitened = (\n",
    "            noise_signal.whiten(4,4) * 1e-21\n",
    "        )\n",
    "        return noise_signal_whitened.time_slice(\n",
    "            signal.end_time - 6, signal.end_time + 2\n",
    "        )\n",
    "    else:\n",
    "        return noise_signal.time_slice(\n",
    "            signal.end_time - 6, signal.end_time + 2\n",
    "        )"
   ]
  },
  {
   "cell_type": "code",
   "execution_count": null,
   "metadata": {},
   "outputs": [],
   "source": [
    "noise_signal = inject_noise_signal_custom(signal, psd_H,whitened=False,seed=10)\n",
    "noise_signal_whitened = inject_noise_signal_custom(signal, psd_H,whitened=True,seed=10)\n"
   ]
  },
  {
   "cell_type": "code",
   "execution_count": null,
   "metadata": {},
   "outputs": [],
   "source": [
    "#pylab.plot(noise_signal_whitened.sample_times,noise_signal_whitened.data, label='whitened signal')\n",
    "pylab.plot(noise_signal.sample_times,noise_signal.data,label='noisy signal')\n",
    "pylab.plot(signal.sample_times,signal.data,label='original WF')\n",
    "pylab.xlim(t_gps-2,t_gps+0.5)\n",
    "pylab.ylim(-1E-21,1E-21)\n",
    "pylab.legend()\n",
    "pylab.show()"
   ]
  },
  {
   "cell_type": "code",
   "execution_count": null,
   "metadata": {},
   "outputs": [],
   "source": [
    "pylab.plot(noise_signal_whitened.sample_times,noise_signal_whitened.data, label='whitened signal')\n",
    "pylab.plot(noise_signal.sample_times,noise_signal.data,label='noisy signal')\n",
    "pylab.plot(signal.sample_times,signal.data,label='original WF')\n",
    "pylab.xlim(t_gps-2,t_gps+1)\n",
    "pylab.ylim(-1E-18,1E-18)\n",
    "\n",
    "pylab.legend()\n",
    "pylab.show()"
   ]
  },
  {
   "cell_type": "code",
   "execution_count": null,
   "metadata": {},
   "outputs": [],
   "source": [
    "ids=np.where(psd_H>0)[0]\n",
    "hf_whitened=noise_signal.to_frequencyseries(delta_f=delta_f)\n",
    "hf_whitened.data=hf_whitened.data[ids]/psd_H[ids]**0.5\n",
    "h_whitened=hf_whitened.to_timeseries()*1E-21"
   ]
  },
  {
   "cell_type": "code",
   "execution_count": null,
   "metadata": {},
   "outputs": [],
   "source": [
    "psd_H[0] = psd_H[1]\n",
    "psd_H[len(psd_H) - 1] = psd_H[len(psd_H) - 2]\n",
    "hf1_whitened = (noise_signal.to_frequencyseries(delta_f=delta_f) / psd_H**0.5).to_timeseries() * 1E-21"
   ]
  },
  {
   "cell_type": "code",
   "execution_count": null,
   "metadata": {},
   "outputs": [],
   "source": [
    "pylab.plot(noise_signal.sample_times,noise_signal.data,'--',label='noisy signal')\n",
    "pylab.plot(h_whitened.sample_times,h_whitened.data,'-', label='whitened signal')\n",
    "pylab.plot(hf1_whitened.sample_times,hf1_whitened.data,'-', label='whitened signal')\n",
    "pylab.plot(noise_signal_whitened.sample_times,noise_signal_whitened.data,'-', label='whitened signal')\n",
    "\n",
    "pylab.plot(signal.sample_times,signal.data,'--',label='original WF')\n",
    "pylab.axvline(t_gps,ls='dashed', color='k',label='GPS')\n",
    "pylab.xlim(t_gps-1,t_gps+0.5)\n",
    "#pylab.ylim(-1E-18,1E-18)\n",
    "pylab.legend()\n",
    "pylab.show()"
   ]
  },
  {
   "cell_type": "code",
   "execution_count": null,
   "metadata": {},
   "outputs": [],
   "source": [
    "max_power=qt.plot_qt_from_ts(noise_signal, t_gps, (3,30) , outfname='',save=False)"
   ]
  },
  {
   "cell_type": "code",
   "execution_count": null,
   "metadata": {},
   "outputs": [],
   "source": [
    "max_power=qt.plot_qt_from_ts(noise_signal_whitened, t_gps, (3,80) , outfname='',save=False)"
   ]
  },
  {
   "cell_type": "code",
   "execution_count": null,
   "metadata": {},
   "outputs": [],
   "source": [
    "psd_H_o3,psd_L_o3,psd_V_o3= qt.inj_psds_HLV(psd_mode='load',asd_dir='/home1/srashti.goyal/lensid/data/PSDs/O3a_representative_psd')"
   ]
  },
  {
   "cell_type": "code",
   "execution_count": null,
   "metadata": {},
   "outputs": [],
   "source": [
    "noise_signal_o3 = inject_noise_signal_custom(signal, psd_H_o3,whitened=False,seed=10)\n",
    "noise_signal_whitened_o3 = inject_noise_signal_custom(signal, psd_H_o3,whitened=True,seed=10)\n"
   ]
  },
  {
   "cell_type": "code",
   "execution_count": null,
   "metadata": {},
   "outputs": [],
   "source": [
    "max_power=qt.plot_qt_from_ts(noise_signal_o3, t_gps, (3,30) , outfname='',save=False)"
   ]
  },
  {
   "cell_type": "code",
   "execution_count": null,
   "metadata": {},
   "outputs": [],
   "source": [
    "max_power=qt.plot_qt_from_ts(noise_signal_whitened_o3, t_gps, (3,30) , outfname='',save=False)"
   ]
  },
  {
   "cell_type": "code",
   "execution_count": null,
   "metadata": {},
   "outputs": [],
   "source": []
  },
  {
   "cell_type": "code",
   "execution_count": null,
   "metadata": {},
   "outputs": [],
   "source": []
  }
 ],
 "metadata": {
  "kernelspec": {
   "display_name": "Python 3",
   "language": "python",
   "name": "python3"
  },
  "language_info": {
   "codemirror_mode": {
    "name": "ipython",
    "version": 3
   },
   "file_extension": ".py",
   "mimetype": "text/x-python",
   "name": "python",
   "nbconvert_exporter": "python",
   "pygments_lexer": "ipython3",
   "version": "3.7.8"
  }
 },
 "nbformat": 4,
 "nbformat_minor": 4
}
