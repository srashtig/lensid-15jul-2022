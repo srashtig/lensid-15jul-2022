{
 "cells": [
  {
   "cell_type": "code",
   "execution_count": 1,
   "metadata": {},
   "outputs": [],
   "source": [
    "import numpy as np\n",
    "import pandas as pd"
   ]
  },
  {
   "cell_type": "code",
   "execution_count": 2,
   "metadata": {},
   "outputs": [],
   "source": [
    "base_dir = '/home1/srashti.goyal/strong-lensing-ml/'"
   ]
  },
  {
   "cell_type": "markdown",
   "metadata": {},
   "source": [
    "# refine training lensed injections set"
   ]
  },
  {
   "cell_type": "code",
   "execution_count": 3,
   "metadata": {},
   "outputs": [],
   "source": [
    "data= dict(np.load(base_dir+'data/injection_pars/training/dominik_plaw2_lensed_inj_params_include_pol_phi0.npz')) "
   ]
  },
  {
   "cell_type": "code",
   "execution_count": 15,
   "metadata": {},
   "outputs": [],
   "source": [
    "ntot=data['m1'].shape[0]\n",
    "data['event_tag'] = np.arange(ntot).astype(int)\n",
    "data['img_tag'] = np.vstack([np.zeros(ntot),np.ones(ntot)]).T.astype(int)"
   ]
  },
  {
   "cell_type": "code",
   "execution_count": 27,
   "metadata": {},
   "outputs": [],
   "source": [
    "np.savez(base_dir+'data/injection_pars/training/dominik_plaw2_lensed_inj_params_include_pol_phi0_refined',**data)"
   ]
  },
  {
   "cell_type": "markdown",
   "metadata": {},
   "source": [
    "# refine training unlensed injections set"
   ]
  },
  {
   "cell_type": "code",
   "execution_count": 29,
   "metadata": {},
   "outputs": [],
   "source": [
    "data = pd.read_csv(base_dir+\"data/injection_pars/training/analytical_psd_Dominik_powerlaw2_inj_samples_withsnr.dat\",delimiter='\\t')\n",
    "\n",
    "ntot=data['m1z'].shape[0]\n",
    "\n",
    "data['phi0']=2*np.pi*np.random.rand(ntot)"
   ]
  },
  {
   "cell_type": "code",
   "execution_count": 30,
   "metadata": {},
   "outputs": [],
   "source": [
    "data['event_tag'] = np.arange(ntot).astype(int)\n",
    "np.savez(base_dir+'data/injection_pars/training/analytical_psd_Dominik_powerlaw2_inj_samples_withsnr_refined',**data)"
   ]
  },
  {
   "cell_type": "code",
   "execution_count": null,
   "metadata": {},
   "outputs": [],
   "source": []
  }
 ],
 "metadata": {
  "kernelspec": {
   "display_name": "Python 3",
   "language": "python",
   "name": "python3"
  },
  "language_info": {
   "codemirror_mode": {
    "name": "ipython",
    "version": 3
   },
   "file_extension": ".py",
   "mimetype": "text/x-python",
   "name": "python",
   "nbconvert_exporter": "python",
   "pygments_lexer": "ipython3",
   "version": "3.8.8"
  }
 },
 "nbformat": 4,
 "nbformat_minor": 4
}
