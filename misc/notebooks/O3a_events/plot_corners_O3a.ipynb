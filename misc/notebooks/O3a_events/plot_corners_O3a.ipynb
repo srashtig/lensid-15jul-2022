{
 "cells": [
  {
   "cell_type": "markdown",
   "id": "9dbfb280",
   "metadata": {},
   "source": [
    "# Works on CIT where posteriors are available"
   ]
  },
  {
   "cell_type": "code",
   "execution_count": 1,
   "id": "5eee1dfc",
   "metadata": {},
   "outputs": [],
   "source": [
    "import  numpy as np, os, sys, glob, json, h5py, argparse\n",
    "import seaborn as sns\n",
    "from pesummary.io import read\n",
    "#from pesummary.gw.file.read import read\n",
    "import matplotlib.pylab as plt\n",
    "import pandas as pd"
   ]
  },
  {
   "cell_type": "code",
   "execution_count": 2,
   "id": "095d0830-22c5-4b6c-bf97-24094347c1e2",
   "metadata": {},
   "outputs": [],
   "source": [
    "#base_dir = '/home1/srashti.goyal/strong-lensing-ml-backup-8aug21/' #Alice\n",
    "base_dir = '/home/srashti.goyal/strong-lensing-ml/' #CIT"
   ]
  },
  {
   "cell_type": "code",
   "execution_count": 3,
   "id": "f9791988",
   "metadata": {},
   "outputs": [
    {
     "data": {
      "text/html": [
       "<div>\n",
       "<style scoped>\n",
       "    .dataframe tbody tr th:only-of-type {\n",
       "        vertical-align: middle;\n",
       "    }\n",
       "\n",
       "    .dataframe tbody tr th {\n",
       "        vertical-align: top;\n",
       "    }\n",
       "\n",
       "    .dataframe thead th {\n",
       "        text-align: right;\n",
       "    }\n",
       "</style>\n",
       "<table border=\"1\" class=\"dataframe\">\n",
       "  <thead>\n",
       "    <tr style=\"text-align: right;\">\n",
       "      <th></th>\n",
       "      <th>event1</th>\n",
       "      <th>event2</th>\n",
       "      <th>blu</th>\n",
       "      <th>rlu_haris</th>\n",
       "      <th>rlu_anupreeta</th>\n",
       "    </tr>\n",
       "  </thead>\n",
       "  <tbody>\n",
       "    <tr>\n",
       "      <th>698</th>\n",
       "      <td>GW190930_133541</td>\n",
       "      <td>GW190828_065509</td>\n",
       "      <td>8.200000e-108</td>\n",
       "      <td>0.0704</td>\n",
       "      <td>0.461</td>\n",
       "    </tr>\n",
       "    <tr>\n",
       "      <th>699</th>\n",
       "      <td>GW190930_133541</td>\n",
       "      <td>GW190909_114149</td>\n",
       "      <td>6.460000e-82</td>\n",
       "      <td>0.1450</td>\n",
       "      <td>1.090</td>\n",
       "    </tr>\n",
       "    <tr>\n",
       "      <th>700</th>\n",
       "      <td>GW190930_133541</td>\n",
       "      <td>GW190910_112807</td>\n",
       "      <td>0.000000e+00</td>\n",
       "      <td>0.1560</td>\n",
       "      <td>1.190</td>\n",
       "    </tr>\n",
       "    <tr>\n",
       "      <th>701</th>\n",
       "      <td>GW190930_133541</td>\n",
       "      <td>GW190924_021846</td>\n",
       "      <td>0.000000e+00</td>\n",
       "      <td>0.6460</td>\n",
       "      <td>4.460</td>\n",
       "    </tr>\n",
       "    <tr>\n",
       "      <th>702</th>\n",
       "      <td>GW190930_133541</td>\n",
       "      <td>GW190929_012149</td>\n",
       "      <td>0.000000e+00</td>\n",
       "      <td>3.0200</td>\n",
       "      <td>9.520</td>\n",
       "    </tr>\n",
       "  </tbody>\n",
       "</table>\n",
       "</div>"
      ],
      "text/plain": [
       "              event1           event2            blu  rlu_haris  rlu_anupreeta\n",
       "698  GW190930_133541  GW190828_065509  8.200000e-108     0.0704          0.461\n",
       "699  GW190930_133541  GW190909_114149   6.460000e-82     0.1450          1.090\n",
       "700  GW190930_133541  GW190910_112807   0.000000e+00     0.1560          1.190\n",
       "701  GW190930_133541  GW190924_021846   0.000000e+00     0.6460          4.460\n",
       "702  GW190930_133541  GW190929_012149   0.000000e+00     3.0200          9.520"
      ]
     },
     "execution_count": 3,
     "metadata": {},
     "output_type": "execute_result"
    }
   ],
   "source": [
    "O3a_events_df=pd.read_csv(base_dir + 'data/O3a_events/O3a_blu.txt',delimiter='\\t')\n",
    "O3a_events_df.tail()"
   ]
  },
  {
   "cell_type": "code",
   "execution_count": 4,
   "id": "946546e2",
   "metadata": {},
   "outputs": [],
   "source": [
    "def read_pe_samples(fname,event_name):\n",
    "    data = read(fname)\n",
    "    if event_name=='GW190412' or event_name=='GW190814':\n",
    "        posterior_samples = data.samples_dict['C01:IMRPhenomPv3HM']\n",
    "    elif event_name=='GW190521':\n",
    "        posterior_samples = data.samples_dict['C01:NRSur7dq4']\n",
    "    else:\n",
    "        posterior_samples = data.samples_dict['C01:IMRPhenomPv2']\n",
    "    return posterior_samples"
   ]
  },
  {
   "cell_type": "code",
   "execution_count": 5,
   "id": "13c5a95f",
   "metadata": {},
   "outputs": [],
   "source": [
    "def read_pe_samples_h5py(fname,event_name):\n",
    "    data = h5py.File(fname,'r')\n",
    "    if event_name=='GW190412' or event_name=='GW190814':\n",
    "        posterior_samples = data['C01:IMRPhenomPv3HM']['posterior_samples']\n",
    "    elif event_name=='GW190521':\n",
    "        posterior_samples = data['C01:NRSur7dq4']['posterior_samples']\n",
    "    else:\n",
    "        posterior_samples = data['C01:IMRPhenomPv2']['posterior_samples']\n",
    "    return posterior_samples"
   ]
  },
  {
   "cell_type": "code",
   "execution_count": 6,
   "id": "b29ac040",
   "metadata": {},
   "outputs": [],
   "source": [
    "data_dir='/home/pe.o3/o3a_catalog/data_release/all_posterior_samples/'\n"
   ]
  },
  {
   "cell_type": "code",
   "execution_count": 107,
   "id": "ea4f4c80",
   "metadata": {},
   "outputs": [],
   "source": [
    "def make_sns_corner_plots_new_params(psamples1,psamples2,fname='test.png',inj_pars1=None,inj_pars2=None,kde=False):\n",
    "    \"\"\"Plot and save superposed KDE corner plots for the two images from posteriors.\"\"\"\n",
    "    samples1=pd.DataFrame()\n",
    "    samples2=pd.DataFrame()\n",
    "    samples1['m1'],samples1['m2']=psamples1['mass_1'],psamples1['mass_2']\n",
    "    samples1['dec']=np.sin(psamples1['ra'])\n",
    "    \n",
    "    samples2['m1'],samples2['m2']=psamples2['mass_1'],psamples2['mass_2']\n",
    "    samples2['dec']=np.sin(psamples2['dec'])\n",
    "\n",
    "    \n",
    "    keys = ['ra','theta_jn','psi','phase','geocent_time','luminosity_distance']\n",
    "    for key in keys:\n",
    "        samples1[key],samples2[key] = psamples1[key],psamples2[key]\n",
    "    samples1['img']=np.zeros(len(samples1['m1'])).astype(str)\n",
    "    samples2['img']=np.ones(len(samples2['m1'])).astype(str)\n",
    "    posteriors=pd.concat([samples1,samples2])\n",
    "    sns.set(font_scale=1.5)\n",
    "    posteriors=posteriors.rename(columns={\"m1\": \"$m_1$\", \"m2\": \"$m_2$\",'dec':'sin($\\delta$)','ra':'$\\\\alpha$','theta_jn':'$\\iota$','psi':'$\\psi$','phase':'$\\phi_0$','geocent_time': '$t_c$','luminosity_distance':'$d_L$'})\n",
    "    fig1 = sns.PairGrid(data= posteriors,vars = ['$m_1$','$m_2$','$\\\\alpha$','sin($\\delta$)','$\\iota$','$\\psi$','$\\phi_0$','$d_L$','$t_c$'],height=1.5,corner=True,hue='img')\n",
    "    if kde == True:\n",
    "        fig1 = sns.PairGrid(data= posteriors,vars = ['$m_1$','$m_2$','$\\\\alpha$','sin($\\delta$)','$\\iota$','$\\psi$','$\\phi_0$','$d_L$','$t_c$'],height=1.5,hue='img')\n",
    "        fig1 = fig1.map_lower(sns.kdeplot)#,shade=True,shade_lowest=False)\n",
    "\n",
    "    fig1 = fig1.map_lower(sns.histplot,pthresh=0.1)\n",
    "    \n",
    "    fig1 = fig1.map_diag(plt.hist,histtype='step', lw=2)\n",
    "    plt.subplots_adjust(hspace=0.05, wspace=0.05)\n",
    "    ndim=9\n",
    "    axes=fig1.axes\n",
    "        \n",
    "    for inj_pars in [inj_pars1,inj_pars2]:\n",
    "        if inj_pars is not None:\n",
    "            values = np.array([inj_pars['mass_1'],inj_pars['mass_2'],inj_pars['ra'],np.sin(inj_pars['dec']),inj_pars['theta_jn'],inj_pars['psi'],inj_pars['phase'],inj_pars['luminosity_distance'],inj_pars['geocent_time']])\n",
    "\n",
    "            for i in range(ndim):\n",
    "                ax = axes[i, i]\n",
    "                ax.axvline(values[i], color=\"gray\")\n",
    "            for yi in range(ndim):\n",
    "                for xi in range(yi):\n",
    "                    ax = axes[yi, xi]\n",
    "                    ax.axvline(values[xi], color=\"gray\")\n",
    "                    ax.axhline(values[yi], color=\"gray\")\n",
    "\n",
    " \n",
    "    plt.savefig(fname)\n",
    "    plt.close()\n",
    "    print('Done: ' + fname)"
   ]
  },
  {
   "cell_type": "code",
   "execution_count": 108,
   "id": "8e8e610c",
   "metadata": {},
   "outputs": [],
   "source": [
    "#!ls /home/pe.o3/o3a_catalog/data_release/all_posterior_samples/*_comoving.h5"
   ]
  },
  {
   "cell_type": "code",
   "execution_count": 109,
   "id": "ba65a254",
   "metadata": {},
   "outputs": [],
   "source": [
    "odir = 'corner_plots/'"
   ]
  },
  {
   "cell_type": "code",
   "execution_count": 110,
   "id": "7dfcd3c7",
   "metadata": {},
   "outputs": [],
   "source": [
    "def plot_corners_events(i):\n",
    "    posterior_file =data_dir + O3a_events_df['event1'][i]+'_comoving.h5'\n",
    "    posterior_samples1 = read_pe_samples_h5py(posterior_file,O3a_events_df['event1'][i][:8])\n",
    "    posterior_file =data_dir + O3a_events_df['event2'][i]+'_comoving.h5'\n",
    "    posterior_samples2 = read_pe_samples_h5py(posterior_file,O3a_events_df['event2'][i][:8])\n",
    "    fname=odir+O3a_events_df['event1'][i]+'-'+O3a_events_df['event2'][i]+'.png'\n",
    "    make_sns_corner_plots_new_params(posterior_samples1,posterior_samples2,fname=fname)"
   ]
  },
  {
   "cell_type": "code",
   "execution_count": 111,
   "id": "74c9a871-08e6-4d32-9aa9-7b1a6b832887",
   "metadata": {},
   "outputs": [],
   "source": [
    "i = 10\n",
    "posterior_file =data_dir + O3a_events_df['event1'][i]+'_comoving.h5'\n",
    "\n",
    "posterior_samples1 = read_pe_samples_h5py(posterior_file,O3a_events_df['event1'][i][:8])\n"
   ]
  },
  {
   "cell_type": "code",
   "execution_count": 112,
   "id": "8036e14f",
   "metadata": {},
   "outputs": [
    {
     "name": "stdout",
     "output_type": "stream",
     "text": [
      "Done: corner_plots/GW190408_181802-GW190521_074359.png\n"
     ]
    }
   ],
   "source": [
    "plot_corners_events(10)"
   ]
  },
  {
   "cell_type": "code",
   "execution_count": null,
   "id": "fd68a933",
   "metadata": {},
   "outputs": [],
   "source": []
  }
 ],
 "metadata": {
  "kernelspec": {
   "display_name": "Python 3 (ipykernel)",
   "language": "python",
   "name": "python3"
  },
  "language_info": {
   "codemirror_mode": {
    "name": "ipython",
    "version": 3
   },
   "file_extension": ".py",
   "mimetype": "text/x-python",
   "name": "python",
   "nbconvert_exporter": "python",
   "pygments_lexer": "ipython3",
   "version": "3.7.6"
  }
 },
 "nbformat": 4,
 "nbformat_minor": 5
}
