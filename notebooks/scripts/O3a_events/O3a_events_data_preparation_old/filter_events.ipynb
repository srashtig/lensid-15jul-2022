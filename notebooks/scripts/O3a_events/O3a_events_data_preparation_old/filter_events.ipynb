{
 "cells": [
  {
   "cell_type": "code",
   "execution_count": 1,
   "metadata": {},
   "outputs": [],
   "source": [
    "import pandas as pd\n",
    "import os"
   ]
  },
  {
   "cell_type": "code",
   "execution_count": 20,
   "metadata": {},
   "outputs": [],
   "source": [
    "o3a_events_df = pd.read_csv('../../../data/O3a_events/gwtc2_events.csv',index_col=0)"
   ]
  },
  {
   "cell_type": "code",
   "execution_count": 21,
   "metadata": {},
   "outputs": [
    {
     "data": {
      "text/html": [
       "<div>\n",
       "<style scoped>\n",
       "    .dataframe tbody tr th:only-of-type {\n",
       "        vertical-align: middle;\n",
       "    }\n",
       "\n",
       "    .dataframe tbody tr th {\n",
       "        vertical-align: top;\n",
       "    }\n",
       "\n",
       "    .dataframe thead th {\n",
       "        text-align: right;\n",
       "    }\n",
       "</style>\n",
       "<table border=\"1\" class=\"dataframe\">\n",
       "  <thead>\n",
       "    <tr style=\"text-align: right;\">\n",
       "      <th></th>\n",
       "      <th>commonName</th>\n",
       "      <th>GPS</th>\n",
       "      <th>chi_eff</th>\n",
       "      <th>chirp_mass</th>\n",
       "      <th>chirp_mass_source</th>\n",
       "      <th>far</th>\n",
       "      <th>far_unit</th>\n",
       "      <th>mass_1_source</th>\n",
       "      <th>mass_2_source</th>\n",
       "      <th>network_matched_filter_snr</th>\n",
       "      <th>redshift</th>\n",
       "      <th>version</th>\n",
       "      <th>name</th>\n",
       "      <th>graceid</th>\n",
       "      <th>superevent</th>\n",
       "    </tr>\n",
       "  </thead>\n",
       "  <tbody>\n",
       "    <tr>\n",
       "      <th>34</th>\n",
       "      <td>GW190910_112807</td>\n",
       "      <td>1.252150e+09</td>\n",
       "      <td>0.02</td>\n",
       "      <td>43.90</td>\n",
       "      <td>34.3</td>\n",
       "      <td>0.000019</td>\n",
       "      <td>1/yr</td>\n",
       "      <td>43.9</td>\n",
       "      <td>35.6</td>\n",
       "      <td>13.417373</td>\n",
       "      <td>0.28</td>\n",
       "      <td>1</td>\n",
       "      <td>GW190910_112807-v1</td>\n",
       "      <td>S190910s</td>\n",
       "      <td>S190910s</td>\n",
       "    </tr>\n",
       "    <tr>\n",
       "      <th>35</th>\n",
       "      <td>GW190915_235702</td>\n",
       "      <td>1.252627e+09</td>\n",
       "      <td>0.02</td>\n",
       "      <td>33.10</td>\n",
       "      <td>25.3</td>\n",
       "      <td>0.000010</td>\n",
       "      <td>1/yr</td>\n",
       "      <td>35.3</td>\n",
       "      <td>24.4</td>\n",
       "      <td>13.072092</td>\n",
       "      <td>0.30</td>\n",
       "      <td>1</td>\n",
       "      <td>GW190915_235702-v1</td>\n",
       "      <td>S190915ak</td>\n",
       "      <td>S190915ak</td>\n",
       "    </tr>\n",
       "    <tr>\n",
       "      <th>36</th>\n",
       "      <td>GW190924_021846</td>\n",
       "      <td>1.253327e+09</td>\n",
       "      <td>0.03</td>\n",
       "      <td>6.44</td>\n",
       "      <td>5.8</td>\n",
       "      <td>0.000010</td>\n",
       "      <td>1/yr</td>\n",
       "      <td>8.9</td>\n",
       "      <td>5.0</td>\n",
       "      <td>13.159038</td>\n",
       "      <td>0.12</td>\n",
       "      <td>1</td>\n",
       "      <td>GW190924_021846-v1</td>\n",
       "      <td>S190924h</td>\n",
       "      <td>S190924h</td>\n",
       "    </tr>\n",
       "    <tr>\n",
       "      <th>37</th>\n",
       "      <td>GW190929_012149</td>\n",
       "      <td>1.253755e+09</td>\n",
       "      <td>0.01</td>\n",
       "      <td>52.20</td>\n",
       "      <td>35.8</td>\n",
       "      <td>0.020161</td>\n",
       "      <td>1/yr</td>\n",
       "      <td>80.8</td>\n",
       "      <td>24.1</td>\n",
       "      <td>9.875629</td>\n",
       "      <td>0.38</td>\n",
       "      <td>1</td>\n",
       "      <td>GW190929_012149-v1</td>\n",
       "      <td>S190929d</td>\n",
       "      <td>S190929d</td>\n",
       "    </tr>\n",
       "    <tr>\n",
       "      <th>38</th>\n",
       "      <td>GW190930_133541</td>\n",
       "      <td>1.253886e+09</td>\n",
       "      <td>0.14</td>\n",
       "      <td>9.80</td>\n",
       "      <td>8.5</td>\n",
       "      <td>0.033092</td>\n",
       "      <td>1/yr</td>\n",
       "      <td>12.3</td>\n",
       "      <td>7.8</td>\n",
       "      <td>9.837638</td>\n",
       "      <td>0.15</td>\n",
       "      <td>1</td>\n",
       "      <td>GW190930_133541-v1</td>\n",
       "      <td>S190930s</td>\n",
       "      <td>S190930s</td>\n",
       "    </tr>\n",
       "  </tbody>\n",
       "</table>\n",
       "</div>"
      ],
      "text/plain": [
       "         commonName           GPS  chi_eff  chirp_mass  chirp_mass_source  \\\n",
       "34  GW190910_112807  1.252150e+09     0.02       43.90               34.3   \n",
       "35  GW190915_235702  1.252627e+09     0.02       33.10               25.3   \n",
       "36  GW190924_021846  1.253327e+09     0.03        6.44                5.8   \n",
       "37  GW190929_012149  1.253755e+09     0.01       52.20               35.8   \n",
       "38  GW190930_133541  1.253886e+09     0.14        9.80                8.5   \n",
       "\n",
       "         far far_unit  mass_1_source  mass_2_source  \\\n",
       "34  0.000019     1/yr           43.9           35.6   \n",
       "35  0.000010     1/yr           35.3           24.4   \n",
       "36  0.000010     1/yr            8.9            5.0   \n",
       "37  0.020161     1/yr           80.8           24.1   \n",
       "38  0.033092     1/yr           12.3            7.8   \n",
       "\n",
       "    network_matched_filter_snr  redshift  version                name  \\\n",
       "34                   13.417373      0.28        1  GW190910_112807-v1   \n",
       "35                   13.072092      0.30        1  GW190915_235702-v1   \n",
       "36                   13.159038      0.12        1  GW190924_021846-v1   \n",
       "37                    9.875629      0.38        1  GW190929_012149-v1   \n",
       "38                    9.837638      0.15        1  GW190930_133541-v1   \n",
       "\n",
       "      graceid superevent  \n",
       "34   S190910s   S190910s  \n",
       "35  S190915ak  S190915ak  \n",
       "36   S190924h   S190924h  \n",
       "37   S190929d   S190929d  \n",
       "38   S190930s   S190930s  "
      ]
     },
     "execution_count": 21,
     "metadata": {},
     "output_type": "execute_result"
    }
   ],
   "source": [
    "o3a_events_df.tail()"
   ]
  },
  {
   "cell_type": "code",
   "execution_count": 22,
   "metadata": {},
   "outputs": [],
   "source": [
    "o3a_events_df = o3a_events_df[o3a_events_df['mass_2_source']*(1+o3a_events_df['redshift'])>5]"
   ]
  },
  {
   "cell_type": "code",
   "execution_count": 23,
   "metadata": {},
   "outputs": [],
   "source": [
    "o3a_events_df.to_csv('../../../data/O3a_events/mass_filtered.csv')"
   ]
  },
  {
   "cell_type": "code",
   "execution_count": 19,
   "metadata": {},
   "outputs": [
    {
     "data": {
      "text/plain": [
       "36"
      ]
     },
     "execution_count": 19,
     "metadata": {},
     "output_type": "execute_result"
    }
   ],
   "source": [
    "len(o3a_events_df['name'])"
   ]
  },
  {
   "cell_type": "code",
   "execution_count": 6,
   "metadata": {},
   "outputs": [],
   "source": [
    "data_dir_qt ='../../../data/qts/gwtc-2'\n",
    "data_dir_sky='../../../data/bayestar_skymaps/gwtc-2'"
   ]
  },
  {
   "cell_type": "code",
   "execution_count": 7,
   "metadata": {},
   "outputs": [],
   "source": [
    "for det in ['H1','L1','V1']:\n",
    "    file_qt = data_dir_qt + '/'+det+'/' + o3a_events_df['name'].values + '.png'\n",
    "    o3a_events_df[det+ '-strain'] = [os.path.isfile(file) for file in file_qt]"
   ]
  },
  {
   "cell_type": "code",
   "execution_count": 8,
   "metadata": {},
   "outputs": [],
   "source": [
    "file_sky = data_dir_sky +'/' + o3a_events_df['name'].values + '.npz'\n",
    "o3a_events_df['skymap'] = [os.path.isfile(file) for file in file_sky]"
   ]
  },
  {
   "cell_type": "code",
   "execution_count": 9,
   "metadata": {},
   "outputs": [],
   "source": [
    "o3a_events_df_sky_filtered = o3a_events_df[o3a_events_df['skymap']==True].reset_index()"
   ]
  },
  {
   "cell_type": "code",
   "execution_count": 15,
   "metadata": {},
   "outputs": [
    {
     "data": {
      "text/plain": [
       "array(['GW190424_180648', 'GW190708_232457', 'GW190719_215514',\n",
       "       'GW190803_022701', 'GW190909_114149', 'GW190910_112807'],\n",
       "      dtype=object)"
      ]
     },
     "execution_count": 15,
     "metadata": {},
     "output_type": "execute_result"
    }
   ],
   "source": [
    "o3a_events_df[o3a_events_df['skymap']==False]['commonName']"
   ]
  },
  {
   "cell_type": "code",
   "execution_count": 10,
   "metadata": {},
   "outputs": [
    {
     "name": "stdout",
     "output_type": "stream",
     "text": [
      "no. of events for ML analysis: 30\n"
     ]
    }
   ],
   "source": [
    "print('no. of events for ML analysis: %d'%o3a_events_df_sky_filtered['name'].shape[0])"
   ]
  },
  {
   "cell_type": "code",
   "execution_count": 11,
   "metadata": {},
   "outputs": [],
   "source": [
    "o3a_events_df_sky_filtered.to_csv('../../../data/O3a_events/gwtc2_events_skyNmass_filtered.csv')"
   ]
  },
  {
   "cell_type": "code",
   "execution_count": 12,
   "metadata": {},
   "outputs": [
    {
     "name": "stdout",
     "output_type": "stream",
     "text": [
      "['GW190408_181802-v1' 'GW190412-v3' 'GW190413_052954-v1'\n",
      " 'GW190413_134308-v1' 'GW190421_213856-v1' 'GW190503_185404-v1'\n",
      " 'GW190512_180714-v1' 'GW190513_205428-v1' 'GW190514_065416-v1'\n",
      " 'GW190517_055101-v1' 'GW190519_153544-v1' 'GW190521-v3'\n",
      " 'GW190521_074359-v1' 'GW190527_092055-v1' 'GW190602_175927-v1'\n",
      " 'GW190620_030421-v1' 'GW190630_185205-v1' 'GW190701_203306-v1'\n",
      " 'GW190706_222641-v1' 'GW190707_093326-v1' 'GW190720_000836-v1'\n",
      " 'GW190727_060333-v1' 'GW190728_064510-v1' 'GW190731_140936-v1'\n",
      " 'GW190828_063405-v1' 'GW190828_065509-v1' 'GW190915_235702-v1'\n",
      " 'GW190924_021846-v1' 'GW190929_012149-v1' 'GW190930_133541-v1']\n"
     ]
    }
   ],
   "source": [
    "print(o3a_events_df_sky_filtered['name'].values)"
   ]
  },
  {
   "cell_type": "code",
   "execution_count": 13,
   "metadata": {},
   "outputs": [],
   "source": [
    "all_ready_idx = (o3a_events_df_sky_filtered['H1-strain'] == True) & (o3a_events_df_sky_filtered['V1-strain']==True ) & (o3a_events_df_sky_filtered['L1-strain']==True )\n",
    "o3a_events_df_all_filtered = o3a_events_df_sky_filtered[all_ready_idx].reset_index()"
   ]
  },
  {
   "cell_type": "code",
   "execution_count": 14,
   "metadata": {},
   "outputs": [
    {
     "name": "stdout",
     "output_type": "stream",
     "text": [
      "no. of events for full ML analysis: 21\n"
     ]
    }
   ],
   "source": [
    "print('no. of events for full ML analysis: %d'%o3a_events_df_all_filtered['name'].shape[0])"
   ]
  },
  {
   "cell_type": "code",
   "execution_count": null,
   "metadata": {},
   "outputs": [],
   "source": []
  }
 ],
 "metadata": {
  "kernelspec": {
   "display_name": "Python 3",
   "language": "python",
   "name": "python3"
  },
  "language_info": {
   "codemirror_mode": {
    "name": "ipython",
    "version": 3
   },
   "file_extension": ".py",
   "mimetype": "text/x-python",
   "name": "python",
   "nbconvert_exporter": "python",
   "pygments_lexer": "ipython3",
   "version": "3.7.9"
  }
 },
 "nbformat": 4,
 "nbformat_minor": 4
}
