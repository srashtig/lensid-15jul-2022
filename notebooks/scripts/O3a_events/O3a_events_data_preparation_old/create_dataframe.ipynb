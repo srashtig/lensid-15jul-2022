{
 "cells": [
  {
   "cell_type": "code",
   "execution_count": 2,
   "metadata": {},
   "outputs": [],
   "source": [
    "import numpy as np\n",
    "import pandas as pd\n",
    "from itertools import combinations \n",
    "import os"
   ]
  },
  {
   "cell_type": "code",
   "execution_count": 6,
   "metadata": {},
   "outputs": [
    {
     "name": "stdout",
     "output_type": "stream",
     "text": [
      "36 no. of events in total,  630  pairs\n",
      "Dataframe saved at  ../../../data/dataframes/O3a_events/filtered_mass_pairs.csv\n"
     ]
    }
   ],
   "source": [
    "o3a_events_df_sky_filtered = pd.read_csv('../../../data/O3a_events/mass_filtered.csv')\n",
    "odir = '../../../data/dataframes/O3a_events'\n",
    "name =  'filtered_mass_pairs.csv'\n",
    "cols = ['img_0', 'img_1', 'Lensing']\n",
    "ntot=len(o3a_events_df_sky_filtered['name'])\n",
    "ul_ids=np.arange(ntot)\n",
    "comb=np.array(list(combinations(ul_ids, 2) ))\n",
    "npairs=comb.shape[0]\n",
    "img1=o3a_events_df_sky_filtered['name'].values[comb[:,0]]\n",
    "img2=o3a_events_df_sky_filtered['name'].values[comb[:,1]]\n",
    "Unlensed_df_test=pd.DataFrame(columns=cols, index=range(npairs))\n",
    "Unlensed_df_test['img_0'] = img1\n",
    "Unlensed_df_test['img_1'] = img2\n",
    "Unlensed_df_test['Lensing']=None\n",
    "print(ntot , 'no. of events in total, ' , npairs,  ' pairs' )\n",
    "if not os.path.exists(odir):\n",
    "    os.makedirs(odir)\n",
    "outfile = odir + '/' +  name\n",
    "Unlensed_df_test.to_csv(outfile)\n",
    "print('Dataframe saved at ', outfile)"
   ]
  },
  {
   "cell_type": "code",
   "execution_count": null,
   "metadata": {},
   "outputs": [],
   "source": []
  }
 ],
 "metadata": {
  "kernelspec": {
   "display_name": "Python 3",
   "language": "python",
   "name": "python3"
  },
  "language_info": {
   "codemirror_mode": {
    "name": "ipython",
    "version": 3
   },
   "file_extension": ".py",
   "mimetype": "text/x-python",
   "name": "python",
   "nbconvert_exporter": "python",
   "pygments_lexer": "ipython3",
   "version": "3.7.9"
  }
 },
 "nbformat": 4,
 "nbformat_minor": 4
}
