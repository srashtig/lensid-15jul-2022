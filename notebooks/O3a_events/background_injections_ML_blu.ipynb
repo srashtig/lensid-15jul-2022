{
 "cells": [
  {
   "cell_type": "code",
   "execution_count": 1,
   "metadata": {},
   "outputs": [
    {
     "name": "stderr",
     "output_type": "stream",
     "text": [
      "2021-09-02 23:00:22.184107: W tensorflow/stream_executor/platform/default/dso_loader.cc:59] Could not load dynamic library 'libcudart.so.10.1'; dlerror: libcudart.so.10.1: cannot open shared object file: No such file or directory\n",
      "2021-09-02 23:00:22.184144: I tensorflow/stream_executor/cuda/cudart_stub.cc:29] Ignore above cudart dlerror if you do not have a GPU set up on your machine.\n"
     ]
    }
   ],
   "source": [
    "from lensid.utils.ml_utils import *"
   ]
  },
  {
   "cell_type": "code",
   "execution_count": 2,
   "metadata": {},
   "outputs": [],
   "source": [
    "indir = 'O3a_psd'\n",
    "base_dir = '/home/srashti.goyal/strong-lensing-ml/' #CIT\n",
    "#base_dir = '/home1/srashti.goyal/lensid/' #Alice"
   ]
  },
  {
   "cell_type": "code",
   "execution_count": 3,
   "metadata": {},
   "outputs": [],
   "source": [
    "# ML QT and skymap predictions"
   ]
  },
  {
   "cell_type": "raw",
   "metadata": {},
   "source": [
    "tag='_kaggle'\n",
    "xgb_qts = joblib.load(base_dir+ 'saved_models/XGBQT_0.pkl')\n",
    "#'../../training_cv/out/XGBQT_0'+tag+'.pkl') #'../../../saved_models/XGBQT_0.pkl'\n",
    "xgb_qts = joblib.load(base_dir+ 'saved_models/XGBsky_0.pkl')\n",
    "#'../../../saved_models/XGBsky_0.pkl')#'../../training_cv/out/XGBsky_0.pkl')\n"
   ]
  },
  {
   "cell_type": "raw",
   "metadata": {},
   "source": [
    "df_qts = pd.read_csv(base_dir+'data/dataframes/O3a_psd/unlensed_QTs'+tag+'.csv',index_col=0 )\n",
    "df_qts.tail()"
   ]
  },
  {
   "cell_type": "raw",
   "metadata": {},
   "source": [
    "df_qts=predict_xgboost_dense_qts(df_qts,xgb_qt)\n",
    "#df_qts.to_csv(base_dir+'data/dataframes/'+str(indir)+'/ML_QTs.csv')"
   ]
  },
  {
   "cell_type": "raw",
   "metadata": {},
   "source": [
    "df_sky = pd.read_csv(base_dir+'data/dataframes/O3a_psd/unlensed_sky.csv',index_col=0 )\n",
    "df_sky.tail()\n"
   ]
  },
  {
   "cell_type": "raw",
   "metadata": {},
   "source": [
    "df_sky=XGB_predict(df_sky,xgb_sky)\n",
    "#df_sky.to_csv(base_dir+'data/dataframes/'+str(indir)+'/ML_sky.csv')"
   ]
  },
  {
   "cell_type": "raw",
   "metadata": {},
   "source": [
    "df_sky.tail()"
   ]
  },
  {
   "cell_type": "markdown",
   "metadata": {},
   "source": [
    "# combine ML QT with ML sky"
   ]
  },
  {
   "cell_type": "code",
   "execution_count": 5,
   "metadata": {},
   "outputs": [],
   "source": [
    "df_sky = pd.read_csv(base_dir+'data/dataframes/'+str(indir)+'/ML_skymaps.csv',index_col=0)\n",
    "df_qts = pd.read_csv(base_dir+'data/dataframes/'+str(indir)+'/ML_QTs.csv',index_col=0)"
   ]
  },
  {
   "cell_type": "code",
   "execution_count": 6,
   "metadata": {},
   "outputs": [
    {
     "data": {
      "text/html": [
       "<div>\n",
       "<style scoped>\n",
       "    .dataframe tbody tr th:only-of-type {\n",
       "        vertical-align: middle;\n",
       "    }\n",
       "\n",
       "    .dataframe tbody tr th {\n",
       "        vertical-align: top;\n",
       "    }\n",
       "\n",
       "    .dataframe thead th {\n",
       "        text-align: right;\n",
       "    }\n",
       "</style>\n",
       "<table border=\"1\" class=\"dataframe\">\n",
       "  <thead>\n",
       "    <tr style=\"text-align: right;\">\n",
       "      <th></th>\n",
       "      <th>Unnamed: 0.1</th>\n",
       "      <th>img_0</th>\n",
       "      <th>img_1</th>\n",
       "      <th>Lensing</th>\n",
       "      <th>bayestar_skymaps_blu</th>\n",
       "      <th>bayestar_skymaps_d2</th>\n",
       "      <th>bayestar_skymaps_d3</th>\n",
       "      <th>bayestar_skymaps_lsq</th>\n",
       "      <th>xgb_pred_bayestar_skymaps</th>\n",
       "      <th>dense_H1</th>\n",
       "      <th>dense_L1</th>\n",
       "      <th>dense_V1</th>\n",
       "      <th>xgb_dense_QTS</th>\n",
       "      <th>densnet_xgbsky_bayestar_mul</th>\n",
       "    </tr>\n",
       "  </thead>\n",
       "  <tbody>\n",
       "    <tr>\n",
       "      <th>0</th>\n",
       "      <td>0</td>\n",
       "      <td>349_7964</td>\n",
       "      <td>869_20610</td>\n",
       "      <td>0</td>\n",
       "      <td>4.072401e-01</td>\n",
       "      <td>3.283530e-03</td>\n",
       "      <td>1.836408e-02</td>\n",
       "      <td>0.124739</td>\n",
       "      <td>0.000044</td>\n",
       "      <td>0.420908</td>\n",
       "      <td>0.345595</td>\n",
       "      <td>0.420908</td>\n",
       "      <td>0.013896</td>\n",
       "      <td>6.077419e-07</td>\n",
       "    </tr>\n",
       "    <tr>\n",
       "      <th>1</th>\n",
       "      <td>1</td>\n",
       "      <td>87_1712</td>\n",
       "      <td>444_9774</td>\n",
       "      <td>0</td>\n",
       "      <td>6.058658e-01</td>\n",
       "      <td>4.885025e-03</td>\n",
       "      <td>3.262989e-02</td>\n",
       "      <td>0.112392</td>\n",
       "      <td>0.000093</td>\n",
       "      <td>0.988433</td>\n",
       "      <td>0.348789</td>\n",
       "      <td>0.988433</td>\n",
       "      <td>0.090588</td>\n",
       "      <td>8.454442e-06</td>\n",
       "    </tr>\n",
       "    <tr>\n",
       "      <th>2</th>\n",
       "      <td>2</td>\n",
       "      <td>84_1646</td>\n",
       "      <td>958_22911</td>\n",
       "      <td>0</td>\n",
       "      <td>1.213890e-01</td>\n",
       "      <td>9.787452e-04</td>\n",
       "      <td>2.333766e-02</td>\n",
       "      <td>0.189109</td>\n",
       "      <td>0.000007</td>\n",
       "      <td>0.118847</td>\n",
       "      <td>0.395948</td>\n",
       "      <td>0.118847</td>\n",
       "      <td>0.009512</td>\n",
       "      <td>6.214978e-08</td>\n",
       "    </tr>\n",
       "    <tr>\n",
       "      <th>3</th>\n",
       "      <td>3</td>\n",
       "      <td>811_19205</td>\n",
       "      <td>828_19597</td>\n",
       "      <td>0</td>\n",
       "      <td>1.845745e-01</td>\n",
       "      <td>1.488203e-03</td>\n",
       "      <td>1.196060e-01</td>\n",
       "      <td>0.126833</td>\n",
       "      <td>0.000005</td>\n",
       "      <td>0.789831</td>\n",
       "      <td>0.001575</td>\n",
       "      <td>0.789831</td>\n",
       "      <td>0.001976</td>\n",
       "      <td>1.049568e-08</td>\n",
       "    </tr>\n",
       "    <tr>\n",
       "      <th>4</th>\n",
       "      <td>4</td>\n",
       "      <td>321_7163</td>\n",
       "      <td>775_18224</td>\n",
       "      <td>0</td>\n",
       "      <td>1.964691e-69</td>\n",
       "      <td>1.584108e-71</td>\n",
       "      <td>2.648536e-69</td>\n",
       "      <td>0.155190</td>\n",
       "      <td>0.000004</td>\n",
       "      <td>0.516854</td>\n",
       "      <td>0.997218</td>\n",
       "      <td>0.516854</td>\n",
       "      <td>0.021308</td>\n",
       "      <td>8.575646e-08</td>\n",
       "    </tr>\n",
       "    <tr>\n",
       "      <th>...</th>\n",
       "      <td>...</td>\n",
       "      <td>...</td>\n",
       "      <td>...</td>\n",
       "      <td>...</td>\n",
       "      <td>...</td>\n",
       "      <td>...</td>\n",
       "      <td>...</td>\n",
       "      <td>...</td>\n",
       "      <td>...</td>\n",
       "      <td>...</td>\n",
       "      <td>...</td>\n",
       "      <td>...</td>\n",
       "      <td>...</td>\n",
       "      <td>...</td>\n",
       "    </tr>\n",
       "    <tr>\n",
       "      <th>499495</th>\n",
       "      <td>499495</td>\n",
       "      <td>306_6850</td>\n",
       "      <td>456_10105</td>\n",
       "      <td>0</td>\n",
       "      <td>2.363801e-04</td>\n",
       "      <td>1.905905e-06</td>\n",
       "      <td>4.057649e-05</td>\n",
       "      <td>0.117501</td>\n",
       "      <td>0.000006</td>\n",
       "      <td>0.273736</td>\n",
       "      <td>0.023459</td>\n",
       "      <td>0.273736</td>\n",
       "      <td>0.013843</td>\n",
       "      <td>8.831075e-08</td>\n",
       "    </tr>\n",
       "    <tr>\n",
       "      <th>499496</th>\n",
       "      <td>499496</td>\n",
       "      <td>482_10680</td>\n",
       "      <td>724_17211</td>\n",
       "      <td>0</td>\n",
       "      <td>4.098724e-05</td>\n",
       "      <td>3.304753e-07</td>\n",
       "      <td>3.611864e-05</td>\n",
       "      <td>0.136351</td>\n",
       "      <td>0.000005</td>\n",
       "      <td>0.957928</td>\n",
       "      <td>0.972713</td>\n",
       "      <td>0.957928</td>\n",
       "      <td>0.072818</td>\n",
       "      <td>3.410517e-07</td>\n",
       "    </tr>\n",
       "    <tr>\n",
       "      <th>499497</th>\n",
       "      <td>499497</td>\n",
       "      <td>142_2958</td>\n",
       "      <td>228_5190</td>\n",
       "      <td>0</td>\n",
       "      <td>1.269400e-02</td>\n",
       "      <td>1.023503e-04</td>\n",
       "      <td>1.518596e-03</td>\n",
       "      <td>0.144315</td>\n",
       "      <td>0.000004</td>\n",
       "      <td>0.382746</td>\n",
       "      <td>0.218096</td>\n",
       "      <td>0.382746</td>\n",
       "      <td>0.011665</td>\n",
       "      <td>4.694576e-08</td>\n",
       "    </tr>\n",
       "    <tr>\n",
       "      <th>499498</th>\n",
       "      <td>499498</td>\n",
       "      <td>159_3507</td>\n",
       "      <td>747_17619</td>\n",
       "      <td>0</td>\n",
       "      <td>1.659888e-02</td>\n",
       "      <td>1.338349e-04</td>\n",
       "      <td>3.711476e-03</td>\n",
       "      <td>0.118080</td>\n",
       "      <td>0.000006</td>\n",
       "      <td>0.676317</td>\n",
       "      <td>0.997748</td>\n",
       "      <td>0.676317</td>\n",
       "      <td>0.033912</td>\n",
       "      <td>2.163488e-07</td>\n",
       "    </tr>\n",
       "    <tr>\n",
       "      <th>499499</th>\n",
       "      <td>499499</td>\n",
       "      <td>130_2764</td>\n",
       "      <td>604_13245</td>\n",
       "      <td>0</td>\n",
       "      <td>1.053389e+00</td>\n",
       "      <td>8.493354e-03</td>\n",
       "      <td>9.193208e-02</td>\n",
       "      <td>0.173223</td>\n",
       "      <td>0.000078</td>\n",
       "      <td>0.830010</td>\n",
       "      <td>0.030030</td>\n",
       "      <td>0.830010</td>\n",
       "      <td>0.021506</td>\n",
       "      <td>1.682370e-06</td>\n",
       "    </tr>\n",
       "  </tbody>\n",
       "</table>\n",
       "<p>499500 rows × 14 columns</p>\n",
       "</div>"
      ],
      "text/plain": [
       "        Unnamed: 0.1      img_0      img_1  Lensing  bayestar_skymaps_blu  \\\n",
       "0                  0   349_7964  869_20610        0          4.072401e-01   \n",
       "1                  1    87_1712   444_9774        0          6.058658e-01   \n",
       "2                  2    84_1646  958_22911        0          1.213890e-01   \n",
       "3                  3  811_19205  828_19597        0          1.845745e-01   \n",
       "4                  4   321_7163  775_18224        0          1.964691e-69   \n",
       "...              ...        ...        ...      ...                   ...   \n",
       "499495        499495   306_6850  456_10105        0          2.363801e-04   \n",
       "499496        499496  482_10680  724_17211        0          4.098724e-05   \n",
       "499497        499497   142_2958   228_5190        0          1.269400e-02   \n",
       "499498        499498   159_3507  747_17619        0          1.659888e-02   \n",
       "499499        499499   130_2764  604_13245        0          1.053389e+00   \n",
       "\n",
       "        bayestar_skymaps_d2  bayestar_skymaps_d3  bayestar_skymaps_lsq  \\\n",
       "0              3.283530e-03         1.836408e-02              0.124739   \n",
       "1              4.885025e-03         3.262989e-02              0.112392   \n",
       "2              9.787452e-04         2.333766e-02              0.189109   \n",
       "3              1.488203e-03         1.196060e-01              0.126833   \n",
       "4              1.584108e-71         2.648536e-69              0.155190   \n",
       "...                     ...                  ...                   ...   \n",
       "499495         1.905905e-06         4.057649e-05              0.117501   \n",
       "499496         3.304753e-07         3.611864e-05              0.136351   \n",
       "499497         1.023503e-04         1.518596e-03              0.144315   \n",
       "499498         1.338349e-04         3.711476e-03              0.118080   \n",
       "499499         8.493354e-03         9.193208e-02              0.173223   \n",
       "\n",
       "        xgb_pred_bayestar_skymaps  dense_H1  dense_L1  dense_V1  \\\n",
       "0                        0.000044  0.420908  0.345595  0.420908   \n",
       "1                        0.000093  0.988433  0.348789  0.988433   \n",
       "2                        0.000007  0.118847  0.395948  0.118847   \n",
       "3                        0.000005  0.789831  0.001575  0.789831   \n",
       "4                        0.000004  0.516854  0.997218  0.516854   \n",
       "...                           ...       ...       ...       ...   \n",
       "499495                   0.000006  0.273736  0.023459  0.273736   \n",
       "499496                   0.000005  0.957928  0.972713  0.957928   \n",
       "499497                   0.000004  0.382746  0.218096  0.382746   \n",
       "499498                   0.000006  0.676317  0.997748  0.676317   \n",
       "499499                   0.000078  0.830010  0.030030  0.830010   \n",
       "\n",
       "        xgb_dense_QTS  densnet_xgbsky_bayestar_mul  \n",
       "0            0.013896                 6.077419e-07  \n",
       "1            0.090588                 8.454442e-06  \n",
       "2            0.009512                 6.214978e-08  \n",
       "3            0.001976                 1.049568e-08  \n",
       "4            0.021308                 8.575646e-08  \n",
       "...               ...                          ...  \n",
       "499495       0.013843                 8.831075e-08  \n",
       "499496       0.072818                 3.410517e-07  \n",
       "499497       0.011665                 4.694576e-08  \n",
       "499498       0.033912                 2.163488e-07  \n",
       "499499       0.021506                 1.682370e-06  \n",
       "\n",
       "[499500 rows x 14 columns]"
      ]
     },
     "execution_count": 6,
     "metadata": {},
     "output_type": "execute_result"
    }
   ],
   "source": [
    "df_test=pd.merge(df_sky, df_qts, on=[\"img_0\", \"img_1\",\"Lensing\"])\n",
    "df_test=df_test.rename(columns={'xgb_dense_QTS_0':'xgb_dense_QTS'})\n",
    "df_test['densnet_xgbsky_bayestar_mul'] = df_test['xgb_dense_QTS']*df_test['xgb_pred_bayestar_skymaps']\n",
    "#df_test['densnet_xgbsky_pe_mul'] = df_test['xgb_dense_QTS']*df_test['xgb_pred_pe_skymaps']\n",
    "df_test"
   ]
  },
  {
   "cell_type": "code",
   "execution_count": 8,
   "metadata": {},
   "outputs": [],
   "source": [
    "tag='_git'\n",
    "df_test.to_csv(base_dir+'data/dataframes/'+str(indir)+'/ML_combined'+tag+'.csv')"
   ]
  },
  {
   "cell_type": "markdown",
   "metadata": {},
   "source": [
    "# Compare to the unlensed test set(haris et. al.)"
   ]
  },
  {
   "cell_type": "code",
   "execution_count": 15,
   "metadata": {},
   "outputs": [],
   "source": [
    "O3a_ml_df = pd.read_csv(base_dir+'data/dataframes/O3a_psd/ML_combined'+tag+'.csv',index_col=0)\n",
    "test_ml_df = pd.read_csv(base_dir+'data/dataframes/test/ML_combined_kaggle.csv')\n",
    "O3a_ml_df_analytical = pd.read_csv(base_dir+'data/dataframes/O3a_inj/ML_QTs_O3a_inj.csv',index_col=1)"
   ]
  },
  {
   "cell_type": "code",
   "execution_count": 16,
   "metadata": {},
   "outputs": [],
   "source": [
    "test_ml_df_ul = test_ml_df[test_ml_df['Lensing'] == 0]\n",
    "test_ml_df_l = test_ml_df[test_ml_df['Lensing'] == 1]"
   ]
  },
  {
   "cell_type": "code",
   "execution_count": 17,
   "metadata": {},
   "outputs": [
    {
     "data": {
      "image/png": "[encoded data removed]",
      "text/plain": [
       "<Figure size 1080x360 with 3 Axes>"
      ]
     },
     "metadata": {
      "needs_background": "light"
     },
     "output_type": "display_data"
    }
   ],
   "source": [
    "plt.figure(figsize=(15,5))\n",
    "plt.subplot(131)\n",
    "plt.xlabel('ML QTs')\n",
    "bins=np.linspace(-6,0,30)\n",
    "ml_stat='xgb_dense_QTS_0'\n",
    "#plt.ylim(-100,1e3)\n",
    "plt.hist(np.log10(O3a_ml_df[ml_stat[:-2]]),bins=bins,label='O3a Unlensed', histtype='step',density=True)\n",
    "plt.hist(np.log10(O3a_ml_df_analytical[ml_stat[:-2]]),bins=bins,label='O3a Unlensed(analytical)', histtype='step',density=True)\n",
    "\n",
    "plt.hist(np.log10(test_ml_df_ul[ml_stat]),bins=bins,label='test Unlensed', histtype='step',density=True)\n",
    "plt.hist(np.log10(test_ml_df_l[ml_stat]),bins=bins,label='test Lensed', histtype='step',density=True)\n",
    "plt.legend()\n",
    "\n",
    "plt.subplot(132)\n",
    "plt.xlabel('ML sky')\n",
    "bins=np.linspace(-6,0,30)\n",
    "ml_stat='xgb_pred_bayestar_skymaps'\n",
    "#plt.ylim(-100,1e3)\n",
    "plt.hist(np.log10(O3a_ml_df[ml_stat]),bins=bins,label='O3a Unlensed', histtype='step',density=True)\n",
    "plt.hist(np.log10(test_ml_df_ul[ml_stat]),bins=bins,label='test Unlensed', histtype='step',density=True)\n",
    "plt.hist(np.log10(test_ml_df_l[ml_stat]),bins=bins,label='test Lensed', histtype='step',density=True)\n",
    "plt.legend()\n",
    "\n",
    "plt.subplot(133)\n",
    "plt.xlabel('ML combined')\n",
    "bins=np.linspace(-11,0,30)\n",
    "ml_stat='densnet_xgbsky_bayestar_mul_0'\n",
    "\n",
    "#plt.ylim(-100,1e3)\n",
    "plt.hist(np.log10(O3a_ml_df[ml_stat[:-2]]),bins=bins,label='O3a Unlensed', histtype='step',density=True)\n",
    "plt.hist(np.log10(test_ml_df_ul[ml_stat]),bins=bins,label='test Unlensed', histtype='step',density=True)\n",
    "plt.hist(np.log10(test_ml_df_l[ml_stat]),bins=bins,label='test Lensed', histtype='step',density=True)\n",
    "plt.legend()\n",
    "plt.show()"
   ]
  },
  {
   "cell_type": "markdown",
   "metadata": {},
   "source": [
    "# Compare with BLU statistic for O3a injections"
   ]
  },
  {
   "cell_type": "code",
   "execution_count": 18,
   "metadata": {},
   "outputs": [
    {
     "data": {
      "text/html": [
       "<div>\n",
       "<style scoped>\n",
       "    .dataframe tbody tr th:only-of-type {\n",
       "        vertical-align: middle;\n",
       "    }\n",
       "\n",
       "    .dataframe tbody tr th {\n",
       "        vertical-align: top;\n",
       "    }\n",
       "\n",
       "    .dataframe thead th {\n",
       "        text-align: right;\n",
       "    }\n",
       "</style>\n",
       "<table border=\"1\" class=\"dataframe\">\n",
       "  <thead>\n",
       "    <tr style=\"text-align: right;\">\n",
       "      <th></th>\n",
       "      <th>img_0</th>\n",
       "      <th>img_1</th>\n",
       "      <th>blu</th>\n",
       "      <th>rlu</th>\n",
       "      <th>delta_t</th>\n",
       "      <th>Lensing</th>\n",
       "    </tr>\n",
       "  </thead>\n",
       "  <tbody>\n",
       "    <tr>\n",
       "      <th>483675</th>\n",
       "      <td>154_3332</td>\n",
       "      <td>287_6478</td>\n",
       "      <td>0.0</td>\n",
       "      <td>0.0906</td>\n",
       "      <td>0.611</td>\n",
       "      <td>0</td>\n",
       "    </tr>\n",
       "    <tr>\n",
       "      <th>483676</th>\n",
       "      <td>555_12168</td>\n",
       "      <td>356_8141</td>\n",
       "      <td>0.0</td>\n",
       "      <td>0.0358</td>\n",
       "      <td>0.147</td>\n",
       "      <td>0</td>\n",
       "    </tr>\n",
       "    <tr>\n",
       "      <th>483677</th>\n",
       "      <td>204_4567</td>\n",
       "      <td>368_8296</td>\n",
       "      <td>0.0</td>\n",
       "      <td>0.6480</td>\n",
       "      <td>4.520</td>\n",
       "      <td>0</td>\n",
       "    </tr>\n",
       "    <tr>\n",
       "      <th>483678</th>\n",
       "      <td>101_2087</td>\n",
       "      <td>113_2381</td>\n",
       "      <td>0.0</td>\n",
       "      <td>0.0112</td>\n",
       "      <td>0.000</td>\n",
       "      <td>0</td>\n",
       "    </tr>\n",
       "    <tr>\n",
       "      <th>483679</th>\n",
       "      <td>722_17163</td>\n",
       "      <td>383_8492</td>\n",
       "      <td>0.0</td>\n",
       "      <td>0.0182</td>\n",
       "      <td>0.033</td>\n",
       "      <td>0</td>\n",
       "    </tr>\n",
       "  </tbody>\n",
       "</table>\n",
       "</div>"
      ],
      "text/plain": [
       "            img_0     img_1  blu     rlu  delta_t  Lensing\n",
       "483675   154_3332  287_6478  0.0  0.0906    0.611        0\n",
       "483676  555_12168  356_8141  0.0  0.0358    0.147        0\n",
       "483677   204_4567  368_8296  0.0  0.6480    4.520        0\n",
       "483678   101_2087  113_2381  0.0  0.0112    0.000        0\n",
       "483679  722_17163  383_8492  0.0  0.0182    0.033        0"
      ]
     },
     "execution_count": 18,
     "metadata": {},
     "output_type": "execute_result"
    }
   ],
   "source": [
    "O3a_ml_df = pd.read_csv(base_dir+'data/dataframes/O3a_psd/ML_combined'+tag+'.csv',index_col=0)\n",
    "blu_haris_O3a_inj = pd.read_csv(base_dir+'data/dataframes/O3a_haris/blu_injections.csv',index_col=0)\n",
    "blu_haris_O3a_inj['Lensing'] = 0\n",
    "blu_haris_O3a_inj.tail()"
   ]
  },
  {
   "cell_type": "code",
   "execution_count": 19,
   "metadata": {},
   "outputs": [
    {
     "name": "stderr",
     "output_type": "stream",
     "text": [
      "/home/srashti.goyal/.conda/envs/igwn-py37-hanabi/lib/python3.7/site-packages/sklearn/metrics/_ranking.py:808: UndefinedMetricWarning: No positive samples in y_true, true positive value should be meaningless\n",
      "  UndefinedMetricWarning)\n",
      "/home/srashti.goyal/.local/lib/python3.7/site-packages/pandas/core/arraylike.py:358: RuntimeWarning: invalid value encountered in log10\n",
      "  result = getattr(ufunc, method)(*inputs, **kwargs)\n"
     ]
    },
    {
     "data": {
      "image/png": "[encoded data removed]",
      "text/plain": [
       "<Figure size 432x288 with 1 Axes>"
      ]
     },
     "metadata": {
      "needs_background": "light"
     },
     "output_type": "display_data"
    }
   ],
   "source": [
    "ml_stat= 'densnet_xgbsky_bayestar_mul'\n",
    "blu_stat='blu'\n",
    "O3a_ml_df[ml_stat+'_fpp']=get_fars(O3a_ml_df,ml_stat,O3a_ml_df,ml_stat)\n",
    "blu_haris_O3a_inj[blu_stat+'_fpp']=get_fars(blu_haris_O3a_inj,blu_stat,blu_haris_O3a_inj,blu_stat)\n",
    "bins=np.linspace(-5,0,30)\n",
    "plt.hist(np.log10(O3a_ml_df[ml_stat+'_fpp']),bins=bins,label='ML Unlensed', histtype='step',density=True,color='C0',lw=2,ls='dashed')\n",
    "plt.hist(np.log10(blu_haris_O3a_inj[blu_stat+'_fpp']),bins=bins,label='BLU Unlensed', histtype='step',density=True,color='C1',lw=2)\n",
    "plt.legend()\n",
    "plt.xlabel('FPP(log10)')\n",
    "plt.ylabel('PDF')\n",
    "plt.grid()\n",
    "plt.show()"
   ]
  },
  {
   "cell_type": "code",
   "execution_count": 20,
   "metadata": {},
   "outputs": [
    {
     "name": "stderr",
     "output_type": "stream",
     "text": [
      "/home/srashti.goyal/.conda/envs/igwn-py37-hanabi/lib/python3.7/site-packages/sklearn/metrics/_ranking.py:808: UndefinedMetricWarning: No positive samples in y_true, true positive value should be meaningless\n",
      "  UndefinedMetricWarning)\n",
      "/home/srashti.goyal/.conda/envs/igwn-py37-hanabi/lib/python3.7/site-packages/sklearn/metrics/_ranking.py:808: UndefinedMetricWarning: No positive samples in y_true, true positive value should be meaningless\n",
      "  UndefinedMetricWarning)\n",
      "/home/srashti.goyal/.conda/envs/igwn-py37-hanabi/lib/python3.7/site-packages/sklearn/metrics/_ranking.py:808: UndefinedMetricWarning: No positive samples in y_true, true positive value should be meaningless\n",
      "  UndefinedMetricWarning)\n"
     ]
    },
    {
     "data": {
      "image/png": "[encoded data removed]",
      "text/plain": [
       "<Figure size 432x288 with 1 Axes>"
      ]
     },
     "metadata": {
      "needs_background": "light"
     },
     "output_type": "display_data"
    }
   ],
   "source": [
    "bins=np.linspace(-5,0,30)\n",
    "\n",
    "ml_stat= 'densnet_xgbsky_bayestar_mul'\n",
    "O3a_ml_df[ml_stat+'_fpp']=get_fars(O3a_ml_df,ml_stat,O3a_ml_df,ml_stat)\n",
    "plt.hist(np.log10(O3a_ml_df[ml_stat+'_fpp']),bins=bins,label='ML Unlensed', histtype='step',density=True,lw=2,ls='dashed')\n",
    "\n",
    "ml_stat= 'xgb_pred_bayestar_skymaps'\n",
    "O3a_ml_df[ml_stat+'_fpp']=get_fars(O3a_ml_df,ml_stat,O3a_ml_df,ml_stat)\n",
    "plt.hist(np.log10(O3a_ml_df[ml_stat+'_fpp']),bins=bins,label='ML sky Unlensed', histtype='step',density=True,lw=2,ls='dashed')\n",
    "\n",
    "ml_stat= 'xgb_dense_QTS'\n",
    "O3a_ml_df[ml_stat+'_fpp']=get_fars(O3a_ml_df,ml_stat,O3a_ml_df,ml_stat)\n",
    "plt.hist(np.log10(O3a_ml_df[ml_stat+'_fpp']),bins=bins,label='ML qts Unlensed', histtype='step',density=True,lw=2,ls='dashed')\n",
    "\n",
    "plt.legend()\n",
    "plt.xlabel('FPP(log10)')\n",
    "plt.ylabel('PDF')\n",
    "plt.grid()\n",
    "plt.show()"
   ]
  },
  {
   "cell_type": "raw",
   "metadata": {},
   "source": []
  }
 ],
 "metadata": {
  "kernelspec": {
   "display_name": "Python 3 (ipykernel)",
   "language": "python",
   "name": "python3"
  },
  "language_info": {
   "codemirror_mode": {
    "name": "ipython",
    "version": 3
   },
   "file_extension": ".py",
   "mimetype": "text/x-python",
   "name": "python",
   "nbconvert_exporter": "python",
   "pygments_lexer": "ipython3",
   "version": "3.7.6"
  }
 },
 "nbformat": 4,
 "nbformat_minor": 4
}
