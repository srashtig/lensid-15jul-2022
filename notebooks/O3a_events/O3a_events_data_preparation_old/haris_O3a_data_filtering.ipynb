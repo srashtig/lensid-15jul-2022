{
 "cells": [
  {
   "cell_type": "code",
   "execution_count": 2,
   "metadata": {},
   "outputs": [],
   "source": [
    "import numpy as np\n",
    "import pandas as pd\n",
    "from numpy.core.defchararray import add\n"
   ]
  },
  {
   "cell_type": "code",
   "execution_count": 2,
   "metadata": {},
   "outputs": [],
   "source": [
    "inj_file = '../data/injection_pars/O3a/injections_samples_o3a_newrun_Belczynski_image1_LHV_withsnr.dat'\n",
    "data =np.genfromtxt(inj_file,names=True)\n"
   ]
  },
  {
   "cell_type": "code",
   "execution_count": 3,
   "metadata": {},
   "outputs": [
    {
     "name": "stdout",
     "output_type": "stream",
     "text": [
      "1263\n"
     ]
    }
   ],
   "source": [
    "snr = data['snr']\n",
    "idx = (np.where(snr>10))[0]\n",
    "print(len(idx)) "
   ]
  },
  {
   "cell_type": "code",
   "execution_count": 4,
   "metadata": {},
   "outputs": [
    {
     "data": {
      "text/plain": [
       "array([   27,    29,    41, ..., 29890, 29929, 29961])"
      ]
     },
     "execution_count": 4,
     "metadata": {},
     "output_type": "execute_result"
    }
   ],
   "source": [
    "idx"
   ]
  },
  {
   "cell_type": "code",
   "execution_count": 5,
   "metadata": {},
   "outputs": [],
   "source": [
    "data_haris_et = dict(np.load(\"../data/injection_pars/haris-et-al/unlensed_inj_data.npz\"))\n"
   ]
  },
  {
   "cell_type": "code",
   "execution_count": 6,
   "metadata": {},
   "outputs": [
    {
     "data": {
      "text/plain": [
       "dict_keys(['data_dir', 'event_tag', 'm1z', 'm2z', 'iota', 'ra', 'dec', 'tc', 'ldistance', 'snr', 'phi0', 'pol'])"
      ]
     },
     "execution_count": 6,
     "metadata": {},
     "output_type": "execute_result"
    }
   ],
   "source": [
    "data_haris_et.keys()"
   ]
  },
  {
   "cell_type": "code",
   "execution_count": 20,
   "metadata": {},
   "outputs": [],
   "source": [
    "filtered_data = {}\n",
    "n=1000\n",
    "filtered_data['event_tag'] = add(add(np.arange(n).astype(str) ,'_'), idx[:n].astype(str))"
   ]
  },
  {
   "cell_type": "code",
   "execution_count": 21,
   "metadata": {},
   "outputs": [],
   "source": [
    "filtered_data['m1z'] = data['m1z'][idx[:n]]\n",
    "filtered_data['ldistance'] = data['ldistance'][idx[:n]]\n",
    "filtered_data['m2z'] = data['m2z'][idx[:n]]\n",
    "filtered_data['ra'] =  data['ra'][idx[:n]]\n",
    "filtered_data['dec'] = data['dec'][idx[:n]]\n",
    "filtered_data['iota'] = data['theta_jn'][idx[:n]]\n",
    "filtered_data['a_1 ']= data['a_1'][idx[:n]]\n",
    "filtered_data['a_2 ']= data['a_2'][idx[:n]]\n",
    "filtered_data['tilt_1'] = data['tilt_1'][idx[:n]]\n",
    "filtered_data['tilt_2'] = data['tilt_2'][idx[:n]]\n",
    "filtered_data['phi_jl'] = data['phi_jl'][idx[:n]]\n",
    "filtered_data['phi_12'] = data['phi_12'][idx[:n]]\n",
    "filtered_data['pol'] = data['psi'][idx[:n]]\n",
    "filtered_data['phi0'] = data['phase'][idx[:n]]\n",
    "filtered_data['tc'] = data['t0'][idx[:n]]\n",
    "filtered_data['f_ref'] = data['f_ref'][idx[:n]]\n",
    "filtered_data['snr'] = data['snr'][idx[:n]]\n"
   ]
  },
  {
   "cell_type": "code",
   "execution_count": 22,
   "metadata": {},
   "outputs": [],
   "source": [
    "#filtered_data['event_tag']"
   ]
  },
  {
   "cell_type": "code",
   "execution_count": 23,
   "metadata": {},
   "outputs": [],
   "source": [
    "np.savez(inj_file[:-4]+'_filtered',**filtered_data)"
   ]
  },
  {
   "cell_type": "code",
   "execution_count": 24,
   "metadata": {},
   "outputs": [],
   "source": [
    "read = dict(np.load('../data/injection_pars/O3a/injections_samples_o3a_newrun_Belczynski_image1_LHV_withsnr_filtered.npz'))"
   ]
  },
  {
   "cell_type": "markdown",
   "metadata": {},
   "source": [
    "# blus"
   ]
  },
  {
   "cell_type": "code",
   "execution_count": 4,
   "metadata": {},
   "outputs": [],
   "source": [
    "blu_df=pd.read_csv('../../data/injection_pars/O3a/bg_bayes_factors.txt',delimiter='\\t',header=None)\n",
    "\n",
    "#n=len(blu_df[0].values)\n",
    "#filtered_blu_df = pd.DataFrame()\n",
    "#filtered_blu_df['img0'] = [blu_df[0].astype('str').values[i][2:-2] for i in range(n)]"
   ]
  },
  {
   "cell_type": "code",
   "execution_count": 14,
   "metadata": {},
   "outputs": [
    {
     "data": {
      "text/html": [
       "<div>\n",
       "<style scoped>\n",
       "    .dataframe tbody tr th:only-of-type {\n",
       "        vertical-align: middle;\n",
       "    }\n",
       "\n",
       "    .dataframe tbody tr th {\n",
       "        vertical-align: top;\n",
       "    }\n",
       "\n",
       "    .dataframe thead th {\n",
       "        text-align: right;\n",
       "    }\n",
       "</style>\n",
       "<table border=\"1\" class=\"dataframe\">\n",
       "  <thead>\n",
       "    <tr style=\"text-align: right;\">\n",
       "      <th></th>\n",
       "      <th>0</th>\n",
       "      <th>1</th>\n",
       "      <th>2</th>\n",
       "      <th>3</th>\n",
       "      <th>4</th>\n",
       "    </tr>\n",
       "  </thead>\n",
       "  <tbody>\n",
       "    <tr>\n",
       "      <th>483675</th>\n",
       "      <td>b'154_3332'</td>\n",
       "      <td>b'287_6478'</td>\n",
       "      <td>0.0</td>\n",
       "      <td>0.0906</td>\n",
       "      <td>0.611</td>\n",
       "    </tr>\n",
       "    <tr>\n",
       "      <th>483676</th>\n",
       "      <td>b'555_12168'</td>\n",
       "      <td>b'356_8141'</td>\n",
       "      <td>0.0</td>\n",
       "      <td>0.0358</td>\n",
       "      <td>0.147</td>\n",
       "    </tr>\n",
       "    <tr>\n",
       "      <th>483677</th>\n",
       "      <td>b'204_4567'</td>\n",
       "      <td>b'368_8296'</td>\n",
       "      <td>0.0</td>\n",
       "      <td>0.6480</td>\n",
       "      <td>4.520</td>\n",
       "    </tr>\n",
       "    <tr>\n",
       "      <th>483678</th>\n",
       "      <td>b'101_2087'</td>\n",
       "      <td>b'113_2381'</td>\n",
       "      <td>0.0</td>\n",
       "      <td>0.0112</td>\n",
       "      <td>0.000</td>\n",
       "    </tr>\n",
       "    <tr>\n",
       "      <th>483679</th>\n",
       "      <td>b'722_17163'</td>\n",
       "      <td>b'383_8492'</td>\n",
       "      <td>0.0</td>\n",
       "      <td>0.0182</td>\n",
       "      <td>0.033</td>\n",
       "    </tr>\n",
       "  </tbody>\n",
       "</table>\n",
       "</div>"
      ],
      "text/plain": [
       "                   0            1    2       3      4\n",
       "483675   b'154_3332'  b'287_6478'  0.0  0.0906  0.611\n",
       "483676  b'555_12168'  b'356_8141'  0.0  0.0358  0.147\n",
       "483677   b'204_4567'  b'368_8296'  0.0  0.6480  4.520\n",
       "483678   b'101_2087'  b'113_2381'  0.0  0.0112  0.000\n",
       "483679  b'722_17163'  b'383_8492'  0.0  0.0182  0.033"
      ]
     },
     "execution_count": 14,
     "metadata": {},
     "output_type": "execute_result"
    }
   ],
   "source": [
    "blu_df.tail()"
   ]
  },
  {
   "cell_type": "code",
   "execution_count": 48,
   "metadata": {},
   "outputs": [],
   "source": [
    "blu_df=blu_df.rename(columns={0: 'img_0',1:'img_1',2:'blu',3:'rlu',4:'delta_t'})"
   ]
  },
  {
   "cell_type": "code",
   "execution_count": 49,
   "metadata": {},
   "outputs": [],
   "source": [
    "blu_df['img_0']=blu_df['img_0'].astype('string')\n",
    "blu_df['img_1']=blu_df['img_1'].astype('string')"
   ]
  },
  {
   "cell_type": "code",
   "execution_count": 50,
   "metadata": {},
   "outputs": [],
   "source": [
    "blu_df.img_0=blu_df.img_0.str.replace(\"b'\", \"\")\n",
    "blu_df.img_1=blu_df.img_1.str.replace(\"b'\", \"\")\n",
    "blu_df.img_0=blu_df.img_0.str.replace(\"'\", \"\")\n",
    "blu_df.img_1=blu_df.img_1.str.replace(\"'\", \"\")"
   ]
  },
  {
   "cell_type": "code",
   "execution_count": 52,
   "metadata": {},
   "outputs": [
    {
     "data": {
      "text/html": [
       "<div>\n",
       "<style scoped>\n",
       "    .dataframe tbody tr th:only-of-type {\n",
       "        vertical-align: middle;\n",
       "    }\n",
       "\n",
       "    .dataframe tbody tr th {\n",
       "        vertical-align: top;\n",
       "    }\n",
       "\n",
       "    .dataframe thead th {\n",
       "        text-align: right;\n",
       "    }\n",
       "</style>\n",
       "<table border=\"1\" class=\"dataframe\">\n",
       "  <thead>\n",
       "    <tr style=\"text-align: right;\">\n",
       "      <th></th>\n",
       "      <th>img_0</th>\n",
       "      <th>img_1</th>\n",
       "      <th>blu</th>\n",
       "      <th>rlu</th>\n",
       "      <th>delta_t</th>\n",
       "    </tr>\n",
       "  </thead>\n",
       "  <tbody>\n",
       "    <tr>\n",
       "      <th>483675</th>\n",
       "      <td>154_3332</td>\n",
       "      <td>287_6478</td>\n",
       "      <td>0.0</td>\n",
       "      <td>0.0906</td>\n",
       "      <td>0.611</td>\n",
       "    </tr>\n",
       "    <tr>\n",
       "      <th>483676</th>\n",
       "      <td>555_12168</td>\n",
       "      <td>356_8141</td>\n",
       "      <td>0.0</td>\n",
       "      <td>0.0358</td>\n",
       "      <td>0.147</td>\n",
       "    </tr>\n",
       "    <tr>\n",
       "      <th>483677</th>\n",
       "      <td>204_4567</td>\n",
       "      <td>368_8296</td>\n",
       "      <td>0.0</td>\n",
       "      <td>0.6480</td>\n",
       "      <td>4.520</td>\n",
       "    </tr>\n",
       "    <tr>\n",
       "      <th>483678</th>\n",
       "      <td>101_2087</td>\n",
       "      <td>113_2381</td>\n",
       "      <td>0.0</td>\n",
       "      <td>0.0112</td>\n",
       "      <td>0.000</td>\n",
       "    </tr>\n",
       "    <tr>\n",
       "      <th>483679</th>\n",
       "      <td>722_17163</td>\n",
       "      <td>383_8492</td>\n",
       "      <td>0.0</td>\n",
       "      <td>0.0182</td>\n",
       "      <td>0.033</td>\n",
       "    </tr>\n",
       "  </tbody>\n",
       "</table>\n",
       "</div>"
      ],
      "text/plain": [
       "            img_0     img_1  blu     rlu  delta_t\n",
       "483675   154_3332  287_6478  0.0  0.0906    0.611\n",
       "483676  555_12168  356_8141  0.0  0.0358    0.147\n",
       "483677   204_4567  368_8296  0.0  0.6480    4.520\n",
       "483678   101_2087  113_2381  0.0  0.0112    0.000\n",
       "483679  722_17163  383_8492  0.0  0.0182    0.033"
      ]
     },
     "execution_count": 52,
     "metadata": {},
     "output_type": "execute_result"
    }
   ],
   "source": [
    "blu_df.tail()"
   ]
  },
  {
   "cell_type": "code",
   "execution_count": 53,
   "metadata": {},
   "outputs": [],
   "source": [
    "blu_df.to_csv('../../data/dataframes/O3a_haris/blu_injections.csv')"
   ]
  }
 ],
 "metadata": {
  "kernelspec": {
   "display_name": "Python 3",
   "language": "python",
   "name": "python3"
  },
  "language_info": {
   "codemirror_mode": {
    "name": "ipython",
    "version": 3
   },
   "file_extension": ".py",
   "mimetype": "text/x-python",
   "name": "python",
   "nbconvert_exporter": "python",
   "pygments_lexer": "ipython3",
   "version": "3.7.9"
  }
 },
 "nbformat": 4,
 "nbformat_minor": 4
}
